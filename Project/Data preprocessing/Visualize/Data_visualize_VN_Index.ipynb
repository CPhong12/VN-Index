{
 "cells": [
  {
   "cell_type": "code",
   "execution_count": 1,
   "metadata": {},
   "outputs": [],
   "source": [
    "import pandas as pd\n",
    "import matplotlib.pyplot as plt\n",
    "import seaborn as sns\n",
    "import numpy as np\n",
    "import plotly.express as px\n",
    "import plotly.graph_objects as go"
   ]
  },
  {
   "cell_type": "markdown",
   "metadata": {},
   "source": [
    "## VN-Index (months)"
   ]
  },
  {
   "cell_type": "code",
   "execution_count": 2,
   "metadata": {},
   "outputs": [],
   "source": [
    "df = pd.read_csv(\"C:\\Code\\VN-Index\\Raw Data\\VN Index Historical Data (months).csv\")"
   ]
  },
  {
   "cell_type": "code",
   "execution_count": 3,
   "metadata": {},
   "outputs": [
    {
     "data": {
      "text/plain": [
       "<bound method NDFrame.head of            Date     Price      Open      High       Low     Vol. Change %\n",
       "0    09/01/2024  1,251.71  1,283.87  1,283.87  1,244.79      NaN   -2.50%\n",
       "1    08/01/2024  1,283.87  1,251.51  1,290.45  1,184.53   15.47B    2.59%\n",
       "2    07/01/2024  1,251.51  1,245.32  1,297.96  1,218.65   15.64M    0.50%\n",
       "3    06/01/2024  1,245.32  1,261.72  1,306.01  1,240.15   18.12M   -1.30%\n",
       "4    05/01/2024  1,261.72  1,212.13  1,285.63  1,206.28   19.39M    4.32%\n",
       "..          ...       ...       ...       ...       ...      ...      ...\n",
       "136  05/01/2013    518.39    474.54    526.58    470.81    1.50M    9.25%\n",
       "137  04/01/2013    474.51    490.66    518.46    466.56  926.70K   -3.37%\n",
       "138  03/01/2013    491.04    476.51    500.59    461.61    1.05M    3.47%\n",
       "139  02/01/2013    474.56    477.11    497.87    459.64    1.15M   -1.09%\n",
       "140  01/01/2013    479.79    415.50    490.89    413.68    1.83M   15.97%\n",
       "\n",
       "[141 rows x 7 columns]>"
      ]
     },
     "execution_count": 3,
     "metadata": {},
     "output_type": "execute_result"
    }
   ],
   "source": [
    "df.head"
   ]
  },
  {
   "cell_type": "code",
   "execution_count": 4,
   "metadata": {},
   "outputs": [
    {
     "data": {
      "text/html": [
       "<div>\n",
       "<style scoped>\n",
       "    .dataframe tbody tr th:only-of-type {\n",
       "        vertical-align: middle;\n",
       "    }\n",
       "\n",
       "    .dataframe tbody tr th {\n",
       "        vertical-align: top;\n",
       "    }\n",
       "\n",
       "    .dataframe thead th {\n",
       "        text-align: right;\n",
       "    }\n",
       "</style>\n",
       "<table border=\"1\" class=\"dataframe\">\n",
       "  <thead>\n",
       "    <tr style=\"text-align: right;\">\n",
       "      <th></th>\n",
       "      <th>Date</th>\n",
       "      <th>Price</th>\n",
       "      <th>Open</th>\n",
       "      <th>High</th>\n",
       "      <th>Low</th>\n",
       "      <th>Vol.</th>\n",
       "      <th>Change %</th>\n",
       "    </tr>\n",
       "  </thead>\n",
       "  <tbody>\n",
       "    <tr>\n",
       "      <th>136</th>\n",
       "      <td>05/01/2013</td>\n",
       "      <td>518.39</td>\n",
       "      <td>474.54</td>\n",
       "      <td>526.58</td>\n",
       "      <td>470.81</td>\n",
       "      <td>1.50M</td>\n",
       "      <td>9.25%</td>\n",
       "    </tr>\n",
       "    <tr>\n",
       "      <th>137</th>\n",
       "      <td>04/01/2013</td>\n",
       "      <td>474.51</td>\n",
       "      <td>490.66</td>\n",
       "      <td>518.46</td>\n",
       "      <td>466.56</td>\n",
       "      <td>926.70K</td>\n",
       "      <td>-3.37%</td>\n",
       "    </tr>\n",
       "    <tr>\n",
       "      <th>138</th>\n",
       "      <td>03/01/2013</td>\n",
       "      <td>491.04</td>\n",
       "      <td>476.51</td>\n",
       "      <td>500.59</td>\n",
       "      <td>461.61</td>\n",
       "      <td>1.05M</td>\n",
       "      <td>3.47%</td>\n",
       "    </tr>\n",
       "    <tr>\n",
       "      <th>139</th>\n",
       "      <td>02/01/2013</td>\n",
       "      <td>474.56</td>\n",
       "      <td>477.11</td>\n",
       "      <td>497.87</td>\n",
       "      <td>459.64</td>\n",
       "      <td>1.15M</td>\n",
       "      <td>-1.09%</td>\n",
       "    </tr>\n",
       "    <tr>\n",
       "      <th>140</th>\n",
       "      <td>01/01/2013</td>\n",
       "      <td>479.79</td>\n",
       "      <td>415.50</td>\n",
       "      <td>490.89</td>\n",
       "      <td>413.68</td>\n",
       "      <td>1.83M</td>\n",
       "      <td>15.97%</td>\n",
       "    </tr>\n",
       "  </tbody>\n",
       "</table>\n",
       "</div>"
      ],
      "text/plain": [
       "           Date   Price    Open    High     Low     Vol. Change %\n",
       "136  05/01/2013  518.39  474.54  526.58  470.81    1.50M    9.25%\n",
       "137  04/01/2013  474.51  490.66  518.46  466.56  926.70K   -3.37%\n",
       "138  03/01/2013  491.04  476.51  500.59  461.61    1.05M    3.47%\n",
       "139  02/01/2013  474.56  477.11  497.87  459.64    1.15M   -1.09%\n",
       "140  01/01/2013  479.79  415.50  490.89  413.68    1.83M   15.97%"
      ]
     },
     "execution_count": 4,
     "metadata": {},
     "output_type": "execute_result"
    }
   ],
   "source": [
    "df.tail()"
   ]
  },
  {
   "cell_type": "code",
   "execution_count": 5,
   "metadata": {},
   "outputs": [
    {
     "data": {
      "text/html": [
       "<div>\n",
       "<style scoped>\n",
       "    .dataframe tbody tr th:only-of-type {\n",
       "        vertical-align: middle;\n",
       "    }\n",
       "\n",
       "    .dataframe tbody tr th {\n",
       "        vertical-align: top;\n",
       "    }\n",
       "\n",
       "    .dataframe thead th {\n",
       "        text-align: right;\n",
       "    }\n",
       "</style>\n",
       "<table border=\"1\" class=\"dataframe\">\n",
       "  <thead>\n",
       "    <tr style=\"text-align: right;\">\n",
       "      <th></th>\n",
       "      <th>Date</th>\n",
       "      <th>Price</th>\n",
       "      <th>Open</th>\n",
       "      <th>High</th>\n",
       "      <th>Low</th>\n",
       "      <th>Vol.</th>\n",
       "      <th>Change %</th>\n",
       "    </tr>\n",
       "  </thead>\n",
       "  <tbody>\n",
       "    <tr>\n",
       "      <th>count</th>\n",
       "      <td>141</td>\n",
       "      <td>141</td>\n",
       "      <td>141</td>\n",
       "      <td>141</td>\n",
       "      <td>141</td>\n",
       "      <td>140</td>\n",
       "      <td>141</td>\n",
       "    </tr>\n",
       "    <tr>\n",
       "      <th>unique</th>\n",
       "      <td>141</td>\n",
       "      <td>141</td>\n",
       "      <td>141</td>\n",
       "      <td>141</td>\n",
       "      <td>141</td>\n",
       "      <td>130</td>\n",
       "      <td>134</td>\n",
       "    </tr>\n",
       "    <tr>\n",
       "      <th>top</th>\n",
       "      <td>09/01/2024</td>\n",
       "      <td>1,251.71</td>\n",
       "      <td>1,283.87</td>\n",
       "      <td>1,283.87</td>\n",
       "      <td>1,244.79</td>\n",
       "      <td>2.80M</td>\n",
       "      <td>4.72%</td>\n",
       "    </tr>\n",
       "    <tr>\n",
       "      <th>freq</th>\n",
       "      <td>1</td>\n",
       "      <td>1</td>\n",
       "      <td>1</td>\n",
       "      <td>1</td>\n",
       "      <td>1</td>\n",
       "      <td>2</td>\n",
       "      <td>2</td>\n",
       "    </tr>\n",
       "  </tbody>\n",
       "</table>\n",
       "</div>"
      ],
      "text/plain": [
       "              Date     Price      Open      High       Low   Vol. Change %\n",
       "count          141       141       141       141       141    140      141\n",
       "unique         141       141       141       141       141    130      134\n",
       "top     09/01/2024  1,251.71  1,283.87  1,283.87  1,244.79  2.80M    4.72%\n",
       "freq             1         1         1         1         1      2        2"
      ]
     },
     "execution_count": 5,
     "metadata": {},
     "output_type": "execute_result"
    }
   ],
   "source": [
    "df.describe()"
   ]
  },
  {
   "cell_type": "code",
   "execution_count": 6,
   "metadata": {},
   "outputs": [
    {
     "data": {
      "text/plain": [
       "Date        0\n",
       "Price       0\n",
       "Open        0\n",
       "High        0\n",
       "Low         0\n",
       "Vol.        1\n",
       "Change %    0\n",
       "dtype: int64"
      ]
     },
     "execution_count": 6,
     "metadata": {},
     "output_type": "execute_result"
    }
   ],
   "source": [
    "df.isnull().sum()"
   ]
  },
  {
   "cell_type": "code",
   "execution_count": 7,
   "metadata": {},
   "outputs": [],
   "source": [
    "df.fillna(0, inplace=True)"
   ]
  },
  {
   "cell_type": "code",
   "execution_count": 8,
   "metadata": {},
   "outputs": [
    {
     "data": {
      "text/html": [
       "<div>\n",
       "<style scoped>\n",
       "    .dataframe tbody tr th:only-of-type {\n",
       "        vertical-align: middle;\n",
       "    }\n",
       "\n",
       "    .dataframe tbody tr th {\n",
       "        vertical-align: top;\n",
       "    }\n",
       "\n",
       "    .dataframe thead th {\n",
       "        text-align: right;\n",
       "    }\n",
       "</style>\n",
       "<table border=\"1\" class=\"dataframe\">\n",
       "  <thead>\n",
       "    <tr style=\"text-align: right;\">\n",
       "      <th></th>\n",
       "      <th>Date</th>\n",
       "      <th>Price</th>\n",
       "      <th>Open</th>\n",
       "      <th>High</th>\n",
       "      <th>Low</th>\n",
       "      <th>Vol.</th>\n",
       "      <th>Change %</th>\n",
       "      <th>Year</th>\n",
       "      <th>Volume</th>\n",
       "    </tr>\n",
       "  </thead>\n",
       "  <tbody>\n",
       "    <tr>\n",
       "      <th>0</th>\n",
       "      <td>2024-09-01</td>\n",
       "      <td>1251.71</td>\n",
       "      <td>1283.87</td>\n",
       "      <td>1283.87</td>\n",
       "      <td>1244.79</td>\n",
       "      <td>0</td>\n",
       "      <td>-2.50</td>\n",
       "      <td>2024</td>\n",
       "      <td>0</td>\n",
       "    </tr>\n",
       "    <tr>\n",
       "      <th>1</th>\n",
       "      <td>2024-08-01</td>\n",
       "      <td>1283.87</td>\n",
       "      <td>1251.51</td>\n",
       "      <td>1290.45</td>\n",
       "      <td>1184.53</td>\n",
       "      <td>15.47B</td>\n",
       "      <td>2.59</td>\n",
       "      <td>2024</td>\n",
       "      <td>15,470,000,000</td>\n",
       "    </tr>\n",
       "    <tr>\n",
       "      <th>2</th>\n",
       "      <td>2024-07-01</td>\n",
       "      <td>1251.51</td>\n",
       "      <td>1245.32</td>\n",
       "      <td>1297.96</td>\n",
       "      <td>1218.65</td>\n",
       "      <td>15.64M</td>\n",
       "      <td>0.50</td>\n",
       "      <td>2024</td>\n",
       "      <td>15,640,000</td>\n",
       "    </tr>\n",
       "    <tr>\n",
       "      <th>3</th>\n",
       "      <td>2024-06-01</td>\n",
       "      <td>1245.32</td>\n",
       "      <td>1261.72</td>\n",
       "      <td>1306.01</td>\n",
       "      <td>1240.15</td>\n",
       "      <td>18.12M</td>\n",
       "      <td>-1.30</td>\n",
       "      <td>2024</td>\n",
       "      <td>18,120,000</td>\n",
       "    </tr>\n",
       "    <tr>\n",
       "      <th>4</th>\n",
       "      <td>2024-05-01</td>\n",
       "      <td>1261.72</td>\n",
       "      <td>1212.13</td>\n",
       "      <td>1285.63</td>\n",
       "      <td>1206.28</td>\n",
       "      <td>19.39M</td>\n",
       "      <td>4.32</td>\n",
       "      <td>2024</td>\n",
       "      <td>19,390,000</td>\n",
       "    </tr>\n",
       "  </tbody>\n",
       "</table>\n",
       "</div>"
      ],
      "text/plain": [
       "        Date    Price     Open     High      Low    Vol.  Change %  Year  \\\n",
       "0 2024-09-01  1251.71  1283.87  1283.87  1244.79       0     -2.50  2024   \n",
       "1 2024-08-01  1283.87  1251.51  1290.45  1184.53  15.47B      2.59  2024   \n",
       "2 2024-07-01  1251.51  1245.32  1297.96  1218.65  15.64M      0.50  2024   \n",
       "3 2024-06-01  1245.32  1261.72  1306.01  1240.15  18.12M     -1.30  2024   \n",
       "4 2024-05-01  1261.72  1212.13  1285.63  1206.28  19.39M      4.32  2024   \n",
       "\n",
       "           Volume  \n",
       "0               0  \n",
       "1  15,470,000,000  \n",
       "2      15,640,000  \n",
       "3      18,120,000  \n",
       "4      19,390,000  "
      ]
     },
     "execution_count": 8,
     "metadata": {},
     "output_type": "execute_result"
    }
   ],
   "source": [
    "df['Date']=pd.to_datetime(df['Date'])\n",
    "df['Year'] = df['Date'].dt.year\n",
    "#df=df.set_index('Date')\n",
    "df['Price'] = df['Price'].str.replace(',', '').astype(float)\n",
    "df['Open'] = df['Open'].str.replace(',', '').astype(float)\n",
    "df['High'] = df['High'].str.replace(',', '').astype(float)\n",
    "df['Low'] = df['Low'].str.replace(',', '').astype(float)\n",
    "df['Change %'] = df['Change %'].str.replace('%', '').astype(float)\n",
    "df['Volume'] = df['Vol.'].replace({'B': '*1e9', 'M': '*1e6', 'K':'*1e3'}, regex=True).map(pd.eval).astype(float)\n",
    "df['Volume'] = df['Volume'].apply(lambda x: f\"{x:,.0f}\")  # Định dạng số với dấu phẩy\n",
    "df.head()"
   ]
  },
  {
   "cell_type": "code",
   "execution_count": 9,
   "metadata": {},
   "outputs": [
    {
     "data": {
      "text/html": [
       "<div>\n",
       "<style scoped>\n",
       "    .dataframe tbody tr th:only-of-type {\n",
       "        vertical-align: middle;\n",
       "    }\n",
       "\n",
       "    .dataframe tbody tr th {\n",
       "        vertical-align: top;\n",
       "    }\n",
       "\n",
       "    .dataframe thead th {\n",
       "        text-align: right;\n",
       "    }\n",
       "</style>\n",
       "<table border=\"1\" class=\"dataframe\">\n",
       "  <thead>\n",
       "    <tr style=\"text-align: right;\">\n",
       "      <th></th>\n",
       "      <th>Date</th>\n",
       "      <th>Price</th>\n",
       "      <th>Open</th>\n",
       "      <th>High</th>\n",
       "      <th>Low</th>\n",
       "      <th>Vol.</th>\n",
       "      <th>Change %</th>\n",
       "      <th>Year</th>\n",
       "      <th>Volume</th>\n",
       "    </tr>\n",
       "  </thead>\n",
       "  <tbody>\n",
       "    <tr>\n",
       "      <th>136</th>\n",
       "      <td>2013-05-01</td>\n",
       "      <td>518.39</td>\n",
       "      <td>474.54</td>\n",
       "      <td>526.58</td>\n",
       "      <td>470.81</td>\n",
       "      <td>1.50M</td>\n",
       "      <td>9.25</td>\n",
       "      <td>2013</td>\n",
       "      <td>1,500,000</td>\n",
       "    </tr>\n",
       "    <tr>\n",
       "      <th>137</th>\n",
       "      <td>2013-04-01</td>\n",
       "      <td>474.51</td>\n",
       "      <td>490.66</td>\n",
       "      <td>518.46</td>\n",
       "      <td>466.56</td>\n",
       "      <td>926.70K</td>\n",
       "      <td>-3.37</td>\n",
       "      <td>2013</td>\n",
       "      <td>926,700</td>\n",
       "    </tr>\n",
       "    <tr>\n",
       "      <th>138</th>\n",
       "      <td>2013-03-01</td>\n",
       "      <td>491.04</td>\n",
       "      <td>476.51</td>\n",
       "      <td>500.59</td>\n",
       "      <td>461.61</td>\n",
       "      <td>1.05M</td>\n",
       "      <td>3.47</td>\n",
       "      <td>2013</td>\n",
       "      <td>1,050,000</td>\n",
       "    </tr>\n",
       "    <tr>\n",
       "      <th>139</th>\n",
       "      <td>2013-02-01</td>\n",
       "      <td>474.56</td>\n",
       "      <td>477.11</td>\n",
       "      <td>497.87</td>\n",
       "      <td>459.64</td>\n",
       "      <td>1.15M</td>\n",
       "      <td>-1.09</td>\n",
       "      <td>2013</td>\n",
       "      <td>1,150,000</td>\n",
       "    </tr>\n",
       "    <tr>\n",
       "      <th>140</th>\n",
       "      <td>2013-01-01</td>\n",
       "      <td>479.79</td>\n",
       "      <td>415.50</td>\n",
       "      <td>490.89</td>\n",
       "      <td>413.68</td>\n",
       "      <td>1.83M</td>\n",
       "      <td>15.97</td>\n",
       "      <td>2013</td>\n",
       "      <td>1,830,000</td>\n",
       "    </tr>\n",
       "  </tbody>\n",
       "</table>\n",
       "</div>"
      ],
      "text/plain": [
       "          Date   Price    Open    High     Low     Vol.  Change %  Year  \\\n",
       "136 2013-05-01  518.39  474.54  526.58  470.81    1.50M      9.25  2013   \n",
       "137 2013-04-01  474.51  490.66  518.46  466.56  926.70K     -3.37  2013   \n",
       "138 2013-03-01  491.04  476.51  500.59  461.61    1.05M      3.47  2013   \n",
       "139 2013-02-01  474.56  477.11  497.87  459.64    1.15M     -1.09  2013   \n",
       "140 2013-01-01  479.79  415.50  490.89  413.68    1.83M     15.97  2013   \n",
       "\n",
       "        Volume  \n",
       "136  1,500,000  \n",
       "137    926,700  \n",
       "138  1,050,000  \n",
       "139  1,150,000  \n",
       "140  1,830,000  "
      ]
     },
     "execution_count": 9,
     "metadata": {},
     "output_type": "execute_result"
    }
   ],
   "source": [
    "df.tail()"
   ]
  },
  {
   "cell_type": "markdown",
   "metadata": {},
   "source": [
    "### Plot Close Price"
   ]
  },
  {
   "cell_type": "code",
   "execution_count": 10,
   "metadata": {},
   "outputs": [
    {
     "data": {
      "image/png": "[encoded data removed]",
      "text/plain": [
       "<Figure size 1500x600 with 1 Axes>"
      ]
     },
     "metadata": {},
     "output_type": "display_data"
    }
   ],
   "source": [
    "sns.set_style('whitegrid')\n",
    "plt.style.use(\"fivethirtyeight\")\n",
    "plt.figure(figsize=(15, 6))\n",
    "plt.ylabel('Close Price')\n",
    "plt.xlabel('Date')\n",
    "plt.title(f\"VN-Index: Close Price - 2013 to 2024\")\n",
    "df['Price'].plot()\n",
    "plt.tight_layout()"
   ]
  },
  {
   "cell_type": "code",
   "execution_count": 11,
   "metadata": {},
   "outputs": [
    {
     "data": {
      "image/png": "[encoded data removed]",
      "text/plain": [
       "<Figure size 1200x600 with 1 Axes>"
      ]
     },
     "metadata": {},
     "output_type": "display_data"
    }
   ],
   "source": [
    "plt.figure(figsize=(12, 6))\n",
    "plt.plot(df['Date'], df['Price'], marker='o', color='b', label='Giá Cổ Phiếu')\n",
    "plt.title('Biểu Đồ Giá Cổ Phiếu Theo Thời Gian')\n",
    "plt.xlabel('Tháng')\n",
    "plt.ylabel('Giá')\n",
    "plt.xticks(rotation=45)\n",
    "plt.grid()\n",
    "plt.legend()\n",
    "plt.tight_layout()\n",
    "plt.show()"
   ]
  },
  {
   "cell_type": "code",
   "execution_count": 12,
   "metadata": {},
   "outputs": [],
   "source": [
    "# df = df.drop(columns=['Open', 'High','Low', 'Vol.','Change %'])\n",
    "# df['Date'] = pd.to_datetime(df['Date'], format='%d/%m/%Y')\n",
    "# df['Price'] = df['Price'].str.replace(',', '').astype(float)\n",
    "# df['Year'] = df['Date'].dt.year\n",
    "# df=df.set_index('Date')\n",
    "# df.head\n"
   ]
  },
  {
   "cell_type": "markdown",
   "metadata": {},
   "source": [
    "### Moving Average in Moths"
   ]
  },
  {
   "cell_type": "code",
   "execution_count": 13,
   "metadata": {},
   "outputs": [
    {
     "data": {
      "image/png": "[encoded data removed]",
      "text/plain": [
       "<Figure size 1500x600 with 1 Axes>"
      ]
     },
     "metadata": {},
     "output_type": "display_data"
    }
   ],
   "source": [
    "ma_days = [1, 3, 5]\n",
    "\n",
    "for ma in ma_days:\n",
    "    column_name = f\"MA for {ma} months\"\n",
    "    df[column_name] = df['Price'].rolling(ma).mean()\n",
    "\n",
    "df[['Price'] + [f\"MA for {ma} months\" for ma in ma_days]].plot(figsize=(15, 6)).set_title('VN-Index')\n",
    "plt.ylabel('Price')\n",
    "plt.xlabel('Date')\n",
    "plt.xticks(rotation=45)\n",
    "plt.grid()\n",
    "plt.tight_layout()\n",
    "plt.show()"
   ]
  },
  {
   "cell_type": "markdown",
   "metadata": {},
   "source": [
    "### Candlestick Chart"
   ]
  },
  {
   "cell_type": "code",
   "execution_count": 14,
   "metadata": {},
   "outputs": [
    {
     "data": {
      "application/vnd.plotly.v1+json": {
       "config": {
        "plotlyServerURL": "https://plot.ly"
       },
       "data": [
        {
         "close": [
          1251.71,
          1283.87,
          1251.51,
          1245.32,
          1261.72,
          1209.52,
          1284.09,
          1252.73,
          1164.31,
          1129.93,
          1094.13,
          1028.19,
          1154.15,
          1224.05,
          1222.9,
          1120.18,
          1075.17,
          1049.12,
          1064.64,
          1024.68,
          1111.18,
          1007.09,
          1048.42,
          1027.94,
          1132.11,
          1280.51,
          1206.33,
          1197.6,
          1292.68,
          1366.8,
          1492.15,
          1490.13,
          1478.96,
          1498.28,
          1478.44,
          1444.27,
          1342.06,
          1331.47,
          1310.05,
          1408.55,
          1328.05,
          1239.39,
          1191.44,
          1168.47,
          1056.61,
          1103.87,
          1003.08,
          925.47,
          905.21,
          881.65,
          798.39,
          825.11,
          864.47,
          769.11,
          662.53,
          882.19,
          936.62,
          960.99,
          970.75,
          998.82,
          996.56,
          984.06,
          991.66,
          949.94,
          959.88,
          979.64,
          980.76,
          965.47,
          910.65,
          892.54,
          926.54,
          914.76,
          1017.13,
          989.54,
          956.39,
          960.78,
          971.25,
          1050.26,
          1174.46,
          1121.54,
          1110.36,
          984.24,
          949.93,
          837.28,
          804.42,
          782.76,
          783.55,
          776.47,
          737.82,
          717.73,
          722.31,
          710.79,
          697.28,
          664.87,
          665.07,
          675.8,
          685.73,
          674.63,
          652.23,
          632.26,
          618.44,
          598.37,
          561.22,
          559.37,
          545.25,
          579.03,
          573.2,
          607.37,
          562.64,
          564.75,
          621.06,
          593.05,
          569.56,
          562.4,
          551.13,
          592.57,
          576.07,
          545.63,
          566.58,
          600.84,
          598.8,
          636.65,
          596.07,
          578.13,
          562.02,
          578,
          591.57,
          586.48,
          556.52,
          504.63,
          507.78,
          497.41,
          492.63,
          472.7,
          491.85,
          481.13,
          518.39,
          474.51,
          491.04,
          474.56,
          479.79
         ],
         "high": [
          1283.87,
          1290.45,
          1297.96,
          1306.01,
          1285.63,
          1288.99,
          1293.9,
          1264.39,
          1186.96,
          1135.05,
          1132.75,
          1161.48,
          1255.11,
          1246.22,
          1224.81,
          1140.56,
          1079.31,
          1084.52,
          1067.55,
          1116.96,
          1124.3,
          1099.45,
          1048.42,
          1132.11,
          1286.92,
          1295.12,
          1217.84,
          1316.78,
          1366.39,
          1530.95,
          1513.9,
          1520.78,
          1536.45,
          1499.77,
          1511.68,
          1447.62,
          1365.92,
          1379.7,
          1424.28,
          1419.61,
          1328.05,
          1286.32,
          1200.94,
          1185.58,
          1200.85,
          1108.83,
          1012.5,
          970.15,
          917.49,
          888.44,
          878.53,
          905.65,
          875.35,
          797.49,
          898.43,
          943.48,
          991.46,
          972.91,
          1028.97,
          1004.4,
          1004.17,
          998.67,
          1002.77,
          967.11,
          992.84,
          1000.02,
          1014.51,
          999.9,
          920.36,
          966.83,
          937.75,
          1024.68,
          1020.84,
          1003.06,
          959.07,
          1045.6,
          1084.2,
          1211.34,
          1187.42,
          1129.89,
          1130.1,
          990.1,
          960.11,
          849.3,
          810.35,
          796.62,
          783.81,
          776.5,
          748.06,
          732.87,
          726.67,
          719.58,
          697.28,
          679.9,
          684.12,
          690.93,
          692.17,
          679.62,
          681.75,
          637.46,
          627.81,
          601.79,
          583.53,
          573.63,
          579.97,
          580.82,
          617.93,
          608.01,
          576.13,
          619.69,
          641.06,
          598.98,
          577.03,
          572.76,
          602.4,
          601.55,
          586.76,
          582.42,
          608.68,
          627.49,
          644.56,
          640.19,
          605.78,
          582.26,
          580.11,
          608.89,
          609.46,
          596.4,
          564.61,
          514.83,
          513.25,
          505.74,
          492.65,
          513.34,
          508.64,
          533.15,
          526.58,
          518.46,
          500.59,
          497.87,
          490.89
         ],
         "low": [
          1244.79,
          1184.53,
          1218.65,
          1240.15,
          1206.28,
          1165.99,
          1221.67,
          1162.45,
          1128.32,
          1082.29,
          1020.01,
          1025.03,
          1126.36,
          1149.13,
          1120.18,
          1071.61,
          1036.69,
          1029.19,
          1013.37,
          1017.55,
          1007.09,
          983.67,
          873.78,
          962.45,
          1099.44,
          1206.33,
          1142.8,
          1162.06,
          1156.54,
          1261.4,
          1437.27,
          1470.06,
          1424.36,
          1400.87,
          1434.69,
          1332.97,
          1316.41,
          1285.16,
          1225.52,
          1312.08,
          1212.56,
          1192.83,
          1137.9,
          1029.36,
          998.33,
          988.71,
          924.14,
          897.72,
          880.79,
          796.47,
          779.82,
          821.92,
          760.04,
          657.41,
          649.1,
          872.46,
          936.62,
          946.74,
          967.68,
          981.89,
          967.14,
          955.76,
          956.91,
          938.95,
          944.91,
          959.33,
          964.76,
          907.52,
          861.85,
          882.17,
          892.5,
          880.85,
          955.5,
          942.39,
          884.75,
          941.57,
          916,
          1031.89,
          1091.67,
          973.78,
          984.34,
          895.73,
          831.58,
          795.05,
          784.18,
          759.01,
          753.82,
          736.09,
          716.66,
          705.55,
          705.79,
          696.92,
          665.43,
          647.33,
          654.99,
          669.2,
          651.31,
          622.14,
          632.26,
          597.68,
          592.43,
          554.3,
          560.03,
          530.23,
          513.82,
          556.92,
          571.12,
          561.73,
          551.47,
          511.13,
          587.33,
          567.81,
          528.9,
          536.87,
          544.87,
          553.21,
          538.82,
          513.06,
          565.1,
          577.79,
          594,
          592.04,
          576.88,
          548.47,
          508.51,
          556.47,
          563.55,
          548.56,
          503.04,
          499.49,
          495.68,
          490.43,
          469.3,
          462.13,
          475.26,
          466.41,
          470.81,
          466.56,
          461.61,
          459.64,
          413.68
         ],
         "open": [
          1283.87,
          1251.51,
          1245.32,
          1261.72,
          1212.13,
          1284.09,
          1256.72,
          1164.31,
          1129.93,
          1094.13,
          1028.19,
          1154.15,
          1224.05,
          1222.9,
          1120.18,
          1075.17,
          1049.12,
          1064.64,
          1024.68,
          1111.18,
          1007.09,
          1048.42,
          1027.94,
          1132.11,
          1280.51,
          1206.33,
          1197.6,
          1292.68,
          1366.11,
          1492.15,
          1490.13,
          1478.96,
          1508.55,
          1478.44,
          1444.27,
          1342.06,
          1331.47,
          1310.05,
          1412.15,
          1329.47,
          1222.08,
          1194.59,
          1176.93,
          1056.61,
          1113.77,
          988.71,
          926.09,
          910.13,
          882.4,
          796.86,
          827.67,
          868.97,
          766.14,
          658.8,
          878.43,
          916.6,
          960.26,
          971.42,
          998.82,
          997.87,
          984.79,
          993.25,
          958.92,
          953.58,
          978.81,
          980.76,
          971.05,
          911.98,
          900.1,
          937.7,
          915.52,
          1019.49,
          990.79,
          957.35,
          955.18,
          973.67,
          1053.26,
          1180.26,
          1121.54,
          1111.74,
          986.05,
          952.76,
          838.75,
          805.29,
          784.42,
          784.44,
          777.2,
          739.45,
          718.7,
          723.02,
          710.7,
          699.8,
          665.92,
          670.75,
          675.13,
          687.68,
          674.19,
          655.38,
          632.26,
          618.18,
          595.95,
          560.64,
          560.03,
          545.27,
          579.03,
          573.39,
          607.93,
          563.39,
          565.75,
          617.12,
          594.52,
          571.15,
          560.62,
          550.8,
          591.75,
          576.07,
          545.43,
          566.22,
          603.44,
          603.5,
          640.69,
          594.66,
          578.93,
          560.29,
          578.45,
          590.93,
          586.65,
          555.51,
          505.61,
          509.13,
          499.21,
          491.92,
          473.56,
          490.9,
          478.98,
          518.3,
          474.54,
          490.66,
          476.51,
          477.11,
          415.5
         ],
         "type": "candlestick",
         "x": [
          "2024-09-01T00:00:00",
          "2024-08-01T00:00:00",
          "2024-07-01T00:00:00",
          "2024-06-01T00:00:00",
          "2024-05-01T00:00:00",
          "2024-04-01T00:00:00",
          "2024-03-01T00:00:00",
          "2024-02-01T00:00:00",
          "2024-01-01T00:00:00",
          "2023-12-01T00:00:00",
          "2023-11-01T00:00:00",
          "2023-10-01T00:00:00",
          "2023-09-01T00:00:00",
          "2023-08-01T00:00:00",
          "2023-07-01T00:00:00",
          "2023-06-01T00:00:00",
          "2023-05-01T00:00:00",
          "2023-04-01T00:00:00",
          "2023-03-01T00:00:00",
          "2023-02-01T00:00:00",
          "2023-01-01T00:00:00",
          "2022-12-01T00:00:00",
          "2022-11-01T00:00:00",
          "2022-10-01T00:00:00",
          "2022-09-01T00:00:00",
          "2022-08-01T00:00:00",
          "2022-07-01T00:00:00",
          "2022-06-01T00:00:00",
          "2022-05-01T00:00:00",
          "2022-04-01T00:00:00",
          "2022-03-01T00:00:00",
          "2022-02-01T00:00:00",
          "2022-01-01T00:00:00",
          "2021-12-01T00:00:00",
          "2021-11-01T00:00:00",
          "2021-10-01T00:00:00",
          "2021-09-01T00:00:00",
          "2021-08-01T00:00:00",
          "2021-07-01T00:00:00",
          "2021-06-01T00:00:00",
          "2021-05-01T00:00:00",
          "2021-04-01T00:00:00",
          "2021-03-01T00:00:00",
          "2021-02-01T00:00:00",
          "2021-01-01T00:00:00",
          "2020-12-01T00:00:00",
          "2020-11-01T00:00:00",
          "2020-10-01T00:00:00",
          "2020-09-01T00:00:00",
          "2020-08-01T00:00:00",
          "2020-07-01T00:00:00",
          "2020-06-01T00:00:00",
          "2020-05-01T00:00:00",
          "2020-04-01T00:00:00",
          "2020-03-01T00:00:00",
          "2020-02-01T00:00:00",
          "2020-01-01T00:00:00",
          "2019-12-01T00:00:00",
          "2019-11-01T00:00:00",
          "2019-10-01T00:00:00",
          "2019-09-01T00:00:00",
          "2019-08-01T00:00:00",
          "2019-07-01T00:00:00",
          "2019-06-01T00:00:00",
          "2019-05-01T00:00:00",
          "2019-04-01T00:00:00",
          "2019-03-01T00:00:00",
          "2019-02-01T00:00:00",
          "2019-01-01T00:00:00",
          "2018-12-01T00:00:00",
          "2018-11-01T00:00:00",
          "2018-10-01T00:00:00",
          "2018-09-01T00:00:00",
          "2018-08-01T00:00:00",
          "2018-07-01T00:00:00",
          "2018-06-01T00:00:00",
          "2018-05-01T00:00:00",
          "2018-04-01T00:00:00",
          "2018-03-01T00:00:00",
          "2018-02-01T00:00:00",
          "2018-01-01T00:00:00",
          "2017-12-01T00:00:00",
          "2017-11-01T00:00:00",
          "2017-10-01T00:00:00",
          "2017-09-01T00:00:00",
          "2017-08-01T00:00:00",
          "2017-07-01T00:00:00",
          "2017-06-01T00:00:00",
          "2017-05-01T00:00:00",
          "2017-04-01T00:00:00",
          "2017-03-01T00:00:00",
          "2017-02-01T00:00:00",
          "2017-01-01T00:00:00",
          "2016-12-01T00:00:00",
          "2016-11-01T00:00:00",
          "2016-10-01T00:00:00",
          "2016-09-01T00:00:00",
          "2016-08-01T00:00:00",
          "2016-07-01T00:00:00",
          "2016-06-01T00:00:00",
          "2016-05-01T00:00:00",
          "2016-04-01T00:00:00",
          "2016-03-01T00:00:00",
          "2016-02-01T00:00:00",
          "2016-01-01T00:00:00",
          "2015-12-01T00:00:00",
          "2015-11-01T00:00:00",
          "2015-10-01T00:00:00",
          "2015-09-01T00:00:00",
          "2015-08-01T00:00:00",
          "2015-07-01T00:00:00",
          "2015-06-01T00:00:00",
          "2015-05-01T00:00:00",
          "2015-04-01T00:00:00",
          "2015-03-01T00:00:00",
          "2015-02-01T00:00:00",
          "2015-01-01T00:00:00",
          "2014-12-01T00:00:00",
          "2014-11-01T00:00:00",
          "2014-10-01T00:00:00",
          "2014-09-01T00:00:00",
          "2014-08-01T00:00:00",
          "2014-07-01T00:00:00",
          "2014-06-01T00:00:00",
          "2014-05-01T00:00:00",
          "2014-04-01T00:00:00",
          "2014-03-01T00:00:00",
          "2014-02-01T00:00:00",
          "2014-01-01T00:00:00",
          "2013-12-01T00:00:00",
          "2013-11-01T00:00:00",
          "2013-10-01T00:00:00",
          "2013-09-01T00:00:00",
          "2013-08-01T00:00:00",
          "2013-07-01T00:00:00",
          "2013-06-01T00:00:00",
          "2013-05-01T00:00:00",
          "2013-04-01T00:00:00",
          "2013-03-01T00:00:00",
          "2013-02-01T00:00:00",
          "2013-01-01T00:00:00"
         ]
        }
       ],
       "layout": {
        "template": {
         "data": {
          "bar": [
           {
            "error_x": {
             "color": "#2a3f5f"
            },
            "error_y": {
             "color": "#2a3f5f"
            },
            "marker": {
             "line": {
              "color": "#E5ECF6",
              "width": 0.5
             },
             "pattern": {
              "fillmode": "overlay",
              "size": 10,
              "solidity": 0.2
             }
            },
            "type": "bar"
           }
          ],
          "barpolar": [
           {
            "marker": {
             "line": {
              "color": "#E5ECF6",
              "width": 0.5
             },
             "pattern": {
              "fillmode": "overlay",
              "size": 10,
              "solidity": 0.2
             }
            },
            "type": "barpolar"
           }
          ],
          "carpet": [
           {
            "aaxis": {
             "endlinecolor": "#2a3f5f",
             "gridcolor": "white",
             "linecolor": "white",
             "minorgridcolor": "white",
             "startlinecolor": "#2a3f5f"
            },
            "baxis": {
             "endlinecolor": "#2a3f5f",
             "gridcolor": "white",
             "linecolor": "white",
             "minorgridcolor": "white",
             "startlinecolor": "#2a3f5f"
            },
            "type": "carpet"
           }
          ],
          "choropleth": [
           {
            "colorbar": {
             "outlinewidth": 0,
             "ticks": ""
            },
            "type": "choropleth"
           }
          ],
          "contour": [
           {
            "colorbar": {
             "outlinewidth": 0,
             "ticks": ""
            },
            "colorscale": [
             [
              0,
              "#0d0887"
             ],
             [
              0.1111111111111111,
              "#46039f"
             ],
             [
              0.2222222222222222,
              "#7201a8"
             ],
             [
              0.3333333333333333,
              "#9c179e"
             ],
             [
              0.4444444444444444,
              "#bd3786"
             ],
             [
              0.5555555555555556,
              "#d8576b"
             ],
             [
              0.6666666666666666,
              "#ed7953"
             ],
             [
              0.7777777777777778,
              "#fb9f3a"
             ],
             [
              0.8888888888888888,
              "#fdca26"
             ],
             [
              1,
              "#f0f921"
             ]
            ],
            "type": "contour"
           }
          ],
          "contourcarpet": [
           {
            "colorbar": {
             "outlinewidth": 0,
             "ticks": ""
            },
            "type": "contourcarpet"
           }
          ],
          "heatmap": [
           {
            "colorbar": {
             "outlinewidth": 0,
             "ticks": ""
            },
            "colorscale": [
             [
              0,
              "#0d0887"
             ],
             [
              0.1111111111111111,
              "#46039f"
             ],
             [
              0.2222222222222222,
              "#7201a8"
             ],
             [
              0.3333333333333333,
              "#9c179e"
             ],
             [
              0.4444444444444444,
              "#bd3786"
             ],
             [
              0.5555555555555556,
              "#d8576b"
             ],
             [
              0.6666666666666666,
              "#ed7953"
             ],
             [
              0.7777777777777778,
              "#fb9f3a"
             ],
             [
              0.8888888888888888,
              "#fdca26"
             ],
             [
              1,
              "#f0f921"
             ]
            ],
            "type": "heatmap"
           }
          ],
          "heatmapgl": [
           {
            "colorbar": {
             "outlinewidth": 0,
             "ticks": ""
            },
            "colorscale": [
             [
              0,
              "#0d0887"
             ],
             [
              0.1111111111111111,
              "#46039f"
             ],
             [
              0.2222222222222222,
              "#7201a8"
             ],
             [
              0.3333333333333333,
              "#9c179e"
             ],
             [
              0.4444444444444444,
              "#bd3786"
             ],
             [
              0.5555555555555556,
              "#d8576b"
             ],
             [
              0.6666666666666666,
              "#ed7953"
             ],
             [
              0.7777777777777778,
              "#fb9f3a"
             ],
             [
              0.8888888888888888,
              "#fdca26"
             ],
             [
              1,
              "#f0f921"
             ]
            ],
            "type": "heatmapgl"
           }
          ],
          "histogram": [
           {
            "marker": {
             "pattern": {
              "fillmode": "overlay",
              "size": 10,
              "solidity": 0.2
             }
            },
            "type": "histogram"
           }
          ],
          "histogram2d": [
           {
            "colorbar": {
             "outlinewidth": 0,
             "ticks": ""
            },
            "colorscale": [
             [
              0,
              "#0d0887"
             ],
             [
              0.1111111111111111,
              "#46039f"
             ],
             [
              0.2222222222222222,
              "#7201a8"
             ],
             [
              0.3333333333333333,
              "#9c179e"
             ],
             [
              0.4444444444444444,
              "#bd3786"
             ],
             [
              0.5555555555555556,
              "#d8576b"
             ],
             [
              0.6666666666666666,
              "#ed7953"
             ],
             [
              0.7777777777777778,
              "#fb9f3a"
             ],
             [
              0.8888888888888888,
              "#fdca26"
             ],
             [
              1,
              "#f0f921"
             ]
            ],
            "type": "histogram2d"
           }
          ],
          "histogram2dcontour": [
           {
            "colorbar": {
             "outlinewidth": 0,
             "ticks": ""
            },
            "colorscale": [
             [
              0,
              "#0d0887"
             ],
             [
              0.1111111111111111,
              "#46039f"
             ],
             [
              0.2222222222222222,
              "#7201a8"
             ],
             [
              0.3333333333333333,
              "#9c179e"
             ],
             [
              0.4444444444444444,
              "#bd3786"
             ],
             [
              0.5555555555555556,
              "#d8576b"
             ],
             [
              0.6666666666666666,
              "#ed7953"
             ],
             [
              0.7777777777777778,
              "#fb9f3a"
             ],
             [
              0.8888888888888888,
              "#fdca26"
             ],
             [
              1,
              "#f0f921"
             ]
            ],
            "type": "histogram2dcontour"
           }
          ],
          "mesh3d": [
           {
            "colorbar": {
             "outlinewidth": 0,
             "ticks": ""
            },
            "type": "mesh3d"
           }
          ],
          "parcoords": [
           {
            "line": {
             "colorbar": {
              "outlinewidth": 0,
              "ticks": ""
             }
            },
            "type": "parcoords"
           }
          ],
          "pie": [
           {
            "automargin": true,
            "type": "pie"
           }
          ],
          "scatter": [
           {
            "fillpattern": {
             "fillmode": "overlay",
             "size": 10,
             "solidity": 0.2
            },
            "type": "scatter"
           }
          ],
          "scatter3d": [
           {
            "line": {
             "colorbar": {
              "outlinewidth": 0,
              "ticks": ""
             }
            },
            "marker": {
             "colorbar": {
              "outlinewidth": 0,
              "ticks": ""
             }
            },
            "type": "scatter3d"
           }
          ],
          "scattercarpet": [
           {
            "marker": {
             "colorbar": {
              "outlinewidth": 0,
              "ticks": ""
             }
            },
            "type": "scattercarpet"
           }
          ],
          "scattergeo": [
           {
            "marker": {
             "colorbar": {
              "outlinewidth": 0,
              "ticks": ""
             }
            },
            "type": "scattergeo"
           }
          ],
          "scattergl": [
           {
            "marker": {
             "colorbar": {
              "outlinewidth": 0,
              "ticks": ""
             }
            },
            "type": "scattergl"
           }
          ],
          "scattermapbox": [
           {
            "marker": {
             "colorbar": {
              "outlinewidth": 0,
              "ticks": ""
             }
            },
            "type": "scattermapbox"
           }
          ],
          "scatterpolar": [
           {
            "marker": {
             "colorbar": {
              "outlinewidth": 0,
              "ticks": ""
             }
            },
            "type": "scatterpolar"
           }
          ],
          "scatterpolargl": [
           {
            "marker": {
             "colorbar": {
              "outlinewidth": 0,
              "ticks": ""
             }
            },
            "type": "scatterpolargl"
           }
          ],
          "scatterternary": [
           {
            "marker": {
             "colorbar": {
              "outlinewidth": 0,
              "ticks": ""
             }
            },
            "type": "scatterternary"
           }
          ],
          "surface": [
           {
            "colorbar": {
             "outlinewidth": 0,
             "ticks": ""
            },
            "colorscale": [
             [
              0,
              "#0d0887"
             ],
             [
              0.1111111111111111,
              "#46039f"
             ],
             [
              0.2222222222222222,
              "#7201a8"
             ],
             [
              0.3333333333333333,
              "#9c179e"
             ],
             [
              0.4444444444444444,
              "#bd3786"
             ],
             [
              0.5555555555555556,
              "#d8576b"
             ],
             [
              0.6666666666666666,
              "#ed7953"
             ],
             [
              0.7777777777777778,
              "#fb9f3a"
             ],
             [
              0.8888888888888888,
              "#fdca26"
             ],
             [
              1,
              "#f0f921"
             ]
            ],
            "type": "surface"
           }
          ],
          "table": [
           {
            "cells": {
             "fill": {
              "color": "#EBF0F8"
             },
             "line": {
              "color": "white"
             }
            },
            "header": {
             "fill": {
              "color": "#C8D4E3"
             },
             "line": {
              "color": "white"
             }
            },
            "type": "table"
           }
          ]
         },
         "layout": {
          "annotationdefaults": {
           "arrowcolor": "#2a3f5f",
           "arrowhead": 0,
           "arrowwidth": 1
          },
          "autotypenumbers": "strict",
          "coloraxis": {
           "colorbar": {
            "outlinewidth": 0,
            "ticks": ""
           }
          },
          "colorscale": {
           "diverging": [
            [
             0,
             "#8e0152"
            ],
            [
             0.1,
             "#c51b7d"
            ],
            [
             0.2,
             "#de77ae"
            ],
            [
             0.3,
             "#f1b6da"
            ],
            [
             0.4,
             "#fde0ef"
            ],
            [
             0.5,
             "#f7f7f7"
            ],
            [
             0.6,
             "#e6f5d0"
            ],
            [
             0.7,
             "#b8e186"
            ],
            [
             0.8,
             "#7fbc41"
            ],
            [
             0.9,
             "#4d9221"
            ],
            [
             1,
             "#276419"
            ]
           ],
           "sequential": [
            [
             0,
             "#0d0887"
            ],
            [
             0.1111111111111111,
             "#46039f"
            ],
            [
             0.2222222222222222,
             "#7201a8"
            ],
            [
             0.3333333333333333,
             "#9c179e"
            ],
            [
             0.4444444444444444,
             "#bd3786"
            ],
            [
             0.5555555555555556,
             "#d8576b"
            ],
            [
             0.6666666666666666,
             "#ed7953"
            ],
            [
             0.7777777777777778,
             "#fb9f3a"
            ],
            [
             0.8888888888888888,
             "#fdca26"
            ],
            [
             1,
             "#f0f921"
            ]
           ],
           "sequentialminus": [
            [
             0,
             "#0d0887"
            ],
            [
             0.1111111111111111,
             "#46039f"
            ],
            [
             0.2222222222222222,
             "#7201a8"
            ],
            [
             0.3333333333333333,
             "#9c179e"
            ],
            [
             0.4444444444444444,
             "#bd3786"
            ],
            [
             0.5555555555555556,
             "#d8576b"
            ],
            [
             0.6666666666666666,
             "#ed7953"
            ],
            [
             0.7777777777777778,
             "#fb9f3a"
            ],
            [
             0.8888888888888888,
             "#fdca26"
            ],
            [
             1,
             "#f0f921"
            ]
           ]
          },
          "colorway": [
           "#636efa",
           "#EF553B",
           "#00cc96",
           "#ab63fa",
           "#FFA15A",
           "#19d3f3",
           "#FF6692",
           "#B6E880",
           "#FF97FF",
           "#FECB52"
          ],
          "font": {
           "color": "#2a3f5f"
          },
          "geo": {
           "bgcolor": "white",
           "lakecolor": "white",
           "landcolor": "#E5ECF6",
           "showlakes": true,
           "showland": true,
           "subunitcolor": "white"
          },
          "hoverlabel": {
           "align": "left"
          },
          "hovermode": "closest",
          "mapbox": {
           "style": "light"
          },
          "paper_bgcolor": "white",
          "plot_bgcolor": "#E5ECF6",
          "polar": {
           "angularaxis": {
            "gridcolor": "white",
            "linecolor": "white",
            "ticks": ""
           },
           "bgcolor": "#E5ECF6",
           "radialaxis": {
            "gridcolor": "white",
            "linecolor": "white",
            "ticks": ""
           }
          },
          "scene": {
           "xaxis": {
            "backgroundcolor": "#E5ECF6",
            "gridcolor": "white",
            "gridwidth": 2,
            "linecolor": "white",
            "showbackground": true,
            "ticks": "",
            "zerolinecolor": "white"
           },
           "yaxis": {
            "backgroundcolor": "#E5ECF6",
            "gridcolor": "white",
            "gridwidth": 2,
            "linecolor": "white",
            "showbackground": true,
            "ticks": "",
            "zerolinecolor": "white"
           },
           "zaxis": {
            "backgroundcolor": "#E5ECF6",
            "gridcolor": "white",
            "gridwidth": 2,
            "linecolor": "white",
            "showbackground": true,
            "ticks": "",
            "zerolinecolor": "white"
           }
          },
          "shapedefaults": {
           "line": {
            "color": "#2a3f5f"
           }
          },
          "ternary": {
           "aaxis": {
            "gridcolor": "white",
            "linecolor": "white",
            "ticks": ""
           },
           "baxis": {
            "gridcolor": "white",
            "linecolor": "white",
            "ticks": ""
           },
           "bgcolor": "#E5ECF6",
           "caxis": {
            "gridcolor": "white",
            "linecolor": "white",
            "ticks": ""
           }
          },
          "title": {
           "x": 0.05
          },
          "xaxis": {
           "automargin": true,
           "gridcolor": "white",
           "linecolor": "white",
           "ticks": "",
           "title": {
            "standoff": 15
           },
           "zerolinecolor": "white",
           "zerolinewidth": 2
          },
          "yaxis": {
           "automargin": true,
           "gridcolor": "white",
           "linecolor": "white",
           "ticks": "",
           "title": {
            "standoff": 15
           },
           "zerolinecolor": "white",
           "zerolinewidth": 2
          }
         }
        },
        "title": {
         "text": "Biểu đồ nến"
        },
        "xaxis": {
         "rangeslider": {
          "visible": true
         },
         "title": {
          "text": "Tháng"
         }
        },
        "yaxis": {
         "title": {
          "text": "Giá"
         }
        }
       }
      }
     },
     "metadata": {},
     "output_type": "display_data"
    }
   ],
   "source": [
    "fig = go.Figure(data=[go.Candlestick(x=df['Date'],\n",
    "                                       open=df['Open'],\n",
    "                                       high=df['High'],\n",
    "                                       low=df['Low'],\n",
    "                                       close=df['Price'])])\n",
    "\n",
    "fig.update_layout(title='Biểu đồ nến',\n",
    "                  xaxis_title='Tháng',\n",
    "                  yaxis_title='Giá',\n",
    "                  xaxis_rangeslider_visible=True)\n",
    "\n",
    "fig.show()"
   ]
  },
  {
   "cell_type": "markdown",
   "metadata": {},
   "source": [
    "### Trend Chart"
   ]
  },
  {
   "cell_type": "code",
   "execution_count": 15,
   "metadata": {},
   "outputs": [
    {
     "data": {
      "application/vnd.plotly.v1+json": {
       "config": {
        "plotlyServerURL": "https://plot.ly"
       },
       "data": [
        {
         "mode": "lines+markers",
         "name": "Giá cổ phiếu",
         "type": "scatter",
         "x": [
          "2024-09-01T00:00:00",
          "2024-08-01T00:00:00",
          "2024-07-01T00:00:00",
          "2024-06-01T00:00:00",
          "2024-05-01T00:00:00",
          "2024-04-01T00:00:00",
          "2024-03-01T00:00:00",
          "2024-02-01T00:00:00",
          "2024-01-01T00:00:00",
          "2023-12-01T00:00:00",
          "2023-11-01T00:00:00",
          "2023-10-01T00:00:00",
          "2023-09-01T00:00:00",
          "2023-08-01T00:00:00",
          "2023-07-01T00:00:00",
          "2023-06-01T00:00:00",
          "2023-05-01T00:00:00",
          "2023-04-01T00:00:00",
          "2023-03-01T00:00:00",
          "2023-02-01T00:00:00",
          "2023-01-01T00:00:00",
          "2022-12-01T00:00:00",
          "2022-11-01T00:00:00",
          "2022-10-01T00:00:00",
          "2022-09-01T00:00:00",
          "2022-08-01T00:00:00",
          "2022-07-01T00:00:00",
          "2022-06-01T00:00:00",
          "2022-05-01T00:00:00",
          "2022-04-01T00:00:00",
          "2022-03-01T00:00:00",
          "2022-02-01T00:00:00",
          "2022-01-01T00:00:00",
          "2021-12-01T00:00:00",
          "2021-11-01T00:00:00",
          "2021-10-01T00:00:00",
          "2021-09-01T00:00:00",
          "2021-08-01T00:00:00",
          "2021-07-01T00:00:00",
          "2021-06-01T00:00:00",
          "2021-05-01T00:00:00",
          "2021-04-01T00:00:00",
          "2021-03-01T00:00:00",
          "2021-02-01T00:00:00",
          "2021-01-01T00:00:00",
          "2020-12-01T00:00:00",
          "2020-11-01T00:00:00",
          "2020-10-01T00:00:00",
          "2020-09-01T00:00:00",
          "2020-08-01T00:00:00",
          "2020-07-01T00:00:00",
          "2020-06-01T00:00:00",
          "2020-05-01T00:00:00",
          "2020-04-01T00:00:00",
          "2020-03-01T00:00:00",
          "2020-02-01T00:00:00",
          "2020-01-01T00:00:00",
          "2019-12-01T00:00:00",
          "2019-11-01T00:00:00",
          "2019-10-01T00:00:00",
          "2019-09-01T00:00:00",
          "2019-08-01T00:00:00",
          "2019-07-01T00:00:00",
          "2019-06-01T00:00:00",
          "2019-05-01T00:00:00",
          "2019-04-01T00:00:00",
          "2019-03-01T00:00:00",
          "2019-02-01T00:00:00",
          "2019-01-01T00:00:00",
          "2018-12-01T00:00:00",
          "2018-11-01T00:00:00",
          "2018-10-01T00:00:00",
          "2018-09-01T00:00:00",
          "2018-08-01T00:00:00",
          "2018-07-01T00:00:00",
          "2018-06-01T00:00:00",
          "2018-05-01T00:00:00",
          "2018-04-01T00:00:00",
          "2018-03-01T00:00:00",
          "2018-02-01T00:00:00",
          "2018-01-01T00:00:00",
          "2017-12-01T00:00:00",
          "2017-11-01T00:00:00",
          "2017-10-01T00:00:00",
          "2017-09-01T00:00:00",
          "2017-08-01T00:00:00",
          "2017-07-01T00:00:00",
          "2017-06-01T00:00:00",
          "2017-05-01T00:00:00",
          "2017-04-01T00:00:00",
          "2017-03-01T00:00:00",
          "2017-02-01T00:00:00",
          "2017-01-01T00:00:00",
          "2016-12-01T00:00:00",
          "2016-11-01T00:00:00",
          "2016-10-01T00:00:00",
          "2016-09-01T00:00:00",
          "2016-08-01T00:00:00",
          "2016-07-01T00:00:00",
          "2016-06-01T00:00:00",
          "2016-05-01T00:00:00",
          "2016-04-01T00:00:00",
          "2016-03-01T00:00:00",
          "2016-02-01T00:00:00",
          "2016-01-01T00:00:00",
          "2015-12-01T00:00:00",
          "2015-11-01T00:00:00",
          "2015-10-01T00:00:00",
          "2015-09-01T00:00:00",
          "2015-08-01T00:00:00",
          "2015-07-01T00:00:00",
          "2015-06-01T00:00:00",
          "2015-05-01T00:00:00",
          "2015-04-01T00:00:00",
          "2015-03-01T00:00:00",
          "2015-02-01T00:00:00",
          "2015-01-01T00:00:00",
          "2014-12-01T00:00:00",
          "2014-11-01T00:00:00",
          "2014-10-01T00:00:00",
          "2014-09-01T00:00:00",
          "2014-08-01T00:00:00",
          "2014-07-01T00:00:00",
          "2014-06-01T00:00:00",
          "2014-05-01T00:00:00",
          "2014-04-01T00:00:00",
          "2014-03-01T00:00:00",
          "2014-02-01T00:00:00",
          "2014-01-01T00:00:00",
          "2013-12-01T00:00:00",
          "2013-11-01T00:00:00",
          "2013-10-01T00:00:00",
          "2013-09-01T00:00:00",
          "2013-08-01T00:00:00",
          "2013-07-01T00:00:00",
          "2013-06-01T00:00:00",
          "2013-05-01T00:00:00",
          "2013-04-01T00:00:00",
          "2013-03-01T00:00:00",
          "2013-02-01T00:00:00",
          "2013-01-01T00:00:00"
         ],
         "y": [
          1251.71,
          1283.87,
          1251.51,
          1245.32,
          1261.72,
          1209.52,
          1284.09,
          1252.73,
          1164.31,
          1129.93,
          1094.13,
          1028.19,
          1154.15,
          1224.05,
          1222.9,
          1120.18,
          1075.17,
          1049.12,
          1064.64,
          1024.68,
          1111.18,
          1007.09,
          1048.42,
          1027.94,
          1132.11,
          1280.51,
          1206.33,
          1197.6,
          1292.68,
          1366.8,
          1492.15,
          1490.13,
          1478.96,
          1498.28,
          1478.44,
          1444.27,
          1342.06,
          1331.47,
          1310.05,
          1408.55,
          1328.05,
          1239.39,
          1191.44,
          1168.47,
          1056.61,
          1103.87,
          1003.08,
          925.47,
          905.21,
          881.65,
          798.39,
          825.11,
          864.47,
          769.11,
          662.53,
          882.19,
          936.62,
          960.99,
          970.75,
          998.82,
          996.56,
          984.06,
          991.66,
          949.94,
          959.88,
          979.64,
          980.76,
          965.47,
          910.65,
          892.54,
          926.54,
          914.76,
          1017.13,
          989.54,
          956.39,
          960.78,
          971.25,
          1050.26,
          1174.46,
          1121.54,
          1110.36,
          984.24,
          949.93,
          837.28,
          804.42,
          782.76,
          783.55,
          776.47,
          737.82,
          717.73,
          722.31,
          710.79,
          697.28,
          664.87,
          665.07,
          675.8,
          685.73,
          674.63,
          652.23,
          632.26,
          618.44,
          598.37,
          561.22,
          559.37,
          545.25,
          579.03,
          573.2,
          607.37,
          562.64,
          564.75,
          621.06,
          593.05,
          569.56,
          562.4,
          551.13,
          592.57,
          576.07,
          545.63,
          566.58,
          600.84,
          598.8,
          636.65,
          596.07,
          578.13,
          562.02,
          578,
          591.57,
          586.48,
          556.52,
          504.63,
          507.78,
          497.41,
          492.63,
          472.7,
          491.85,
          481.13,
          518.39,
          474.51,
          491.04,
          474.56,
          479.79
         ]
        },
        {
         "mode": "lines",
         "name": "SMA 4 tháng",
         "type": "scatter",
         "x": [
          "2024-09-01T00:00:00",
          "2024-08-01T00:00:00",
          "2024-07-01T00:00:00",
          "2024-06-01T00:00:00",
          "2024-05-01T00:00:00",
          "2024-04-01T00:00:00",
          "2024-03-01T00:00:00",
          "2024-02-01T00:00:00",
          "2024-01-01T00:00:00",
          "2023-12-01T00:00:00",
          "2023-11-01T00:00:00",
          "2023-10-01T00:00:00",
          "2023-09-01T00:00:00",
          "2023-08-01T00:00:00",
          "2023-07-01T00:00:00",
          "2023-06-01T00:00:00",
          "2023-05-01T00:00:00",
          "2023-04-01T00:00:00",
          "2023-03-01T00:00:00",
          "2023-02-01T00:00:00",
          "2023-01-01T00:00:00",
          "2022-12-01T00:00:00",
          "2022-11-01T00:00:00",
          "2022-10-01T00:00:00",
          "2022-09-01T00:00:00",
          "2022-08-01T00:00:00",
          "2022-07-01T00:00:00",
          "2022-06-01T00:00:00",
          "2022-05-01T00:00:00",
          "2022-04-01T00:00:00",
          "2022-03-01T00:00:00",
          "2022-02-01T00:00:00",
          "2022-01-01T00:00:00",
          "2021-12-01T00:00:00",
          "2021-11-01T00:00:00",
          "2021-10-01T00:00:00",
          "2021-09-01T00:00:00",
          "2021-08-01T00:00:00",
          "2021-07-01T00:00:00",
          "2021-06-01T00:00:00",
          "2021-05-01T00:00:00",
          "2021-04-01T00:00:00",
          "2021-03-01T00:00:00",
          "2021-02-01T00:00:00",
          "2021-01-01T00:00:00",
          "2020-12-01T00:00:00",
          "2020-11-01T00:00:00",
          "2020-10-01T00:00:00",
          "2020-09-01T00:00:00",
          "2020-08-01T00:00:00",
          "2020-07-01T00:00:00",
          "2020-06-01T00:00:00",
          "2020-05-01T00:00:00",
          "2020-04-01T00:00:00",
          "2020-03-01T00:00:00",
          "2020-02-01T00:00:00",
          "2020-01-01T00:00:00",
          "2019-12-01T00:00:00",
          "2019-11-01T00:00:00",
          "2019-10-01T00:00:00",
          "2019-09-01T00:00:00",
          "2019-08-01T00:00:00",
          "2019-07-01T00:00:00",
          "2019-06-01T00:00:00",
          "2019-05-01T00:00:00",
          "2019-04-01T00:00:00",
          "2019-03-01T00:00:00",
          "2019-02-01T00:00:00",
          "2019-01-01T00:00:00",
          "2018-12-01T00:00:00",
          "2018-11-01T00:00:00",
          "2018-10-01T00:00:00",
          "2018-09-01T00:00:00",
          "2018-08-01T00:00:00",
          "2018-07-01T00:00:00",
          "2018-06-01T00:00:00",
          "2018-05-01T00:00:00",
          "2018-04-01T00:00:00",
          "2018-03-01T00:00:00",
          "2018-02-01T00:00:00",
          "2018-01-01T00:00:00",
          "2017-12-01T00:00:00",
          "2017-11-01T00:00:00",
          "2017-10-01T00:00:00",
          "2017-09-01T00:00:00",
          "2017-08-01T00:00:00",
          "2017-07-01T00:00:00",
          "2017-06-01T00:00:00",
          "2017-05-01T00:00:00",
          "2017-04-01T00:00:00",
          "2017-03-01T00:00:00",
          "2017-02-01T00:00:00",
          "2017-01-01T00:00:00",
          "2016-12-01T00:00:00",
          "2016-11-01T00:00:00",
          "2016-10-01T00:00:00",
          "2016-09-01T00:00:00",
          "2016-08-01T00:00:00",
          "2016-07-01T00:00:00",
          "2016-06-01T00:00:00",
          "2016-05-01T00:00:00",
          "2016-04-01T00:00:00",
          "2016-03-01T00:00:00",
          "2016-02-01T00:00:00",
          "2016-01-01T00:00:00",
          "2015-12-01T00:00:00",
          "2015-11-01T00:00:00",
          "2015-10-01T00:00:00",
          "2015-09-01T00:00:00",
          "2015-08-01T00:00:00",
          "2015-07-01T00:00:00",
          "2015-06-01T00:00:00",
          "2015-05-01T00:00:00",
          "2015-04-01T00:00:00",
          "2015-03-01T00:00:00",
          "2015-02-01T00:00:00",
          "2015-01-01T00:00:00",
          "2014-12-01T00:00:00",
          "2014-11-01T00:00:00",
          "2014-10-01T00:00:00",
          "2014-09-01T00:00:00",
          "2014-08-01T00:00:00",
          "2014-07-01T00:00:00",
          "2014-06-01T00:00:00",
          "2014-05-01T00:00:00",
          "2014-04-01T00:00:00",
          "2014-03-01T00:00:00",
          "2014-02-01T00:00:00",
          "2014-01-01T00:00:00",
          "2013-12-01T00:00:00",
          "2013-11-01T00:00:00",
          "2013-10-01T00:00:00",
          "2013-09-01T00:00:00",
          "2013-08-01T00:00:00",
          "2013-07-01T00:00:00",
          "2013-06-01T00:00:00",
          "2013-05-01T00:00:00",
          "2013-04-01T00:00:00",
          "2013-03-01T00:00:00",
          "2013-02-01T00:00:00",
          "2013-01-01T00:00:00"
         ],
         "y": [
          null,
          null,
          null,
          1258.1025,
          1260.605,
          1242.0175,
          1250.1625,
          1252.0149999999999,
          1227.6625,
          1207.765,
          1160.275,
          1104.14,
          1101.6000000000001,
          1125.13,
          1157.3225,
          1180.3200000000002,
          1160.575,
          1116.8425,
          1077.2775000000001,
          1053.4025,
          1062.405,
          1051.8975,
          1047.8425000000002,
          1048.6575,
          1053.89,
          1122.245,
          1161.7224999999999,
          1204.1374999999998,
          1244.28,
          1265.8525,
          1337.3075,
          1410.44,
          1457.0100000000002,
          1489.88,
          1486.4525,
          1474.9875000000002,
          1440.7624999999998,
          1399.06,
          1356.9625,
          1348.0324999999998,
          1344.53,
          1321.51,
          1291.8575,
          1231.8375,
          1163.9775,
          1130.0974999999999,
          1083.0075,
          1022.2574999999999,
          984.4075,
          928.8525,
          877.6800000000001,
          852.5899999999999,
          842.405,
          814.2700000000001,
          780.305,
          794.5749999999999,
          812.6125,
          860.5825,
          937.6375,
          966.7950000000001,
          981.7800000000001,
          987.5475,
          992.775,
          980.555,
          971.385,
          970.28,
          967.5550000000001,
          971.4375,
          959.13,
          937.355,
          923.8,
          911.1225,
          937.7425,
          961.9925,
          969.4549999999999,
          980.96,
          969.49,
          984.67,
          1039.1875,
          1079.3775,
          1114.155,
          1097.65,
          1041.5175,
          970.4525,
          893.9675,
          843.5975,
          802.0025,
          786.8,
          770.15,
          753.8925,
          738.5825000000001,
          722.1625,
          712.0274999999999,
          698.8125,
          684.5024999999999,
          675.755,
          672.8675000000001,
          675.3075,
          672.0975,
          661.2125000000001,
          644.3900000000001,
          625.325,
          602.5725,
          584.35,
          566.0525,
          561.2175,
          564.2125,
          576.2125,
          580.56,
          576.99,
          588.9549999999999,
          585.375,
          587.105,
          586.5174999999999,
          569.035,
          568.915,
          570.5425,
          566.35,
          570.2125000000001,
          572.28,
          577.9625,
          600.7175,
          608.09,
          602.4124999999999,
          593.2175,
          578.5550000000001,
          577.43,
          579.5175,
          578.1425,
          559.8,
          538.8525,
          516.5849999999999,
          500.61249999999995,
          492.63,
          488.64750000000004,
          484.5775,
          491.01750000000004,
          491.47,
          491.26750000000004,
          489.625,
          479.975
         ]
        }
       ],
       "layout": {
        "template": {
         "data": {
          "bar": [
           {
            "error_x": {
             "color": "#2a3f5f"
            },
            "error_y": {
             "color": "#2a3f5f"
            },
            "marker": {
             "line": {
              "color": "#E5ECF6",
              "width": 0.5
             },
             "pattern": {
              "fillmode": "overlay",
              "size": 10,
              "solidity": 0.2
             }
            },
            "type": "bar"
           }
          ],
          "barpolar": [
           {
            "marker": {
             "line": {
              "color": "#E5ECF6",
              "width": 0.5
             },
             "pattern": {
              "fillmode": "overlay",
              "size": 10,
              "solidity": 0.2
             }
            },
            "type": "barpolar"
           }
          ],
          "carpet": [
           {
            "aaxis": {
             "endlinecolor": "#2a3f5f",
             "gridcolor": "white",
             "linecolor": "white",
             "minorgridcolor": "white",
             "startlinecolor": "#2a3f5f"
            },
            "baxis": {
             "endlinecolor": "#2a3f5f",
             "gridcolor": "white",
             "linecolor": "white",
             "minorgridcolor": "white",
             "startlinecolor": "#2a3f5f"
            },
            "type": "carpet"
           }
          ],
          "choropleth": [
           {
            "colorbar": {
             "outlinewidth": 0,
             "ticks": ""
            },
            "type": "choropleth"
           }
          ],
          "contour": [
           {
            "colorbar": {
             "outlinewidth": 0,
             "ticks": ""
            },
            "colorscale": [
             [
              0,
              "#0d0887"
             ],
             [
              0.1111111111111111,
              "#46039f"
             ],
             [
              0.2222222222222222,
              "#7201a8"
             ],
             [
              0.3333333333333333,
              "#9c179e"
             ],
             [
              0.4444444444444444,
              "#bd3786"
             ],
             [
              0.5555555555555556,
              "#d8576b"
             ],
             [
              0.6666666666666666,
              "#ed7953"
             ],
             [
              0.7777777777777778,
              "#fb9f3a"
             ],
             [
              0.8888888888888888,
              "#fdca26"
             ],
             [
              1,
              "#f0f921"
             ]
            ],
            "type": "contour"
           }
          ],
          "contourcarpet": [
           {
            "colorbar": {
             "outlinewidth": 0,
             "ticks": ""
            },
            "type": "contourcarpet"
           }
          ],
          "heatmap": [
           {
            "colorbar": {
             "outlinewidth": 0,
             "ticks": ""
            },
            "colorscale": [
             [
              0,
              "#0d0887"
             ],
             [
              0.1111111111111111,
              "#46039f"
             ],
             [
              0.2222222222222222,
              "#7201a8"
             ],
             [
              0.3333333333333333,
              "#9c179e"
             ],
             [
              0.4444444444444444,
              "#bd3786"
             ],
             [
              0.5555555555555556,
              "#d8576b"
             ],
             [
              0.6666666666666666,
              "#ed7953"
             ],
             [
              0.7777777777777778,
              "#fb9f3a"
             ],
             [
              0.8888888888888888,
              "#fdca26"
             ],
             [
              1,
              "#f0f921"
             ]
            ],
            "type": "heatmap"
           }
          ],
          "heatmapgl": [
           {
            "colorbar": {
             "outlinewidth": 0,
             "ticks": ""
            },
            "colorscale": [
             [
              0,
              "#0d0887"
             ],
             [
              0.1111111111111111,
              "#46039f"
             ],
             [
              0.2222222222222222,
              "#7201a8"
             ],
             [
              0.3333333333333333,
              "#9c179e"
             ],
             [
              0.4444444444444444,
              "#bd3786"
             ],
             [
              0.5555555555555556,
              "#d8576b"
             ],
             [
              0.6666666666666666,
              "#ed7953"
             ],
             [
              0.7777777777777778,
              "#fb9f3a"
             ],
             [
              0.8888888888888888,
              "#fdca26"
             ],
             [
              1,
              "#f0f921"
             ]
            ],
            "type": "heatmapgl"
           }
          ],
          "histogram": [
           {
            "marker": {
             "pattern": {
              "fillmode": "overlay",
              "size": 10,
              "solidity": 0.2
             }
            },
            "type": "histogram"
           }
          ],
          "histogram2d": [
           {
            "colorbar": {
             "outlinewidth": 0,
             "ticks": ""
            },
            "colorscale": [
             [
              0,
              "#0d0887"
             ],
             [
              0.1111111111111111,
              "#46039f"
             ],
             [
              0.2222222222222222,
              "#7201a8"
             ],
             [
              0.3333333333333333,
              "#9c179e"
             ],
             [
              0.4444444444444444,
              "#bd3786"
             ],
             [
              0.5555555555555556,
              "#d8576b"
             ],
             [
              0.6666666666666666,
              "#ed7953"
             ],
             [
              0.7777777777777778,
              "#fb9f3a"
             ],
             [
              0.8888888888888888,
              "#fdca26"
             ],
             [
              1,
              "#f0f921"
             ]
            ],
            "type": "histogram2d"
           }
          ],
          "histogram2dcontour": [
           {
            "colorbar": {
             "outlinewidth": 0,
             "ticks": ""
            },
            "colorscale": [
             [
              0,
              "#0d0887"
             ],
             [
              0.1111111111111111,
              "#46039f"
             ],
             [
              0.2222222222222222,
              "#7201a8"
             ],
             [
              0.3333333333333333,
              "#9c179e"
             ],
             [
              0.4444444444444444,
              "#bd3786"
             ],
             [
              0.5555555555555556,
              "#d8576b"
             ],
             [
              0.6666666666666666,
              "#ed7953"
             ],
             [
              0.7777777777777778,
              "#fb9f3a"
             ],
             [
              0.8888888888888888,
              "#fdca26"
             ],
             [
              1,
              "#f0f921"
             ]
            ],
            "type": "histogram2dcontour"
           }
          ],
          "mesh3d": [
           {
            "colorbar": {
             "outlinewidth": 0,
             "ticks": ""
            },
            "type": "mesh3d"
           }
          ],
          "parcoords": [
           {
            "line": {
             "colorbar": {
              "outlinewidth": 0,
              "ticks": ""
             }
            },
            "type": "parcoords"
           }
          ],
          "pie": [
           {
            "automargin": true,
            "type": "pie"
           }
          ],
          "scatter": [
           {
            "fillpattern": {
             "fillmode": "overlay",
             "size": 10,
             "solidity": 0.2
            },
            "type": "scatter"
           }
          ],
          "scatter3d": [
           {
            "line": {
             "colorbar": {
              "outlinewidth": 0,
              "ticks": ""
             }
            },
            "marker": {
             "colorbar": {
              "outlinewidth": 0,
              "ticks": ""
             }
            },
            "type": "scatter3d"
           }
          ],
          "scattercarpet": [
           {
            "marker": {
             "colorbar": {
              "outlinewidth": 0,
              "ticks": ""
             }
            },
            "type": "scattercarpet"
           }
          ],
          "scattergeo": [
           {
            "marker": {
             "colorbar": {
              "outlinewidth": 0,
              "ticks": ""
             }
            },
            "type": "scattergeo"
           }
          ],
          "scattergl": [
           {
            "marker": {
             "colorbar": {
              "outlinewidth": 0,
              "ticks": ""
             }
            },
            "type": "scattergl"
           }
          ],
          "scattermapbox": [
           {
            "marker": {
             "colorbar": {
              "outlinewidth": 0,
              "ticks": ""
             }
            },
            "type": "scattermapbox"
           }
          ],
          "scatterpolar": [
           {
            "marker": {
             "colorbar": {
              "outlinewidth": 0,
              "ticks": ""
             }
            },
            "type": "scatterpolar"
           }
          ],
          "scatterpolargl": [
           {
            "marker": {
             "colorbar": {
              "outlinewidth": 0,
              "ticks": ""
             }
            },
            "type": "scatterpolargl"
           }
          ],
          "scatterternary": [
           {
            "marker": {
             "colorbar": {
              "outlinewidth": 0,
              "ticks": ""
             }
            },
            "type": "scatterternary"
           }
          ],
          "surface": [
           {
            "colorbar": {
             "outlinewidth": 0,
             "ticks": ""
            },
            "colorscale": [
             [
              0,
              "#0d0887"
             ],
             [
              0.1111111111111111,
              "#46039f"
             ],
             [
              0.2222222222222222,
              "#7201a8"
             ],
             [
              0.3333333333333333,
              "#9c179e"
             ],
             [
              0.4444444444444444,
              "#bd3786"
             ],
             [
              0.5555555555555556,
              "#d8576b"
             ],
             [
              0.6666666666666666,
              "#ed7953"
             ],
             [
              0.7777777777777778,
              "#fb9f3a"
             ],
             [
              0.8888888888888888,
              "#fdca26"
             ],
             [
              1,
              "#f0f921"
             ]
            ],
            "type": "surface"
           }
          ],
          "table": [
           {
            "cells": {
             "fill": {
              "color": "#EBF0F8"
             },
             "line": {
              "color": "white"
             }
            },
            "header": {
             "fill": {
              "color": "#C8D4E3"
             },
             "line": {
              "color": "white"
             }
            },
            "type": "table"
           }
          ]
         },
         "layout": {
          "annotationdefaults": {
           "arrowcolor": "#2a3f5f",
           "arrowhead": 0,
           "arrowwidth": 1
          },
          "autotypenumbers": "strict",
          "coloraxis": {
           "colorbar": {
            "outlinewidth": 0,
            "ticks": ""
           }
          },
          "colorscale": {
           "diverging": [
            [
             0,
             "#8e0152"
            ],
            [
             0.1,
             "#c51b7d"
            ],
            [
             0.2,
             "#de77ae"
            ],
            [
             0.3,
             "#f1b6da"
            ],
            [
             0.4,
             "#fde0ef"
            ],
            [
             0.5,
             "#f7f7f7"
            ],
            [
             0.6,
             "#e6f5d0"
            ],
            [
             0.7,
             "#b8e186"
            ],
            [
             0.8,
             "#7fbc41"
            ],
            [
             0.9,
             "#4d9221"
            ],
            [
             1,
             "#276419"
            ]
           ],
           "sequential": [
            [
             0,
             "#0d0887"
            ],
            [
             0.1111111111111111,
             "#46039f"
            ],
            [
             0.2222222222222222,
             "#7201a8"
            ],
            [
             0.3333333333333333,
             "#9c179e"
            ],
            [
             0.4444444444444444,
             "#bd3786"
            ],
            [
             0.5555555555555556,
             "#d8576b"
            ],
            [
             0.6666666666666666,
             "#ed7953"
            ],
            [
             0.7777777777777778,
             "#fb9f3a"
            ],
            [
             0.8888888888888888,
             "#fdca26"
            ],
            [
             1,
             "#f0f921"
            ]
           ],
           "sequentialminus": [
            [
             0,
             "#0d0887"
            ],
            [
             0.1111111111111111,
             "#46039f"
            ],
            [
             0.2222222222222222,
             "#7201a8"
            ],
            [
             0.3333333333333333,
             "#9c179e"
            ],
            [
             0.4444444444444444,
             "#bd3786"
            ],
            [
             0.5555555555555556,
             "#d8576b"
            ],
            [
             0.6666666666666666,
             "#ed7953"
            ],
            [
             0.7777777777777778,
             "#fb9f3a"
            ],
            [
             0.8888888888888888,
             "#fdca26"
            ],
            [
             1,
             "#f0f921"
            ]
           ]
          },
          "colorway": [
           "#636efa",
           "#EF553B",
           "#00cc96",
           "#ab63fa",
           "#FFA15A",
           "#19d3f3",
           "#FF6692",
           "#B6E880",
           "#FF97FF",
           "#FECB52"
          ],
          "font": {
           "color": "#2a3f5f"
          },
          "geo": {
           "bgcolor": "white",
           "lakecolor": "white",
           "landcolor": "#E5ECF6",
           "showlakes": true,
           "showland": true,
           "subunitcolor": "white"
          },
          "hoverlabel": {
           "align": "left"
          },
          "hovermode": "closest",
          "mapbox": {
           "style": "light"
          },
          "paper_bgcolor": "white",
          "plot_bgcolor": "#E5ECF6",
          "polar": {
           "angularaxis": {
            "gridcolor": "white",
            "linecolor": "white",
            "ticks": ""
           },
           "bgcolor": "#E5ECF6",
           "radialaxis": {
            "gridcolor": "white",
            "linecolor": "white",
            "ticks": ""
           }
          },
          "scene": {
           "xaxis": {
            "backgroundcolor": "#E5ECF6",
            "gridcolor": "white",
            "gridwidth": 2,
            "linecolor": "white",
            "showbackground": true,
            "ticks": "",
            "zerolinecolor": "white"
           },
           "yaxis": {
            "backgroundcolor": "#E5ECF6",
            "gridcolor": "white",
            "gridwidth": 2,
            "linecolor": "white",
            "showbackground": true,
            "ticks": "",
            "zerolinecolor": "white"
           },
           "zaxis": {
            "backgroundcolor": "#E5ECF6",
            "gridcolor": "white",
            "gridwidth": 2,
            "linecolor": "white",
            "showbackground": true,
            "ticks": "",
            "zerolinecolor": "white"
           }
          },
          "shapedefaults": {
           "line": {
            "color": "#2a3f5f"
           }
          },
          "ternary": {
           "aaxis": {
            "gridcolor": "white",
            "linecolor": "white",
            "ticks": ""
           },
           "baxis": {
            "gridcolor": "white",
            "linecolor": "white",
            "ticks": ""
           },
           "bgcolor": "#E5ECF6",
           "caxis": {
            "gridcolor": "white",
            "linecolor": "white",
            "ticks": ""
           }
          },
          "title": {
           "x": 0.05
          },
          "xaxis": {
           "automargin": true,
           "gridcolor": "white",
           "linecolor": "white",
           "ticks": "",
           "title": {
            "standoff": 15
           },
           "zerolinecolor": "white",
           "zerolinewidth": 2
          },
          "yaxis": {
           "automargin": true,
           "gridcolor": "white",
           "linecolor": "white",
           "ticks": "",
           "title": {
            "standoff": 15
           },
           "zerolinecolor": "white",
           "zerolinewidth": 2
          }
         }
        },
        "title": {
         "text": "Xu hướng giá cổ phiếu với đường trung bình động"
        },
        "xaxis": {
         "title": {
          "text": "Tháng"
         }
        },
        "yaxis": {
         "title": {
          "text": "Giá cổ phiếu"
         }
        }
       }
      }
     },
     "metadata": {},
     "output_type": "display_data"
    }
   ],
   "source": [
    "df['SMA_4'] = df['Price'].rolling(window=4).mean()\n",
    "\n",
    "fig = go.Figure()\n",
    "\n",
    "fig.add_trace(go.Scatter(x=df['Date'], y=df['Price'], mode='lines+markers', name='Giá cổ phiếu'))\n",
    "\n",
    "fig.add_trace(go.Scatter(x=df['Date'], y=df['SMA_4'], mode='lines', name='SMA 4 tháng'))\n",
    "\n",
    "fig.update_layout(title='Xu hướng giá cổ phiếu với đường trung bình động',\n",
    "                  xaxis_title='Tháng',\n",
    "                  yaxis_title='Giá cổ phiếu')\n",
    "\n",
    "fig.show()"
   ]
  },
  {
   "cell_type": "markdown",
   "metadata": {},
   "source": [
    "### Volatility Chart"
   ]
  },
  {
   "cell_type": "code",
   "execution_count": 16,
   "metadata": {},
   "outputs": [
    {
     "data": {
      "application/vnd.plotly.v1+json": {
       "config": {
        "plotlyServerURL": "https://plot.ly"
       },
       "data": [
        {
         "mode": "lines",
         "name": "Biến động",
         "type": "scatter",
         "x": [
          "2024-09-01T00:00:00",
          "2024-08-01T00:00:00",
          "2024-07-01T00:00:00",
          "2024-06-01T00:00:00",
          "2024-05-01T00:00:00",
          "2024-04-01T00:00:00",
          "2024-03-01T00:00:00",
          "2024-02-01T00:00:00",
          "2024-01-01T00:00:00",
          "2023-12-01T00:00:00",
          "2023-11-01T00:00:00",
          "2023-10-01T00:00:00",
          "2023-09-01T00:00:00",
          "2023-08-01T00:00:00",
          "2023-07-01T00:00:00",
          "2023-06-01T00:00:00",
          "2023-05-01T00:00:00",
          "2023-04-01T00:00:00",
          "2023-03-01T00:00:00",
          "2023-02-01T00:00:00",
          "2023-01-01T00:00:00",
          "2022-12-01T00:00:00",
          "2022-11-01T00:00:00",
          "2022-10-01T00:00:00",
          "2022-09-01T00:00:00",
          "2022-08-01T00:00:00",
          "2022-07-01T00:00:00",
          "2022-06-01T00:00:00",
          "2022-05-01T00:00:00",
          "2022-04-01T00:00:00",
          "2022-03-01T00:00:00",
          "2022-02-01T00:00:00",
          "2022-01-01T00:00:00",
          "2021-12-01T00:00:00",
          "2021-11-01T00:00:00",
          "2021-10-01T00:00:00",
          "2021-09-01T00:00:00",
          "2021-08-01T00:00:00",
          "2021-07-01T00:00:00",
          "2021-06-01T00:00:00",
          "2021-05-01T00:00:00",
          "2021-04-01T00:00:00",
          "2021-03-01T00:00:00",
          "2021-02-01T00:00:00",
          "2021-01-01T00:00:00",
          "2020-12-01T00:00:00",
          "2020-11-01T00:00:00",
          "2020-10-01T00:00:00",
          "2020-09-01T00:00:00",
          "2020-08-01T00:00:00",
          "2020-07-01T00:00:00",
          "2020-06-01T00:00:00",
          "2020-05-01T00:00:00",
          "2020-04-01T00:00:00",
          "2020-03-01T00:00:00",
          "2020-02-01T00:00:00",
          "2020-01-01T00:00:00",
          "2019-12-01T00:00:00",
          "2019-11-01T00:00:00",
          "2019-10-01T00:00:00",
          "2019-09-01T00:00:00",
          "2019-08-01T00:00:00",
          "2019-07-01T00:00:00",
          "2019-06-01T00:00:00",
          "2019-05-01T00:00:00",
          "2019-04-01T00:00:00",
          "2019-03-01T00:00:00",
          "2019-02-01T00:00:00",
          "2019-01-01T00:00:00",
          "2018-12-01T00:00:00",
          "2018-11-01T00:00:00",
          "2018-10-01T00:00:00",
          "2018-09-01T00:00:00",
          "2018-08-01T00:00:00",
          "2018-07-01T00:00:00",
          "2018-06-01T00:00:00",
          "2018-05-01T00:00:00",
          "2018-04-01T00:00:00",
          "2018-03-01T00:00:00",
          "2018-02-01T00:00:00",
          "2018-01-01T00:00:00",
          "2017-12-01T00:00:00",
          "2017-11-01T00:00:00",
          "2017-10-01T00:00:00",
          "2017-09-01T00:00:00",
          "2017-08-01T00:00:00",
          "2017-07-01T00:00:00",
          "2017-06-01T00:00:00",
          "2017-05-01T00:00:00",
          "2017-04-01T00:00:00",
          "2017-03-01T00:00:00",
          "2017-02-01T00:00:00",
          "2017-01-01T00:00:00",
          "2016-12-01T00:00:00",
          "2016-11-01T00:00:00",
          "2016-10-01T00:00:00",
          "2016-09-01T00:00:00",
          "2016-08-01T00:00:00",
          "2016-07-01T00:00:00",
          "2016-06-01T00:00:00",
          "2016-05-01T00:00:00",
          "2016-04-01T00:00:00",
          "2016-03-01T00:00:00",
          "2016-02-01T00:00:00",
          "2016-01-01T00:00:00",
          "2015-12-01T00:00:00",
          "2015-11-01T00:00:00",
          "2015-10-01T00:00:00",
          "2015-09-01T00:00:00",
          "2015-08-01T00:00:00",
          "2015-07-01T00:00:00",
          "2015-06-01T00:00:00",
          "2015-05-01T00:00:00",
          "2015-04-01T00:00:00",
          "2015-03-01T00:00:00",
          "2015-02-01T00:00:00",
          "2015-01-01T00:00:00",
          "2014-12-01T00:00:00",
          "2014-11-01T00:00:00",
          "2014-10-01T00:00:00",
          "2014-09-01T00:00:00",
          "2014-08-01T00:00:00",
          "2014-07-01T00:00:00",
          "2014-06-01T00:00:00",
          "2014-05-01T00:00:00",
          "2014-04-01T00:00:00",
          "2014-03-01T00:00:00",
          "2014-02-01T00:00:00",
          "2014-01-01T00:00:00",
          "2013-12-01T00:00:00",
          "2013-11-01T00:00:00",
          "2013-10-01T00:00:00",
          "2013-09-01T00:00:00",
          "2013-08-01T00:00:00",
          "2013-07-01T00:00:00",
          "2013-06-01T00:00:00",
          "2013-05-01T00:00:00",
          "2013-04-01T00:00:00",
          "2013-03-01T00:00:00",
          "2013-02-01T00:00:00",
          "2013-01-01T00:00:00"
         ],
         "y": [
          null,
          null,
          null,
          null,
          null,
          null,
          25.524262593704435,
          25.50264542767127,
          39.53872688655422,
          56.08915267339171,
          72.04372167880645,
          90.20533029863425,
          88.17095429307982,
          75.9603974512533,
          69.80011723963402,
          69.798310833702,
          73.9400001610056,
          79.45756429572648,
          73.00147715400458,
          81.74911005777413,
          65.34255045527352,
          41.85529317382209,
          34.022875847763025,
          33.88377312154424,
          46.632368841926144,
          95.9483220032433,
          99.74004960515161,
          104.25758444490137,
          104.67416523033154,
          112.25636993274068,
          120.26486539143205,
          122.41804018160497,
          131.09302255232762,
          119.7601047133507,
          80.25239859937369,
          46.4032943206613,
          55.167865560275054,
          71.0116796563735,
          80.7815593053876,
          75.23800432785558,
          65.80369388242363,
          66.74494334333505,
          71.31788058037341,
          85.9008188607802,
          116.97797409687726,
          123.14188678493004,
          111.01565563125857,
          111.21406336644775,
          112.29201110115932,
          108.51326197202594,
          106.48952850375652,
          105.05700908146416,
          67.70023011144673,
          57.34027604697089,
          82.41979535685965,
          78.60105330688857,
          88.81135622902093,
          102.49582637263572,
          112.5473237396267,
          123.59240030958892,
          118.45131191860247,
          41.0808461914975,
          22.543890419314152,
          18.814730424652097,
          18.995319598959508,
          18.660868147006127,
          16.793093818589487,
          14.918675576348292,
          26.892807234506673,
          34.14199585484626,
          35.09951397031504,
          36.05610383568204,
          44.87099190218191,
          46.17429505481901,
          45.63543026244033,
          43.4210850141896,
          35.129533362765685,
          44.094170006604934,
          77.00776689337711,
          86.5334795379934,
          88.66862361785958,
          84.32373983641811,
          86.38180421824917,
          116.7018957898813,
          144.2377664862859,
          140.04582343613373,
          125.09602191916423,
          86.07050896959869,
          68.47245515012432,
          39.811534222420406,
          34.18723237033031,
          32.516874959672386,
          33.047688702412266,
          34.48209991119798,
          28.23858513587958,
          24.736993022791882,
          22.33295163142481,
          17.07371259875531,
          14.829064286703463,
          17.66037844064521,
          24.740941584271436,
          32.933813135122854,
          43.66163457010606,
          43.78892608433324,
          41.04746149566687,
          32.57920166229589,
          25.02656683644825,
          22.10769172332328,
          19.767770787443993,
          19.55854033408839,
          26.51195687125003,
          22.155286373366543,
          22.918647014004723,
          24.138643193813962,
          24.025211361245976,
          24.134118114052185,
          23.370330804353788,
          18.643388844821285,
          15.64638372946542,
          20.46498217048468,
          22.512977633021517,
          29.055652183520195,
          29.174005389667858,
          29.035869606569445,
          25.391871027671364,
          23.85964514964234,
          23.603323817595655,
          23.43620195136027,
          14.709610722898741,
          29.533289046513566,
          35.76599868457343,
          41.59955402691515,
          43.15834952049786,
          39.93197942692656,
          26.04542826166277,
          12.425933901860649,
          15.384262366831473,
          15.752642862165404,
          15.42043958980838,
          16.184137736863946,
          15.392827179290329
         ]
        }
       ],
       "layout": {
        "template": {
         "data": {
          "bar": [
           {
            "error_x": {
             "color": "#2a3f5f"
            },
            "error_y": {
             "color": "#2a3f5f"
            },
            "marker": {
             "line": {
              "color": "#E5ECF6",
              "width": 0.5
             },
             "pattern": {
              "fillmode": "overlay",
              "size": 10,
              "solidity": 0.2
             }
            },
            "type": "bar"
           }
          ],
          "barpolar": [
           {
            "marker": {
             "line": {
              "color": "#E5ECF6",
              "width": 0.5
             },
             "pattern": {
              "fillmode": "overlay",
              "size": 10,
              "solidity": 0.2
             }
            },
            "type": "barpolar"
           }
          ],
          "carpet": [
           {
            "aaxis": {
             "endlinecolor": "#2a3f5f",
             "gridcolor": "white",
             "linecolor": "white",
             "minorgridcolor": "white",
             "startlinecolor": "#2a3f5f"
            },
            "baxis": {
             "endlinecolor": "#2a3f5f",
             "gridcolor": "white",
             "linecolor": "white",
             "minorgridcolor": "white",
             "startlinecolor": "#2a3f5f"
            },
            "type": "carpet"
           }
          ],
          "choropleth": [
           {
            "colorbar": {
             "outlinewidth": 0,
             "ticks": ""
            },
            "type": "choropleth"
           }
          ],
          "contour": [
           {
            "colorbar": {
             "outlinewidth": 0,
             "ticks": ""
            },
            "colorscale": [
             [
              0,
              "#0d0887"
             ],
             [
              0.1111111111111111,
              "#46039f"
             ],
             [
              0.2222222222222222,
              "#7201a8"
             ],
             [
              0.3333333333333333,
              "#9c179e"
             ],
             [
              0.4444444444444444,
              "#bd3786"
             ],
             [
              0.5555555555555556,
              "#d8576b"
             ],
             [
              0.6666666666666666,
              "#ed7953"
             ],
             [
              0.7777777777777778,
              "#fb9f3a"
             ],
             [
              0.8888888888888888,
              "#fdca26"
             ],
             [
              1,
              "#f0f921"
             ]
            ],
            "type": "contour"
           }
          ],
          "contourcarpet": [
           {
            "colorbar": {
             "outlinewidth": 0,
             "ticks": ""
            },
            "type": "contourcarpet"
           }
          ],
          "heatmap": [
           {
            "colorbar": {
             "outlinewidth": 0,
             "ticks": ""
            },
            "colorscale": [
             [
              0,
              "#0d0887"
             ],
             [
              0.1111111111111111,
              "#46039f"
             ],
             [
              0.2222222222222222,
              "#7201a8"
             ],
             [
              0.3333333333333333,
              "#9c179e"
             ],
             [
              0.4444444444444444,
              "#bd3786"
             ],
             [
              0.5555555555555556,
              "#d8576b"
             ],
             [
              0.6666666666666666,
              "#ed7953"
             ],
             [
              0.7777777777777778,
              "#fb9f3a"
             ],
             [
              0.8888888888888888,
              "#fdca26"
             ],
             [
              1,
              "#f0f921"
             ]
            ],
            "type": "heatmap"
           }
          ],
          "heatmapgl": [
           {
            "colorbar": {
             "outlinewidth": 0,
             "ticks": ""
            },
            "colorscale": [
             [
              0,
              "#0d0887"
             ],
             [
              0.1111111111111111,
              "#46039f"
             ],
             [
              0.2222222222222222,
              "#7201a8"
             ],
             [
              0.3333333333333333,
              "#9c179e"
             ],
             [
              0.4444444444444444,
              "#bd3786"
             ],
             [
              0.5555555555555556,
              "#d8576b"
             ],
             [
              0.6666666666666666,
              "#ed7953"
             ],
             [
              0.7777777777777778,
              "#fb9f3a"
             ],
             [
              0.8888888888888888,
              "#fdca26"
             ],
             [
              1,
              "#f0f921"
             ]
            ],
            "type": "heatmapgl"
           }
          ],
          "histogram": [
           {
            "marker": {
             "pattern": {
              "fillmode": "overlay",
              "size": 10,
              "solidity": 0.2
             }
            },
            "type": "histogram"
           }
          ],
          "histogram2d": [
           {
            "colorbar": {
             "outlinewidth": 0,
             "ticks": ""
            },
            "colorscale": [
             [
              0,
              "#0d0887"
             ],
             [
              0.1111111111111111,
              "#46039f"
             ],
             [
              0.2222222222222222,
              "#7201a8"
             ],
             [
              0.3333333333333333,
              "#9c179e"
             ],
             [
              0.4444444444444444,
              "#bd3786"
             ],
             [
              0.5555555555555556,
              "#d8576b"
             ],
             [
              0.6666666666666666,
              "#ed7953"
             ],
             [
              0.7777777777777778,
              "#fb9f3a"
             ],
             [
              0.8888888888888888,
              "#fdca26"
             ],
             [
              1,
              "#f0f921"
             ]
            ],
            "type": "histogram2d"
           }
          ],
          "histogram2dcontour": [
           {
            "colorbar": {
             "outlinewidth": 0,
             "ticks": ""
            },
            "colorscale": [
             [
              0,
              "#0d0887"
             ],
             [
              0.1111111111111111,
              "#46039f"
             ],
             [
              0.2222222222222222,
              "#7201a8"
             ],
             [
              0.3333333333333333,
              "#9c179e"
             ],
             [
              0.4444444444444444,
              "#bd3786"
             ],
             [
              0.5555555555555556,
              "#d8576b"
             ],
             [
              0.6666666666666666,
              "#ed7953"
             ],
             [
              0.7777777777777778,
              "#fb9f3a"
             ],
             [
              0.8888888888888888,
              "#fdca26"
             ],
             [
              1,
              "#f0f921"
             ]
            ],
            "type": "histogram2dcontour"
           }
          ],
          "mesh3d": [
           {
            "colorbar": {
             "outlinewidth": 0,
             "ticks": ""
            },
            "type": "mesh3d"
           }
          ],
          "parcoords": [
           {
            "line": {
             "colorbar": {
              "outlinewidth": 0,
              "ticks": ""
             }
            },
            "type": "parcoords"
           }
          ],
          "pie": [
           {
            "automargin": true,
            "type": "pie"
           }
          ],
          "scatter": [
           {
            "fillpattern": {
             "fillmode": "overlay",
             "size": 10,
             "solidity": 0.2
            },
            "type": "scatter"
           }
          ],
          "scatter3d": [
           {
            "line": {
             "colorbar": {
              "outlinewidth": 0,
              "ticks": ""
             }
            },
            "marker": {
             "colorbar": {
              "outlinewidth": 0,
              "ticks": ""
             }
            },
            "type": "scatter3d"
           }
          ],
          "scattercarpet": [
           {
            "marker": {
             "colorbar": {
              "outlinewidth": 0,
              "ticks": ""
             }
            },
            "type": "scattercarpet"
           }
          ],
          "scattergeo": [
           {
            "marker": {
             "colorbar": {
              "outlinewidth": 0,
              "ticks": ""
             }
            },
            "type": "scattergeo"
           }
          ],
          "scattergl": [
           {
            "marker": {
             "colorbar": {
              "outlinewidth": 0,
              "ticks": ""
             }
            },
            "type": "scattergl"
           }
          ],
          "scattermapbox": [
           {
            "marker": {
             "colorbar": {
              "outlinewidth": 0,
              "ticks": ""
             }
            },
            "type": "scattermapbox"
           }
          ],
          "scatterpolar": [
           {
            "marker": {
             "colorbar": {
              "outlinewidth": 0,
              "ticks": ""
             }
            },
            "type": "scatterpolar"
           }
          ],
          "scatterpolargl": [
           {
            "marker": {
             "colorbar": {
              "outlinewidth": 0,
              "ticks": ""
             }
            },
            "type": "scatterpolargl"
           }
          ],
          "scatterternary": [
           {
            "marker": {
             "colorbar": {
              "outlinewidth": 0,
              "ticks": ""
             }
            },
            "type": "scatterternary"
           }
          ],
          "surface": [
           {
            "colorbar": {
             "outlinewidth": 0,
             "ticks": ""
            },
            "colorscale": [
             [
              0,
              "#0d0887"
             ],
             [
              0.1111111111111111,
              "#46039f"
             ],
             [
              0.2222222222222222,
              "#7201a8"
             ],
             [
              0.3333333333333333,
              "#9c179e"
             ],
             [
              0.4444444444444444,
              "#bd3786"
             ],
             [
              0.5555555555555556,
              "#d8576b"
             ],
             [
              0.6666666666666666,
              "#ed7953"
             ],
             [
              0.7777777777777778,
              "#fb9f3a"
             ],
             [
              0.8888888888888888,
              "#fdca26"
             ],
             [
              1,
              "#f0f921"
             ]
            ],
            "type": "surface"
           }
          ],
          "table": [
           {
            "cells": {
             "fill": {
              "color": "#EBF0F8"
             },
             "line": {
              "color": "white"
             }
            },
            "header": {
             "fill": {
              "color": "#C8D4E3"
             },
             "line": {
              "color": "white"
             }
            },
            "type": "table"
           }
          ]
         },
         "layout": {
          "annotationdefaults": {
           "arrowcolor": "#2a3f5f",
           "arrowhead": 0,
           "arrowwidth": 1
          },
          "autotypenumbers": "strict",
          "coloraxis": {
           "colorbar": {
            "outlinewidth": 0,
            "ticks": ""
           }
          },
          "colorscale": {
           "diverging": [
            [
             0,
             "#8e0152"
            ],
            [
             0.1,
             "#c51b7d"
            ],
            [
             0.2,
             "#de77ae"
            ],
            [
             0.3,
             "#f1b6da"
            ],
            [
             0.4,
             "#fde0ef"
            ],
            [
             0.5,
             "#f7f7f7"
            ],
            [
             0.6,
             "#e6f5d0"
            ],
            [
             0.7,
             "#b8e186"
            ],
            [
             0.8,
             "#7fbc41"
            ],
            [
             0.9,
             "#4d9221"
            ],
            [
             1,
             "#276419"
            ]
           ],
           "sequential": [
            [
             0,
             "#0d0887"
            ],
            [
             0.1111111111111111,
             "#46039f"
            ],
            [
             0.2222222222222222,
             "#7201a8"
            ],
            [
             0.3333333333333333,
             "#9c179e"
            ],
            [
             0.4444444444444444,
             "#bd3786"
            ],
            [
             0.5555555555555556,
             "#d8576b"
            ],
            [
             0.6666666666666666,
             "#ed7953"
            ],
            [
             0.7777777777777778,
             "#fb9f3a"
            ],
            [
             0.8888888888888888,
             "#fdca26"
            ],
            [
             1,
             "#f0f921"
            ]
           ],
           "sequentialminus": [
            [
             0,
             "#0d0887"
            ],
            [
             0.1111111111111111,
             "#46039f"
            ],
            [
             0.2222222222222222,
             "#7201a8"
            ],
            [
             0.3333333333333333,
             "#9c179e"
            ],
            [
             0.4444444444444444,
             "#bd3786"
            ],
            [
             0.5555555555555556,
             "#d8576b"
            ],
            [
             0.6666666666666666,
             "#ed7953"
            ],
            [
             0.7777777777777778,
             "#fb9f3a"
            ],
            [
             0.8888888888888888,
             "#fdca26"
            ],
            [
             1,
             "#f0f921"
            ]
           ]
          },
          "colorway": [
           "#636efa",
           "#EF553B",
           "#00cc96",
           "#ab63fa",
           "#FFA15A",
           "#19d3f3",
           "#FF6692",
           "#B6E880",
           "#FF97FF",
           "#FECB52"
          ],
          "font": {
           "color": "#2a3f5f"
          },
          "geo": {
           "bgcolor": "white",
           "lakecolor": "white",
           "landcolor": "#E5ECF6",
           "showlakes": true,
           "showland": true,
           "subunitcolor": "white"
          },
          "hoverlabel": {
           "align": "left"
          },
          "hovermode": "closest",
          "mapbox": {
           "style": "light"
          },
          "paper_bgcolor": "white",
          "plot_bgcolor": "#E5ECF6",
          "polar": {
           "angularaxis": {
            "gridcolor": "white",
            "linecolor": "white",
            "ticks": ""
           },
           "bgcolor": "#E5ECF6",
           "radialaxis": {
            "gridcolor": "white",
            "linecolor": "white",
            "ticks": ""
           }
          },
          "scene": {
           "xaxis": {
            "backgroundcolor": "#E5ECF6",
            "gridcolor": "white",
            "gridwidth": 2,
            "linecolor": "white",
            "showbackground": true,
            "ticks": "",
            "zerolinecolor": "white"
           },
           "yaxis": {
            "backgroundcolor": "#E5ECF6",
            "gridcolor": "white",
            "gridwidth": 2,
            "linecolor": "white",
            "showbackground": true,
            "ticks": "",
            "zerolinecolor": "white"
           },
           "zaxis": {
            "backgroundcolor": "#E5ECF6",
            "gridcolor": "white",
            "gridwidth": 2,
            "linecolor": "white",
            "showbackground": true,
            "ticks": "",
            "zerolinecolor": "white"
           }
          },
          "shapedefaults": {
           "line": {
            "color": "#2a3f5f"
           }
          },
          "ternary": {
           "aaxis": {
            "gridcolor": "white",
            "linecolor": "white",
            "ticks": ""
           },
           "baxis": {
            "gridcolor": "white",
            "linecolor": "white",
            "ticks": ""
           },
           "bgcolor": "#E5ECF6",
           "caxis": {
            "gridcolor": "white",
            "linecolor": "white",
            "ticks": ""
           }
          },
          "title": {
           "x": 0.05
          },
          "xaxis": {
           "automargin": true,
           "gridcolor": "white",
           "linecolor": "white",
           "ticks": "",
           "title": {
            "standoff": 15
           },
           "zerolinecolor": "white",
           "zerolinewidth": 2
          },
          "yaxis": {
           "automargin": true,
           "gridcolor": "white",
           "linecolor": "white",
           "ticks": "",
           "title": {
            "standoff": 15
           },
           "zerolinecolor": "white",
           "zerolinewidth": 2
          }
         }
        },
        "title": {
         "text": "Biến động giá cổ phiếu"
        },
        "xaxis": {
         "title": {
          "text": "Tháng"
         }
        },
        "yaxis": {
         "title": {
          "text": "Độ lệch chuẩn"
         }
        }
       }
      }
     },
     "metadata": {},
     "output_type": "display_data"
    }
   ],
   "source": [
    "# Tính độ lệch chuẩn 7 ngày\n",
    "df['Volatility'] = df['Price'].rolling(window=7).std()\n",
    "\n",
    "# Vẽ biểu đồ biến động\n",
    "fig = go.Figure()\n",
    "\n",
    "# Độ lệch chuẩn\n",
    "fig.add_trace(go.Scatter(x=df['Date'], y=df['Volatility'], mode='lines', name='Biến động'))\n",
    "\n",
    "fig.update_layout(title='Biến động giá cổ phiếu',\n",
    "                  xaxis_title='Tháng',\n",
    "                  yaxis_title='Độ lệch chuẩn')\n",
    "\n",
    "fig.show()"
   ]
  },
  {
   "cell_type": "markdown",
   "metadata": {},
   "source": [
    "### Market State Chart"
   ]
  },
  {
   "cell_type": "code",
   "execution_count": 17,
   "metadata": {},
   "outputs": [
    {
     "data": {
      "application/vnd.plotly.v1+json": {
       "config": {
        "plotlyServerURL": "https://plot.ly"
       },
       "data": [
        {
         "line": {
          "color": "black"
         },
         "mode": "lines",
         "name": "Giá cổ phiếu",
         "type": "scatter",
         "x": [
          "2024-09-01T00:00:00",
          "2024-08-01T00:00:00",
          "2024-07-01T00:00:00",
          "2024-06-01T00:00:00",
          "2024-05-01T00:00:00",
          "2024-04-01T00:00:00",
          "2024-03-01T00:00:00",
          "2024-02-01T00:00:00",
          "2024-01-01T00:00:00",
          "2023-12-01T00:00:00",
          "2023-11-01T00:00:00",
          "2023-10-01T00:00:00",
          "2023-09-01T00:00:00",
          "2023-08-01T00:00:00",
          "2023-07-01T00:00:00",
          "2023-06-01T00:00:00",
          "2023-05-01T00:00:00",
          "2023-04-01T00:00:00",
          "2023-03-01T00:00:00",
          "2023-02-01T00:00:00",
          "2023-01-01T00:00:00",
          "2022-12-01T00:00:00",
          "2022-11-01T00:00:00",
          "2022-10-01T00:00:00",
          "2022-09-01T00:00:00",
          "2022-08-01T00:00:00",
          "2022-07-01T00:00:00",
          "2022-06-01T00:00:00",
          "2022-05-01T00:00:00",
          "2022-04-01T00:00:00",
          "2022-03-01T00:00:00",
          "2022-02-01T00:00:00",
          "2022-01-01T00:00:00",
          "2021-12-01T00:00:00",
          "2021-11-01T00:00:00",
          "2021-10-01T00:00:00",
          "2021-09-01T00:00:00",
          "2021-08-01T00:00:00",
          "2021-07-01T00:00:00",
          "2021-06-01T00:00:00",
          "2021-05-01T00:00:00",
          "2021-04-01T00:00:00",
          "2021-03-01T00:00:00",
          "2021-02-01T00:00:00",
          "2021-01-01T00:00:00",
          "2020-12-01T00:00:00",
          "2020-11-01T00:00:00",
          "2020-10-01T00:00:00",
          "2020-09-01T00:00:00",
          "2020-08-01T00:00:00",
          "2020-07-01T00:00:00",
          "2020-06-01T00:00:00",
          "2020-05-01T00:00:00",
          "2020-04-01T00:00:00",
          "2020-03-01T00:00:00",
          "2020-02-01T00:00:00",
          "2020-01-01T00:00:00",
          "2019-12-01T00:00:00",
          "2019-11-01T00:00:00",
          "2019-10-01T00:00:00",
          "2019-09-01T00:00:00",
          "2019-08-01T00:00:00",
          "2019-07-01T00:00:00",
          "2019-06-01T00:00:00",
          "2019-05-01T00:00:00",
          "2019-04-01T00:00:00",
          "2019-03-01T00:00:00",
          "2019-02-01T00:00:00",
          "2019-01-01T00:00:00",
          "2018-12-01T00:00:00",
          "2018-11-01T00:00:00",
          "2018-10-01T00:00:00",
          "2018-09-01T00:00:00",
          "2018-08-01T00:00:00",
          "2018-07-01T00:00:00",
          "2018-06-01T00:00:00",
          "2018-05-01T00:00:00",
          "2018-04-01T00:00:00",
          "2018-03-01T00:00:00",
          "2018-02-01T00:00:00",
          "2018-01-01T00:00:00",
          "2017-12-01T00:00:00",
          "2017-11-01T00:00:00",
          "2017-10-01T00:00:00",
          "2017-09-01T00:00:00",
          "2017-08-01T00:00:00",
          "2017-07-01T00:00:00",
          "2017-06-01T00:00:00",
          "2017-05-01T00:00:00",
          "2017-04-01T00:00:00",
          "2017-03-01T00:00:00",
          "2017-02-01T00:00:00",
          "2017-01-01T00:00:00",
          "2016-12-01T00:00:00",
          "2016-11-01T00:00:00",
          "2016-10-01T00:00:00",
          "2016-09-01T00:00:00",
          "2016-08-01T00:00:00",
          "2016-07-01T00:00:00",
          "2016-06-01T00:00:00",
          "2016-05-01T00:00:00",
          "2016-04-01T00:00:00",
          "2016-03-01T00:00:00",
          "2016-02-01T00:00:00",
          "2016-01-01T00:00:00",
          "2015-12-01T00:00:00",
          "2015-11-01T00:00:00",
          "2015-10-01T00:00:00",
          "2015-09-01T00:00:00",
          "2015-08-01T00:00:00",
          "2015-07-01T00:00:00",
          "2015-06-01T00:00:00",
          "2015-05-01T00:00:00",
          "2015-04-01T00:00:00",
          "2015-03-01T00:00:00",
          "2015-02-01T00:00:00",
          "2015-01-01T00:00:00",
          "2014-12-01T00:00:00",
          "2014-11-01T00:00:00",
          "2014-10-01T00:00:00",
          "2014-09-01T00:00:00",
          "2014-08-01T00:00:00",
          "2014-07-01T00:00:00",
          "2014-06-01T00:00:00",
          "2014-05-01T00:00:00",
          "2014-04-01T00:00:00",
          "2014-03-01T00:00:00",
          "2014-02-01T00:00:00",
          "2014-01-01T00:00:00",
          "2013-12-01T00:00:00",
          "2013-11-01T00:00:00",
          "2013-10-01T00:00:00",
          "2013-09-01T00:00:00",
          "2013-08-01T00:00:00",
          "2013-07-01T00:00:00",
          "2013-06-01T00:00:00",
          "2013-05-01T00:00:00",
          "2013-04-01T00:00:00",
          "2013-03-01T00:00:00",
          "2013-02-01T00:00:00",
          "2013-01-01T00:00:00"
         ],
         "y": [
          1251.71,
          1283.87,
          1251.51,
          1245.32,
          1261.72,
          1209.52,
          1284.09,
          1252.73,
          1164.31,
          1129.93,
          1094.13,
          1028.19,
          1154.15,
          1224.05,
          1222.9,
          1120.18,
          1075.17,
          1049.12,
          1064.64,
          1024.68,
          1111.18,
          1007.09,
          1048.42,
          1027.94,
          1132.11,
          1280.51,
          1206.33,
          1197.6,
          1292.68,
          1366.8,
          1492.15,
          1490.13,
          1478.96,
          1498.28,
          1478.44,
          1444.27,
          1342.06,
          1331.47,
          1310.05,
          1408.55,
          1328.05,
          1239.39,
          1191.44,
          1168.47,
          1056.61,
          1103.87,
          1003.08,
          925.47,
          905.21,
          881.65,
          798.39,
          825.11,
          864.47,
          769.11,
          662.53,
          882.19,
          936.62,
          960.99,
          970.75,
          998.82,
          996.56,
          984.06,
          991.66,
          949.94,
          959.88,
          979.64,
          980.76,
          965.47,
          910.65,
          892.54,
          926.54,
          914.76,
          1017.13,
          989.54,
          956.39,
          960.78,
          971.25,
          1050.26,
          1174.46,
          1121.54,
          1110.36,
          984.24,
          949.93,
          837.28,
          804.42,
          782.76,
          783.55,
          776.47,
          737.82,
          717.73,
          722.31,
          710.79,
          697.28,
          664.87,
          665.07,
          675.8,
          685.73,
          674.63,
          652.23,
          632.26,
          618.44,
          598.37,
          561.22,
          559.37,
          545.25,
          579.03,
          573.2,
          607.37,
          562.64,
          564.75,
          621.06,
          593.05,
          569.56,
          562.4,
          551.13,
          592.57,
          576.07,
          545.63,
          566.58,
          600.84,
          598.8,
          636.65,
          596.07,
          578.13,
          562.02,
          578,
          591.57,
          586.48,
          556.52,
          504.63,
          507.78,
          497.41,
          492.63,
          472.7,
          491.85,
          481.13,
          518.39,
          474.51,
          491.04,
          474.56,
          479.79
         ]
        },
        {
         "marker": {
          "color": "green",
          "size": 8
         },
         "mode": "markers",
         "name": "Tăng",
         "type": "scatter",
         "x": [
          "2024-08-01T00:00:00",
          "2024-05-01T00:00:00",
          "2024-03-01T00:00:00",
          "2023-09-01T00:00:00",
          "2023-08-01T00:00:00",
          "2023-03-01T00:00:00",
          "2023-01-01T00:00:00",
          "2022-11-01T00:00:00",
          "2022-09-01T00:00:00",
          "2022-08-01T00:00:00",
          "2022-05-01T00:00:00",
          "2022-04-01T00:00:00",
          "2022-03-01T00:00:00",
          "2021-12-01T00:00:00",
          "2021-06-01T00:00:00",
          "2020-12-01T00:00:00",
          "2020-06-01T00:00:00",
          "2020-05-01T00:00:00",
          "2020-02-01T00:00:00",
          "2020-01-01T00:00:00",
          "2019-12-01T00:00:00",
          "2019-11-01T00:00:00",
          "2019-10-01T00:00:00",
          "2019-07-01T00:00:00",
          "2019-05-01T00:00:00",
          "2019-04-01T00:00:00",
          "2019-03-01T00:00:00",
          "2018-11-01T00:00:00",
          "2018-09-01T00:00:00",
          "2018-06-01T00:00:00",
          "2018-05-01T00:00:00",
          "2018-04-01T00:00:00",
          "2018-03-01T00:00:00",
          "2017-07-01T00:00:00",
          "2017-03-01T00:00:00",
          "2016-11-01T00:00:00",
          "2016-10-01T00:00:00",
          "2016-09-01T00:00:00",
          "2015-12-01T00:00:00",
          "2015-10-01T00:00:00",
          "2015-08-01T00:00:00",
          "2015-07-01T00:00:00",
          "2015-02-01T00:00:00",
          "2014-11-01T00:00:00",
          "2014-10-01T00:00:00",
          "2014-08-01T00:00:00",
          "2014-04-01T00:00:00",
          "2014-03-01T00:00:00",
          "2013-11-01T00:00:00",
          "2013-07-01T00:00:00",
          "2013-05-01T00:00:00",
          "2013-03-01T00:00:00",
          "2013-01-01T00:00:00"
         ],
         "y": [
          1283.87,
          1261.72,
          1284.09,
          1154.15,
          1224.05,
          1064.64,
          1111.18,
          1048.42,
          1132.11,
          1280.51,
          1292.68,
          1366.8,
          1492.15,
          1498.28,
          1408.55,
          1103.87,
          825.11,
          864.47,
          882.19,
          936.62,
          960.99,
          970.75,
          998.82,
          991.66,
          959.88,
          979.64,
          980.76,
          926.54,
          1017.13,
          960.78,
          971.25,
          1050.26,
          1174.46,
          783.55,
          722.31,
          665.07,
          675.8,
          685.73,
          579.03,
          607.37,
          564.75,
          621.06,
          592.57,
          566.58,
          600.84,
          636.65,
          578,
          591.57,
          507.78,
          491.85,
          518.39,
          491.04,
          479.79
         ]
        },
        {
         "marker": {
          "color": "red",
          "size": 8
         },
         "mode": "markers",
         "name": "Giảm",
         "type": "scatter",
         "x": [
          "2024-07-01T00:00:00",
          "2024-06-01T00:00:00",
          "2024-04-01T00:00:00",
          "2024-02-01T00:00:00",
          "2024-01-01T00:00:00",
          "2023-12-01T00:00:00",
          "2023-11-01T00:00:00",
          "2023-10-01T00:00:00",
          "2023-07-01T00:00:00",
          "2023-06-01T00:00:00",
          "2023-05-01T00:00:00",
          "2023-04-01T00:00:00",
          "2023-02-01T00:00:00",
          "2022-12-01T00:00:00",
          "2022-10-01T00:00:00",
          "2022-07-01T00:00:00",
          "2022-06-01T00:00:00",
          "2022-02-01T00:00:00",
          "2022-01-01T00:00:00",
          "2021-11-01T00:00:00",
          "2021-10-01T00:00:00",
          "2021-09-01T00:00:00",
          "2021-08-01T00:00:00",
          "2021-07-01T00:00:00",
          "2021-05-01T00:00:00",
          "2021-04-01T00:00:00",
          "2021-03-01T00:00:00",
          "2021-02-01T00:00:00",
          "2021-01-01T00:00:00",
          "2020-11-01T00:00:00",
          "2020-10-01T00:00:00",
          "2020-09-01T00:00:00",
          "2020-08-01T00:00:00",
          "2020-07-01T00:00:00",
          "2020-04-01T00:00:00",
          "2020-03-01T00:00:00",
          "2019-09-01T00:00:00",
          "2019-08-01T00:00:00",
          "2019-06-01T00:00:00",
          "2019-02-01T00:00:00",
          "2019-01-01T00:00:00",
          "2018-12-01T00:00:00",
          "2018-10-01T00:00:00",
          "2018-08-01T00:00:00",
          "2018-07-01T00:00:00",
          "2018-02-01T00:00:00",
          "2018-01-01T00:00:00",
          "2017-12-01T00:00:00",
          "2017-11-01T00:00:00",
          "2017-10-01T00:00:00",
          "2017-09-01T00:00:00",
          "2017-08-01T00:00:00",
          "2017-06-01T00:00:00",
          "2017-05-01T00:00:00",
          "2017-04-01T00:00:00",
          "2017-02-01T00:00:00",
          "2017-01-01T00:00:00",
          "2016-12-01T00:00:00",
          "2016-08-01T00:00:00",
          "2016-07-01T00:00:00",
          "2016-06-01T00:00:00",
          "2016-05-01T00:00:00",
          "2016-04-01T00:00:00",
          "2016-03-01T00:00:00",
          "2016-02-01T00:00:00",
          "2016-01-01T00:00:00",
          "2015-11-01T00:00:00",
          "2015-09-01T00:00:00",
          "2015-06-01T00:00:00",
          "2015-05-01T00:00:00",
          "2015-04-01T00:00:00",
          "2015-03-01T00:00:00",
          "2015-01-01T00:00:00",
          "2014-12-01T00:00:00",
          "2014-09-01T00:00:00",
          "2014-07-01T00:00:00",
          "2014-06-01T00:00:00",
          "2014-05-01T00:00:00",
          "2014-02-01T00:00:00",
          "2014-01-01T00:00:00",
          "2013-12-01T00:00:00",
          "2013-10-01T00:00:00",
          "2013-09-01T00:00:00",
          "2013-08-01T00:00:00",
          "2013-06-01T00:00:00",
          "2013-04-01T00:00:00",
          "2013-02-01T00:00:00"
         ],
         "y": [
          1251.51,
          1245.32,
          1209.52,
          1252.73,
          1164.31,
          1129.93,
          1094.13,
          1028.19,
          1222.9,
          1120.18,
          1075.17,
          1049.12,
          1024.68,
          1007.09,
          1027.94,
          1206.33,
          1197.6,
          1490.13,
          1478.96,
          1478.44,
          1444.27,
          1342.06,
          1331.47,
          1310.05,
          1328.05,
          1239.39,
          1191.44,
          1168.47,
          1056.61,
          1003.08,
          925.47,
          905.21,
          881.65,
          798.39,
          769.11,
          662.53,
          996.56,
          984.06,
          949.94,
          965.47,
          910.65,
          892.54,
          914.76,
          989.54,
          956.39,
          1121.54,
          1110.36,
          984.24,
          949.93,
          837.28,
          804.42,
          782.76,
          776.47,
          737.82,
          717.73,
          710.79,
          697.28,
          664.87,
          674.63,
          652.23,
          632.26,
          618.44,
          598.37,
          561.22,
          559.37,
          545.25,
          573.2,
          562.64,
          593.05,
          569.56,
          562.4,
          551.13,
          576.07,
          545.63,
          598.8,
          596.07,
          578.13,
          562.02,
          586.48,
          556.52,
          504.63,
          497.41,
          492.63,
          472.7,
          481.13,
          474.51,
          474.56
         ]
        },
        {
         "marker": {
          "color": "blue",
          "size": 8
         },
         "mode": "markers",
         "name": "Đi ngang",
         "type": "scatter",
         "x": [
          "2024-09-01T00:00:00"
         ],
         "y": [
          1251.71
         ]
        }
       ],
       "layout": {
        "template": {
         "data": {
          "bar": [
           {
            "error_x": {
             "color": "#2a3f5f"
            },
            "error_y": {
             "color": "#2a3f5f"
            },
            "marker": {
             "line": {
              "color": "#E5ECF6",
              "width": 0.5
             },
             "pattern": {
              "fillmode": "overlay",
              "size": 10,
              "solidity": 0.2
             }
            },
            "type": "bar"
           }
          ],
          "barpolar": [
           {
            "marker": {
             "line": {
              "color": "#E5ECF6",
              "width": 0.5
             },
             "pattern": {
              "fillmode": "overlay",
              "size": 10,
              "solidity": 0.2
             }
            },
            "type": "barpolar"
           }
          ],
          "carpet": [
           {
            "aaxis": {
             "endlinecolor": "#2a3f5f",
             "gridcolor": "white",
             "linecolor": "white",
             "minorgridcolor": "white",
             "startlinecolor": "#2a3f5f"
            },
            "baxis": {
             "endlinecolor": "#2a3f5f",
             "gridcolor": "white",
             "linecolor": "white",
             "minorgridcolor": "white",
             "startlinecolor": "#2a3f5f"
            },
            "type": "carpet"
           }
          ],
          "choropleth": [
           {
            "colorbar": {
             "outlinewidth": 0,
             "ticks": ""
            },
            "type": "choropleth"
           }
          ],
          "contour": [
           {
            "colorbar": {
             "outlinewidth": 0,
             "ticks": ""
            },
            "colorscale": [
             [
              0,
              "#0d0887"
             ],
             [
              0.1111111111111111,
              "#46039f"
             ],
             [
              0.2222222222222222,
              "#7201a8"
             ],
             [
              0.3333333333333333,
              "#9c179e"
             ],
             [
              0.4444444444444444,
              "#bd3786"
             ],
             [
              0.5555555555555556,
              "#d8576b"
             ],
             [
              0.6666666666666666,
              "#ed7953"
             ],
             [
              0.7777777777777778,
              "#fb9f3a"
             ],
             [
              0.8888888888888888,
              "#fdca26"
             ],
             [
              1,
              "#f0f921"
             ]
            ],
            "type": "contour"
           }
          ],
          "contourcarpet": [
           {
            "colorbar": {
             "outlinewidth": 0,
             "ticks": ""
            },
            "type": "contourcarpet"
           }
          ],
          "heatmap": [
           {
            "colorbar": {
             "outlinewidth": 0,
             "ticks": ""
            },
            "colorscale": [
             [
              0,
              "#0d0887"
             ],
             [
              0.1111111111111111,
              "#46039f"
             ],
             [
              0.2222222222222222,
              "#7201a8"
             ],
             [
              0.3333333333333333,
              "#9c179e"
             ],
             [
              0.4444444444444444,
              "#bd3786"
             ],
             [
              0.5555555555555556,
              "#d8576b"
             ],
             [
              0.6666666666666666,
              "#ed7953"
             ],
             [
              0.7777777777777778,
              "#fb9f3a"
             ],
             [
              0.8888888888888888,
              "#fdca26"
             ],
             [
              1,
              "#f0f921"
             ]
            ],
            "type": "heatmap"
           }
          ],
          "heatmapgl": [
           {
            "colorbar": {
             "outlinewidth": 0,
             "ticks": ""
            },
            "colorscale": [
             [
              0,
              "#0d0887"
             ],
             [
              0.1111111111111111,
              "#46039f"
             ],
             [
              0.2222222222222222,
              "#7201a8"
             ],
             [
              0.3333333333333333,
              "#9c179e"
             ],
             [
              0.4444444444444444,
              "#bd3786"
             ],
             [
              0.5555555555555556,
              "#d8576b"
             ],
             [
              0.6666666666666666,
              "#ed7953"
             ],
             [
              0.7777777777777778,
              "#fb9f3a"
             ],
             [
              0.8888888888888888,
              "#fdca26"
             ],
             [
              1,
              "#f0f921"
             ]
            ],
            "type": "heatmapgl"
           }
          ],
          "histogram": [
           {
            "marker": {
             "pattern": {
              "fillmode": "overlay",
              "size": 10,
              "solidity": 0.2
             }
            },
            "type": "histogram"
           }
          ],
          "histogram2d": [
           {
            "colorbar": {
             "outlinewidth": 0,
             "ticks": ""
            },
            "colorscale": [
             [
              0,
              "#0d0887"
             ],
             [
              0.1111111111111111,
              "#46039f"
             ],
             [
              0.2222222222222222,
              "#7201a8"
             ],
             [
              0.3333333333333333,
              "#9c179e"
             ],
             [
              0.4444444444444444,
              "#bd3786"
             ],
             [
              0.5555555555555556,
              "#d8576b"
             ],
             [
              0.6666666666666666,
              "#ed7953"
             ],
             [
              0.7777777777777778,
              "#fb9f3a"
             ],
             [
              0.8888888888888888,
              "#fdca26"
             ],
             [
              1,
              "#f0f921"
             ]
            ],
            "type": "histogram2d"
           }
          ],
          "histogram2dcontour": [
           {
            "colorbar": {
             "outlinewidth": 0,
             "ticks": ""
            },
            "colorscale": [
             [
              0,
              "#0d0887"
             ],
             [
              0.1111111111111111,
              "#46039f"
             ],
             [
              0.2222222222222222,
              "#7201a8"
             ],
             [
              0.3333333333333333,
              "#9c179e"
             ],
             [
              0.4444444444444444,
              "#bd3786"
             ],
             [
              0.5555555555555556,
              "#d8576b"
             ],
             [
              0.6666666666666666,
              "#ed7953"
             ],
             [
              0.7777777777777778,
              "#fb9f3a"
             ],
             [
              0.8888888888888888,
              "#fdca26"
             ],
             [
              1,
              "#f0f921"
             ]
            ],
            "type": "histogram2dcontour"
           }
          ],
          "mesh3d": [
           {
            "colorbar": {
             "outlinewidth": 0,
             "ticks": ""
            },
            "type": "mesh3d"
           }
          ],
          "parcoords": [
           {
            "line": {
             "colorbar": {
              "outlinewidth": 0,
              "ticks": ""
             }
            },
            "type": "parcoords"
           }
          ],
          "pie": [
           {
            "automargin": true,
            "type": "pie"
           }
          ],
          "scatter": [
           {
            "fillpattern": {
             "fillmode": "overlay",
             "size": 10,
             "solidity": 0.2
            },
            "type": "scatter"
           }
          ],
          "scatter3d": [
           {
            "line": {
             "colorbar": {
              "outlinewidth": 0,
              "ticks": ""
             }
            },
            "marker": {
             "colorbar": {
              "outlinewidth": 0,
              "ticks": ""
             }
            },
            "type": "scatter3d"
           }
          ],
          "scattercarpet": [
           {
            "marker": {
             "colorbar": {
              "outlinewidth": 0,
              "ticks": ""
             }
            },
            "type": "scattercarpet"
           }
          ],
          "scattergeo": [
           {
            "marker": {
             "colorbar": {
              "outlinewidth": 0,
              "ticks": ""
             }
            },
            "type": "scattergeo"
           }
          ],
          "scattergl": [
           {
            "marker": {
             "colorbar": {
              "outlinewidth": 0,
              "ticks": ""
             }
            },
            "type": "scattergl"
           }
          ],
          "scattermapbox": [
           {
            "marker": {
             "colorbar": {
              "outlinewidth": 0,
              "ticks": ""
             }
            },
            "type": "scattermapbox"
           }
          ],
          "scatterpolar": [
           {
            "marker": {
             "colorbar": {
              "outlinewidth": 0,
              "ticks": ""
             }
            },
            "type": "scatterpolar"
           }
          ],
          "scatterpolargl": [
           {
            "marker": {
             "colorbar": {
              "outlinewidth": 0,
              "ticks": ""
             }
            },
            "type": "scatterpolargl"
           }
          ],
          "scatterternary": [
           {
            "marker": {
             "colorbar": {
              "outlinewidth": 0,
              "ticks": ""
             }
            },
            "type": "scatterternary"
           }
          ],
          "surface": [
           {
            "colorbar": {
             "outlinewidth": 0,
             "ticks": ""
            },
            "colorscale": [
             [
              0,
              "#0d0887"
             ],
             [
              0.1111111111111111,
              "#46039f"
             ],
             [
              0.2222222222222222,
              "#7201a8"
             ],
             [
              0.3333333333333333,
              "#9c179e"
             ],
             [
              0.4444444444444444,
              "#bd3786"
             ],
             [
              0.5555555555555556,
              "#d8576b"
             ],
             [
              0.6666666666666666,
              "#ed7953"
             ],
             [
              0.7777777777777778,
              "#fb9f3a"
             ],
             [
              0.8888888888888888,
              "#fdca26"
             ],
             [
              1,
              "#f0f921"
             ]
            ],
            "type": "surface"
           }
          ],
          "table": [
           {
            "cells": {
             "fill": {
              "color": "#EBF0F8"
             },
             "line": {
              "color": "white"
             }
            },
            "header": {
             "fill": {
              "color": "#C8D4E3"
             },
             "line": {
              "color": "white"
             }
            },
            "type": "table"
           }
          ]
         },
         "layout": {
          "annotationdefaults": {
           "arrowcolor": "#2a3f5f",
           "arrowhead": 0,
           "arrowwidth": 1
          },
          "autotypenumbers": "strict",
          "coloraxis": {
           "colorbar": {
            "outlinewidth": 0,
            "ticks": ""
           }
          },
          "colorscale": {
           "diverging": [
            [
             0,
             "#8e0152"
            ],
            [
             0.1,
             "#c51b7d"
            ],
            [
             0.2,
             "#de77ae"
            ],
            [
             0.3,
             "#f1b6da"
            ],
            [
             0.4,
             "#fde0ef"
            ],
            [
             0.5,
             "#f7f7f7"
            ],
            [
             0.6,
             "#e6f5d0"
            ],
            [
             0.7,
             "#b8e186"
            ],
            [
             0.8,
             "#7fbc41"
            ],
            [
             0.9,
             "#4d9221"
            ],
            [
             1,
             "#276419"
            ]
           ],
           "sequential": [
            [
             0,
             "#0d0887"
            ],
            [
             0.1111111111111111,
             "#46039f"
            ],
            [
             0.2222222222222222,
             "#7201a8"
            ],
            [
             0.3333333333333333,
             "#9c179e"
            ],
            [
             0.4444444444444444,
             "#bd3786"
            ],
            [
             0.5555555555555556,
             "#d8576b"
            ],
            [
             0.6666666666666666,
             "#ed7953"
            ],
            [
             0.7777777777777778,
             "#fb9f3a"
            ],
            [
             0.8888888888888888,
             "#fdca26"
            ],
            [
             1,
             "#f0f921"
            ]
           ],
           "sequentialminus": [
            [
             0,
             "#0d0887"
            ],
            [
             0.1111111111111111,
             "#46039f"
            ],
            [
             0.2222222222222222,
             "#7201a8"
            ],
            [
             0.3333333333333333,
             "#9c179e"
            ],
            [
             0.4444444444444444,
             "#bd3786"
            ],
            [
             0.5555555555555556,
             "#d8576b"
            ],
            [
             0.6666666666666666,
             "#ed7953"
            ],
            [
             0.7777777777777778,
             "#fb9f3a"
            ],
            [
             0.8888888888888888,
             "#fdca26"
            ],
            [
             1,
             "#f0f921"
            ]
           ]
          },
          "colorway": [
           "#636efa",
           "#EF553B",
           "#00cc96",
           "#ab63fa",
           "#FFA15A",
           "#19d3f3",
           "#FF6692",
           "#B6E880",
           "#FF97FF",
           "#FECB52"
          ],
          "font": {
           "color": "#2a3f5f"
          },
          "geo": {
           "bgcolor": "white",
           "lakecolor": "white",
           "landcolor": "#E5ECF6",
           "showlakes": true,
           "showland": true,
           "subunitcolor": "white"
          },
          "hoverlabel": {
           "align": "left"
          },
          "hovermode": "closest",
          "mapbox": {
           "style": "light"
          },
          "paper_bgcolor": "white",
          "plot_bgcolor": "#E5ECF6",
          "polar": {
           "angularaxis": {
            "gridcolor": "white",
            "linecolor": "white",
            "ticks": ""
           },
           "bgcolor": "#E5ECF6",
           "radialaxis": {
            "gridcolor": "white",
            "linecolor": "white",
            "ticks": ""
           }
          },
          "scene": {
           "xaxis": {
            "backgroundcolor": "#E5ECF6",
            "gridcolor": "white",
            "gridwidth": 2,
            "linecolor": "white",
            "showbackground": true,
            "ticks": "",
            "zerolinecolor": "white"
           },
           "yaxis": {
            "backgroundcolor": "#E5ECF6",
            "gridcolor": "white",
            "gridwidth": 2,
            "linecolor": "white",
            "showbackground": true,
            "ticks": "",
            "zerolinecolor": "white"
           },
           "zaxis": {
            "backgroundcolor": "#E5ECF6",
            "gridcolor": "white",
            "gridwidth": 2,
            "linecolor": "white",
            "showbackground": true,
            "ticks": "",
            "zerolinecolor": "white"
           }
          },
          "shapedefaults": {
           "line": {
            "color": "#2a3f5f"
           }
          },
          "ternary": {
           "aaxis": {
            "gridcolor": "white",
            "linecolor": "white",
            "ticks": ""
           },
           "baxis": {
            "gridcolor": "white",
            "linecolor": "white",
            "ticks": ""
           },
           "bgcolor": "#E5ECF6",
           "caxis": {
            "gridcolor": "white",
            "linecolor": "white",
            "ticks": ""
           }
          },
          "title": {
           "x": 0.05
          },
          "xaxis": {
           "automargin": true,
           "gridcolor": "white",
           "linecolor": "white",
           "ticks": "",
           "title": {
            "standoff": 15
           },
           "zerolinecolor": "white",
           "zerolinewidth": 2
          },
          "yaxis": {
           "automargin": true,
           "gridcolor": "white",
           "linecolor": "white",
           "ticks": "",
           "title": {
            "standoff": 15
           },
           "zerolinecolor": "white",
           "zerolinewidth": 2
          }
         }
        },
        "title": {
         "text": "Trạng thái thị trường cổ phiếu"
        },
        "xaxis": {
         "title": {
          "text": "Tháng"
         }
        },
        "yaxis": {
         "title": {
          "text": "Giá cổ phiếu"
         }
        }
       }
      }
     },
     "metadata": {},
     "output_type": "display_data"
    }
   ],
   "source": [
    "df['Market_State'] = 'Đi ngang'\n",
    "df.loc[df['Price'] > df['Price'].shift(1), 'Market_State'] = 'Tăng'\n",
    "df.loc[df['Price'] < df['Price'].shift(1), 'Market_State'] = 'Giảm'\n",
    "\n",
    "fig = go.Figure()\n",
    "\n",
    "colors = {'Tăng': 'green', 'Giảm': 'red', 'Đi ngang': 'blue'}\n",
    "fig.add_trace(go.Scatter(x=df['Date'], y=df['Price'], mode='lines', name='Giá cổ phiếu', line=dict(color='black')))\n",
    "\n",
    "for state in colors.keys():\n",
    "    filtered_df = df[df['Market_State'] == state]\n",
    "    fig.add_trace(go.Scatter(x=filtered_df['Date'], y=filtered_df['Price'], mode='markers', name=state,\n",
    "                             marker=dict(color=colors[state], size=8)))\n",
    "\n",
    "fig.update_layout(title='Trạng thái thị trường cổ phiếu',\n",
    "                  xaxis_title='Tháng',\n",
    "                  yaxis_title='Giá cổ phiếu')\n",
    "\n",
    "fig.show()\n"
   ]
  },
  {
   "cell_type": "markdown",
   "metadata": {},
   "source": [
    "### Return Distribution Chart"
   ]
  },
  {
   "cell_type": "code",
   "execution_count": 18,
   "metadata": {},
   "outputs": [
    {
     "data": {
      "application/vnd.plotly.v1+json": {
       "config": {
        "plotlyServerURL": "https://plot.ly"
       },
       "data": [
        {
         "name": "Lợi nhuận",
         "nbinsx": 30,
         "type": "histogram",
         "x": [
          null,
          0.025692852178220038,
          -0.02520504412440505,
          -0.004946025201556514,
          0.01316930588121945,
          -0.04137209523507601,
          0.06165255638600442,
          -0.024421964192540946,
          -0.0705818492412571,
          -0.02952821842979947,
          -0.03168337861637438,
          -0.06026706150091854,
          0.12250654061992439,
          0.060564051466446944,
          -0.0009395041052243647,
          -0.08399705617793773,
          -0.04018104233248232,
          -0.02422872661997655,
          0.014793350617660739,
          -0.037533814247069475,
          0.08441659835265636,
          -0.0936751921380875,
          0.04103903325422764,
          -0.019534156158791394,
          0.10133859952915514,
          0.13108266864527307,
          -0.05793004349829367,
          -0.007236825744199371,
          0.07939211756847042,
          0.057338243029984026,
          0.09171056482294415,
          -0.001353751298461936,
          -0.007495990282727072,
          0.01306323362362738,
          -0.013241850655418164,
          -0.02311219934525588,
          -0.07076931598662306,
          -0.007890854358225341,
          -0.0160874822564534,
          0.07518796992481214,
          -0.05715097085655463,
          -0.06675953465607454,
          -0.038688387029103044,
          -0.019279191566507814,
          -0.09573202564036742,
          0.044727950710290454,
          -0.09130604147227472,
          -0.07737169517884912,
          -0.021891579413703344,
          -0.02602710973144362,
          -0.09443656779901322,
          0.033467353048009185,
          0.04770273054501817,
          -0.11031036357536994,
          -0.13857575639375386,
          0.3315472506905348,
          0.06169872703159185,
          0.026019089919070648,
          0.010156193092540011,
          0.028915786762812257,
          -0.002262669950541696,
          -0.012543148430601225,
          0.00772310631465567,
          -0.04207087106467933,
          0.01046381876750102,
          0.02058590657165471,
          0.0011432771222081861,
          -0.015589950650515938,
          -0.05678063533822908,
          -0.019886893976829745,
          0.03809353082214795,
          -0.012713968096358497,
          0.11190913463640739,
          -0.027125342876525127,
          -0.033500414333932915,
          0.00459017764719416,
          0.010897395865858917,
          0.08134877734877732,
          0.11825643174071176,
          -0.045059005840982325,
          -0.00996843625728916,
          -0.11358478331351984,
          -0.03485938389010812,
          -0.11858768540839848,
          -0.03924613032677238,
          -0.026926232565077868,
          0.0010092493229085786,
          -0.009035798608895362,
          -0.04977655286102489,
          -0.027228863408419457,
          0.006381229710336722,
          -0.015948830834406236,
          -0.019007020357630244,
          -0.046480610371730124,
          0.0003008106847954828,
          0.016133640067962585,
          0.014693696359869834,
          -0.016187129044959447,
          -0.03320338555949187,
          -0.030618033515784404,
          -0.021858096352766143,
          -0.032452622728154745,
          -0.06208533181810583,
          -0.0032963900074837182,
          -0.025242683733485927,
          0.06195323246217321,
          -0.01006856294147096,
          0.059612700628052906,
          -0.07364538913676999,
          0.003750177733541804,
          0.09970783532536509,
          -0.04510031236917522,
          -0.03960880195599026,
          -0.012571107521595515,
          -0.020039118065433792,
          0.07519097127719432,
          -0.027844811583441653,
          -0.052840800597149795,
          0.038395982625588854,
          0.06046807158741929,
          -0.0033952466546836035,
          0.06320975283901142,
          -0.06373988847875589,
          -0.030097136242387745,
          -0.027865704945254532,
          0.028433151845130178,
          0.023477508650519008,
          -0.008604222661730665,
          -0.05108443595689549,
          -0.09324013512542229,
          0.006242197253433224,
          -0.020422230099649386,
          -0.009609778653424828,
          -0.040456326248908936,
          0.040511952612650726,
          -0.021795262783368963,
          0.07744268700766943,
          -0.08464669457358354,
          0.034835936018208224,
          -0.033561420658194896,
          0.011020734996628478
         ]
        }
       ],
       "layout": {
        "template": {
         "data": {
          "bar": [
           {
            "error_x": {
             "color": "#2a3f5f"
            },
            "error_y": {
             "color": "#2a3f5f"
            },
            "marker": {
             "line": {
              "color": "#E5ECF6",
              "width": 0.5
             },
             "pattern": {
              "fillmode": "overlay",
              "size": 10,
              "solidity": 0.2
             }
            },
            "type": "bar"
           }
          ],
          "barpolar": [
           {
            "marker": {
             "line": {
              "color": "#E5ECF6",
              "width": 0.5
             },
             "pattern": {
              "fillmode": "overlay",
              "size": 10,
              "solidity": 0.2
             }
            },
            "type": "barpolar"
           }
          ],
          "carpet": [
           {
            "aaxis": {
             "endlinecolor": "#2a3f5f",
             "gridcolor": "white",
             "linecolor": "white",
             "minorgridcolor": "white",
             "startlinecolor": "#2a3f5f"
            },
            "baxis": {
             "endlinecolor": "#2a3f5f",
             "gridcolor": "white",
             "linecolor": "white",
             "minorgridcolor": "white",
             "startlinecolor": "#2a3f5f"
            },
            "type": "carpet"
           }
          ],
          "choropleth": [
           {
            "colorbar": {
             "outlinewidth": 0,
             "ticks": ""
            },
            "type": "choropleth"
           }
          ],
          "contour": [
           {
            "colorbar": {
             "outlinewidth": 0,
             "ticks": ""
            },
            "colorscale": [
             [
              0,
              "#0d0887"
             ],
             [
              0.1111111111111111,
              "#46039f"
             ],
             [
              0.2222222222222222,
              "#7201a8"
             ],
             [
              0.3333333333333333,
              "#9c179e"
             ],
             [
              0.4444444444444444,
              "#bd3786"
             ],
             [
              0.5555555555555556,
              "#d8576b"
             ],
             [
              0.6666666666666666,
              "#ed7953"
             ],
             [
              0.7777777777777778,
              "#fb9f3a"
             ],
             [
              0.8888888888888888,
              "#fdca26"
             ],
             [
              1,
              "#f0f921"
             ]
            ],
            "type": "contour"
           }
          ],
          "contourcarpet": [
           {
            "colorbar": {
             "outlinewidth": 0,
             "ticks": ""
            },
            "type": "contourcarpet"
           }
          ],
          "heatmap": [
           {
            "colorbar": {
             "outlinewidth": 0,
             "ticks": ""
            },
            "colorscale": [
             [
              0,
              "#0d0887"
             ],
             [
              0.1111111111111111,
              "#46039f"
             ],
             [
              0.2222222222222222,
              "#7201a8"
             ],
             [
              0.3333333333333333,
              "#9c179e"
             ],
             [
              0.4444444444444444,
              "#bd3786"
             ],
             [
              0.5555555555555556,
              "#d8576b"
             ],
             [
              0.6666666666666666,
              "#ed7953"
             ],
             [
              0.7777777777777778,
              "#fb9f3a"
             ],
             [
              0.8888888888888888,
              "#fdca26"
             ],
             [
              1,
              "#f0f921"
             ]
            ],
            "type": "heatmap"
           }
          ],
          "heatmapgl": [
           {
            "colorbar": {
             "outlinewidth": 0,
             "ticks": ""
            },
            "colorscale": [
             [
              0,
              "#0d0887"
             ],
             [
              0.1111111111111111,
              "#46039f"
             ],
             [
              0.2222222222222222,
              "#7201a8"
             ],
             [
              0.3333333333333333,
              "#9c179e"
             ],
             [
              0.4444444444444444,
              "#bd3786"
             ],
             [
              0.5555555555555556,
              "#d8576b"
             ],
             [
              0.6666666666666666,
              "#ed7953"
             ],
             [
              0.7777777777777778,
              "#fb9f3a"
             ],
             [
              0.8888888888888888,
              "#fdca26"
             ],
             [
              1,
              "#f0f921"
             ]
            ],
            "type": "heatmapgl"
           }
          ],
          "histogram": [
           {
            "marker": {
             "pattern": {
              "fillmode": "overlay",
              "size": 10,
              "solidity": 0.2
             }
            },
            "type": "histogram"
           }
          ],
          "histogram2d": [
           {
            "colorbar": {
             "outlinewidth": 0,
             "ticks": ""
            },
            "colorscale": [
             [
              0,
              "#0d0887"
             ],
             [
              0.1111111111111111,
              "#46039f"
             ],
             [
              0.2222222222222222,
              "#7201a8"
             ],
             [
              0.3333333333333333,
              "#9c179e"
             ],
             [
              0.4444444444444444,
              "#bd3786"
             ],
             [
              0.5555555555555556,
              "#d8576b"
             ],
             [
              0.6666666666666666,
              "#ed7953"
             ],
             [
              0.7777777777777778,
              "#fb9f3a"
             ],
             [
              0.8888888888888888,
              "#fdca26"
             ],
             [
              1,
              "#f0f921"
             ]
            ],
            "type": "histogram2d"
           }
          ],
          "histogram2dcontour": [
           {
            "colorbar": {
             "outlinewidth": 0,
             "ticks": ""
            },
            "colorscale": [
             [
              0,
              "#0d0887"
             ],
             [
              0.1111111111111111,
              "#46039f"
             ],
             [
              0.2222222222222222,
              "#7201a8"
             ],
             [
              0.3333333333333333,
              "#9c179e"
             ],
             [
              0.4444444444444444,
              "#bd3786"
             ],
             [
              0.5555555555555556,
              "#d8576b"
             ],
             [
              0.6666666666666666,
              "#ed7953"
             ],
             [
              0.7777777777777778,
              "#fb9f3a"
             ],
             [
              0.8888888888888888,
              "#fdca26"
             ],
             [
              1,
              "#f0f921"
             ]
            ],
            "type": "histogram2dcontour"
           }
          ],
          "mesh3d": [
           {
            "colorbar": {
             "outlinewidth": 0,
             "ticks": ""
            },
            "type": "mesh3d"
           }
          ],
          "parcoords": [
           {
            "line": {
             "colorbar": {
              "outlinewidth": 0,
              "ticks": ""
             }
            },
            "type": "parcoords"
           }
          ],
          "pie": [
           {
            "automargin": true,
            "type": "pie"
           }
          ],
          "scatter": [
           {
            "fillpattern": {
             "fillmode": "overlay",
             "size": 10,
             "solidity": 0.2
            },
            "type": "scatter"
           }
          ],
          "scatter3d": [
           {
            "line": {
             "colorbar": {
              "outlinewidth": 0,
              "ticks": ""
             }
            },
            "marker": {
             "colorbar": {
              "outlinewidth": 0,
              "ticks": ""
             }
            },
            "type": "scatter3d"
           }
          ],
          "scattercarpet": [
           {
            "marker": {
             "colorbar": {
              "outlinewidth": 0,
              "ticks": ""
             }
            },
            "type": "scattercarpet"
           }
          ],
          "scattergeo": [
           {
            "marker": {
             "colorbar": {
              "outlinewidth": 0,
              "ticks": ""
             }
            },
            "type": "scattergeo"
           }
          ],
          "scattergl": [
           {
            "marker": {
             "colorbar": {
              "outlinewidth": 0,
              "ticks": ""
             }
            },
            "type": "scattergl"
           }
          ],
          "scattermapbox": [
           {
            "marker": {
             "colorbar": {
              "outlinewidth": 0,
              "ticks": ""
             }
            },
            "type": "scattermapbox"
           }
          ],
          "scatterpolar": [
           {
            "marker": {
             "colorbar": {
              "outlinewidth": 0,
              "ticks": ""
             }
            },
            "type": "scatterpolar"
           }
          ],
          "scatterpolargl": [
           {
            "marker": {
             "colorbar": {
              "outlinewidth": 0,
              "ticks": ""
             }
            },
            "type": "scatterpolargl"
           }
          ],
          "scatterternary": [
           {
            "marker": {
             "colorbar": {
              "outlinewidth": 0,
              "ticks": ""
             }
            },
            "type": "scatterternary"
           }
          ],
          "surface": [
           {
            "colorbar": {
             "outlinewidth": 0,
             "ticks": ""
            },
            "colorscale": [
             [
              0,
              "#0d0887"
             ],
             [
              0.1111111111111111,
              "#46039f"
             ],
             [
              0.2222222222222222,
              "#7201a8"
             ],
             [
              0.3333333333333333,
              "#9c179e"
             ],
             [
              0.4444444444444444,
              "#bd3786"
             ],
             [
              0.5555555555555556,
              "#d8576b"
             ],
             [
              0.6666666666666666,
              "#ed7953"
             ],
             [
              0.7777777777777778,
              "#fb9f3a"
             ],
             [
              0.8888888888888888,
              "#fdca26"
             ],
             [
              1,
              "#f0f921"
             ]
            ],
            "type": "surface"
           }
          ],
          "table": [
           {
            "cells": {
             "fill": {
              "color": "#EBF0F8"
             },
             "line": {
              "color": "white"
             }
            },
            "header": {
             "fill": {
              "color": "#C8D4E3"
             },
             "line": {
              "color": "white"
             }
            },
            "type": "table"
           }
          ]
         },
         "layout": {
          "annotationdefaults": {
           "arrowcolor": "#2a3f5f",
           "arrowhead": 0,
           "arrowwidth": 1
          },
          "autotypenumbers": "strict",
          "coloraxis": {
           "colorbar": {
            "outlinewidth": 0,
            "ticks": ""
           }
          },
          "colorscale": {
           "diverging": [
            [
             0,
             "#8e0152"
            ],
            [
             0.1,
             "#c51b7d"
            ],
            [
             0.2,
             "#de77ae"
            ],
            [
             0.3,
             "#f1b6da"
            ],
            [
             0.4,
             "#fde0ef"
            ],
            [
             0.5,
             "#f7f7f7"
            ],
            [
             0.6,
             "#e6f5d0"
            ],
            [
             0.7,
             "#b8e186"
            ],
            [
             0.8,
             "#7fbc41"
            ],
            [
             0.9,
             "#4d9221"
            ],
            [
             1,
             "#276419"
            ]
           ],
           "sequential": [
            [
             0,
             "#0d0887"
            ],
            [
             0.1111111111111111,
             "#46039f"
            ],
            [
             0.2222222222222222,
             "#7201a8"
            ],
            [
             0.3333333333333333,
             "#9c179e"
            ],
            [
             0.4444444444444444,
             "#bd3786"
            ],
            [
             0.5555555555555556,
             "#d8576b"
            ],
            [
             0.6666666666666666,
             "#ed7953"
            ],
            [
             0.7777777777777778,
             "#fb9f3a"
            ],
            [
             0.8888888888888888,
             "#fdca26"
            ],
            [
             1,
             "#f0f921"
            ]
           ],
           "sequentialminus": [
            [
             0,
             "#0d0887"
            ],
            [
             0.1111111111111111,
             "#46039f"
            ],
            [
             0.2222222222222222,
             "#7201a8"
            ],
            [
             0.3333333333333333,
             "#9c179e"
            ],
            [
             0.4444444444444444,
             "#bd3786"
            ],
            [
             0.5555555555555556,
             "#d8576b"
            ],
            [
             0.6666666666666666,
             "#ed7953"
            ],
            [
             0.7777777777777778,
             "#fb9f3a"
            ],
            [
             0.8888888888888888,
             "#fdca26"
            ],
            [
             1,
             "#f0f921"
            ]
           ]
          },
          "colorway": [
           "#636efa",
           "#EF553B",
           "#00cc96",
           "#ab63fa",
           "#FFA15A",
           "#19d3f3",
           "#FF6692",
           "#B6E880",
           "#FF97FF",
           "#FECB52"
          ],
          "font": {
           "color": "#2a3f5f"
          },
          "geo": {
           "bgcolor": "white",
           "lakecolor": "white",
           "landcolor": "#E5ECF6",
           "showlakes": true,
           "showland": true,
           "subunitcolor": "white"
          },
          "hoverlabel": {
           "align": "left"
          },
          "hovermode": "closest",
          "mapbox": {
           "style": "light"
          },
          "paper_bgcolor": "white",
          "plot_bgcolor": "#E5ECF6",
          "polar": {
           "angularaxis": {
            "gridcolor": "white",
            "linecolor": "white",
            "ticks": ""
           },
           "bgcolor": "#E5ECF6",
           "radialaxis": {
            "gridcolor": "white",
            "linecolor": "white",
            "ticks": ""
           }
          },
          "scene": {
           "xaxis": {
            "backgroundcolor": "#E5ECF6",
            "gridcolor": "white",
            "gridwidth": 2,
            "linecolor": "white",
            "showbackground": true,
            "ticks": "",
            "zerolinecolor": "white"
           },
           "yaxis": {
            "backgroundcolor": "#E5ECF6",
            "gridcolor": "white",
            "gridwidth": 2,
            "linecolor": "white",
            "showbackground": true,
            "ticks": "",
            "zerolinecolor": "white"
           },
           "zaxis": {
            "backgroundcolor": "#E5ECF6",
            "gridcolor": "white",
            "gridwidth": 2,
            "linecolor": "white",
            "showbackground": true,
            "ticks": "",
            "zerolinecolor": "white"
           }
          },
          "shapedefaults": {
           "line": {
            "color": "#2a3f5f"
           }
          },
          "ternary": {
           "aaxis": {
            "gridcolor": "white",
            "linecolor": "white",
            "ticks": ""
           },
           "baxis": {
            "gridcolor": "white",
            "linecolor": "white",
            "ticks": ""
           },
           "bgcolor": "#E5ECF6",
           "caxis": {
            "gridcolor": "white",
            "linecolor": "white",
            "ticks": ""
           }
          },
          "title": {
           "x": 0.05
          },
          "xaxis": {
           "automargin": true,
           "gridcolor": "white",
           "linecolor": "white",
           "ticks": "",
           "title": {
            "standoff": 15
           },
           "zerolinecolor": "white",
           "zerolinewidth": 2
          },
          "yaxis": {
           "automargin": true,
           "gridcolor": "white",
           "linecolor": "white",
           "ticks": "",
           "title": {
            "standoff": 15
           },
           "zerolinecolor": "white",
           "zerolinewidth": 2
          }
         }
        },
        "title": {
         "text": "Phân bổ lợi nhuận cổ phiếu"
        },
        "xaxis": {
         "title": {
          "text": "Lợi nhuận hàng tháng"
         }
        },
        "yaxis": {
         "title": {
          "text": "Tần suất"
         }
        }
       }
      }
     },
     "metadata": {},
     "output_type": "display_data"
    }
   ],
   "source": [
    "df['Return'] = df['Price'].pct_change()\n",
    "\n",
    "fig = go.Figure()\n",
    "\n",
    "fig.add_trace(go.Histogram(x=df['Return'], nbinsx=30, name='Lợi nhuận'))\n",
    "\n",
    "fig.update_layout(title='Phân bổ lợi nhuận cổ phiếu',\n",
    "                  xaxis_title='Lợi nhuận hàng tháng',\n",
    "                  yaxis_title='Tần suất')\n",
    "\n",
    "fig.show()\n"
   ]
  },
  {
   "cell_type": "markdown",
   "metadata": {},
   "source": [
    "## VN-Index (day)"
   ]
  },
  {
   "cell_type": "code",
   "execution_count": 19,
   "metadata": {},
   "outputs": [
    {
     "ename": "FileNotFoundError",
     "evalue": "[Errno 2] No such file or directory: 'C:\\\\Code\\\\VN-Index\\\\Raw Data\\\\VN-Index(daily).csv'",
     "output_type": "error",
     "traceback": [
      "\u001b[1;31m---------------------------------------------------------------------------\u001b[0m",
      "\u001b[1;31mFileNotFoundError\u001b[0m                         Traceback (most recent call last)",
      "Cell \u001b[1;32mIn[19], line 1\u001b[0m\n\u001b[1;32m----> 1\u001b[0m df_day \u001b[38;5;241m=\u001b[39m \u001b[43mpd\u001b[49m\u001b[38;5;241;43m.\u001b[39;49m\u001b[43mread_csv\u001b[49m\u001b[43m(\u001b[49m\u001b[38;5;124;43m\"\u001b[39;49m\u001b[38;5;124;43mC:\u001b[39;49m\u001b[38;5;124;43m\\\u001b[39;49m\u001b[38;5;124;43mCode\u001b[39;49m\u001b[38;5;124;43m\\\u001b[39;49m\u001b[38;5;124;43mVN-Index\u001b[39;49m\u001b[38;5;124;43m\\\u001b[39;49m\u001b[38;5;124;43mRaw Data\u001b[39;49m\u001b[38;5;124;43m\\\u001b[39;49m\u001b[38;5;124;43mVN-Index(daily).csv\u001b[39;49m\u001b[38;5;124;43m\"\u001b[39;49m\u001b[43m)\u001b[49m\n",
      "File \u001b[1;32mc:\\Users\\acer\\AppData\\Local\\Programs\\Python\\Python311\\Lib\\site-packages\\pandas\\io\\parsers\\readers.py:1026\u001b[0m, in \u001b[0;36mread_csv\u001b[1;34m(filepath_or_buffer, sep, delimiter, header, names, index_col, usecols, dtype, engine, converters, true_values, false_values, skipinitialspace, skiprows, skipfooter, nrows, na_values, keep_default_na, na_filter, verbose, skip_blank_lines, parse_dates, infer_datetime_format, keep_date_col, date_parser, date_format, dayfirst, cache_dates, iterator, chunksize, compression, thousands, decimal, lineterminator, quotechar, quoting, doublequote, escapechar, comment, encoding, encoding_errors, dialect, on_bad_lines, delim_whitespace, low_memory, memory_map, float_precision, storage_options, dtype_backend)\u001b[0m\n\u001b[0;32m   1013\u001b[0m kwds_defaults \u001b[38;5;241m=\u001b[39m _refine_defaults_read(\n\u001b[0;32m   1014\u001b[0m     dialect,\n\u001b[0;32m   1015\u001b[0m     delimiter,\n\u001b[1;32m   (...)\u001b[0m\n\u001b[0;32m   1022\u001b[0m     dtype_backend\u001b[38;5;241m=\u001b[39mdtype_backend,\n\u001b[0;32m   1023\u001b[0m )\n\u001b[0;32m   1024\u001b[0m kwds\u001b[38;5;241m.\u001b[39mupdate(kwds_defaults)\n\u001b[1;32m-> 1026\u001b[0m \u001b[38;5;28;01mreturn\u001b[39;00m \u001b[43m_read\u001b[49m\u001b[43m(\u001b[49m\u001b[43mfilepath_or_buffer\u001b[49m\u001b[43m,\u001b[49m\u001b[43m \u001b[49m\u001b[43mkwds\u001b[49m\u001b[43m)\u001b[49m\n",
      "File \u001b[1;32mc:\\Users\\acer\\AppData\\Local\\Programs\\Python\\Python311\\Lib\\site-packages\\pandas\\io\\parsers\\readers.py:620\u001b[0m, in \u001b[0;36m_read\u001b[1;34m(filepath_or_buffer, kwds)\u001b[0m\n\u001b[0;32m    617\u001b[0m _validate_names(kwds\u001b[38;5;241m.\u001b[39mget(\u001b[38;5;124m\"\u001b[39m\u001b[38;5;124mnames\u001b[39m\u001b[38;5;124m\"\u001b[39m, \u001b[38;5;28;01mNone\u001b[39;00m))\n\u001b[0;32m    619\u001b[0m \u001b[38;5;66;03m# Create the parser.\u001b[39;00m\n\u001b[1;32m--> 620\u001b[0m parser \u001b[38;5;241m=\u001b[39m \u001b[43mTextFileReader\u001b[49m\u001b[43m(\u001b[49m\u001b[43mfilepath_or_buffer\u001b[49m\u001b[43m,\u001b[49m\u001b[43m \u001b[49m\u001b[38;5;241;43m*\u001b[39;49m\u001b[38;5;241;43m*\u001b[39;49m\u001b[43mkwds\u001b[49m\u001b[43m)\u001b[49m\n\u001b[0;32m    622\u001b[0m \u001b[38;5;28;01mif\u001b[39;00m chunksize \u001b[38;5;129;01mor\u001b[39;00m iterator:\n\u001b[0;32m    623\u001b[0m     \u001b[38;5;28;01mreturn\u001b[39;00m parser\n",
      "File \u001b[1;32mc:\\Users\\acer\\AppData\\Local\\Programs\\Python\\Python311\\Lib\\site-packages\\pandas\\io\\parsers\\readers.py:1620\u001b[0m, in \u001b[0;36mTextFileReader.__init__\u001b[1;34m(self, f, engine, **kwds)\u001b[0m\n\u001b[0;32m   1617\u001b[0m     \u001b[38;5;28mself\u001b[39m\u001b[38;5;241m.\u001b[39moptions[\u001b[38;5;124m\"\u001b[39m\u001b[38;5;124mhas_index_names\u001b[39m\u001b[38;5;124m\"\u001b[39m] \u001b[38;5;241m=\u001b[39m kwds[\u001b[38;5;124m\"\u001b[39m\u001b[38;5;124mhas_index_names\u001b[39m\u001b[38;5;124m\"\u001b[39m]\n\u001b[0;32m   1619\u001b[0m \u001b[38;5;28mself\u001b[39m\u001b[38;5;241m.\u001b[39mhandles: IOHandles \u001b[38;5;241m|\u001b[39m \u001b[38;5;28;01mNone\u001b[39;00m \u001b[38;5;241m=\u001b[39m \u001b[38;5;28;01mNone\u001b[39;00m\n\u001b[1;32m-> 1620\u001b[0m \u001b[38;5;28mself\u001b[39m\u001b[38;5;241m.\u001b[39m_engine \u001b[38;5;241m=\u001b[39m \u001b[38;5;28;43mself\u001b[39;49m\u001b[38;5;241;43m.\u001b[39;49m\u001b[43m_make_engine\u001b[49m\u001b[43m(\u001b[49m\u001b[43mf\u001b[49m\u001b[43m,\u001b[49m\u001b[43m \u001b[49m\u001b[38;5;28;43mself\u001b[39;49m\u001b[38;5;241;43m.\u001b[39;49m\u001b[43mengine\u001b[49m\u001b[43m)\u001b[49m\n",
      "File \u001b[1;32mc:\\Users\\acer\\AppData\\Local\\Programs\\Python\\Python311\\Lib\\site-packages\\pandas\\io\\parsers\\readers.py:1880\u001b[0m, in \u001b[0;36mTextFileReader._make_engine\u001b[1;34m(self, f, engine)\u001b[0m\n\u001b[0;32m   1878\u001b[0m     \u001b[38;5;28;01mif\u001b[39;00m \u001b[38;5;124m\"\u001b[39m\u001b[38;5;124mb\u001b[39m\u001b[38;5;124m\"\u001b[39m \u001b[38;5;129;01mnot\u001b[39;00m \u001b[38;5;129;01min\u001b[39;00m mode:\n\u001b[0;32m   1879\u001b[0m         mode \u001b[38;5;241m+\u001b[39m\u001b[38;5;241m=\u001b[39m \u001b[38;5;124m\"\u001b[39m\u001b[38;5;124mb\u001b[39m\u001b[38;5;124m\"\u001b[39m\n\u001b[1;32m-> 1880\u001b[0m \u001b[38;5;28mself\u001b[39m\u001b[38;5;241m.\u001b[39mhandles \u001b[38;5;241m=\u001b[39m \u001b[43mget_handle\u001b[49m\u001b[43m(\u001b[49m\n\u001b[0;32m   1881\u001b[0m \u001b[43m    \u001b[49m\u001b[43mf\u001b[49m\u001b[43m,\u001b[49m\n\u001b[0;32m   1882\u001b[0m \u001b[43m    \u001b[49m\u001b[43mmode\u001b[49m\u001b[43m,\u001b[49m\n\u001b[0;32m   1883\u001b[0m \u001b[43m    \u001b[49m\u001b[43mencoding\u001b[49m\u001b[38;5;241;43m=\u001b[39;49m\u001b[38;5;28;43mself\u001b[39;49m\u001b[38;5;241;43m.\u001b[39;49m\u001b[43moptions\u001b[49m\u001b[38;5;241;43m.\u001b[39;49m\u001b[43mget\u001b[49m\u001b[43m(\u001b[49m\u001b[38;5;124;43m\"\u001b[39;49m\u001b[38;5;124;43mencoding\u001b[39;49m\u001b[38;5;124;43m\"\u001b[39;49m\u001b[43m,\u001b[49m\u001b[43m \u001b[49m\u001b[38;5;28;43;01mNone\u001b[39;49;00m\u001b[43m)\u001b[49m\u001b[43m,\u001b[49m\n\u001b[0;32m   1884\u001b[0m \u001b[43m    \u001b[49m\u001b[43mcompression\u001b[49m\u001b[38;5;241;43m=\u001b[39;49m\u001b[38;5;28;43mself\u001b[39;49m\u001b[38;5;241;43m.\u001b[39;49m\u001b[43moptions\u001b[49m\u001b[38;5;241;43m.\u001b[39;49m\u001b[43mget\u001b[49m\u001b[43m(\u001b[49m\u001b[38;5;124;43m\"\u001b[39;49m\u001b[38;5;124;43mcompression\u001b[39;49m\u001b[38;5;124;43m\"\u001b[39;49m\u001b[43m,\u001b[49m\u001b[43m \u001b[49m\u001b[38;5;28;43;01mNone\u001b[39;49;00m\u001b[43m)\u001b[49m\u001b[43m,\u001b[49m\n\u001b[0;32m   1885\u001b[0m \u001b[43m    \u001b[49m\u001b[43mmemory_map\u001b[49m\u001b[38;5;241;43m=\u001b[39;49m\u001b[38;5;28;43mself\u001b[39;49m\u001b[38;5;241;43m.\u001b[39;49m\u001b[43moptions\u001b[49m\u001b[38;5;241;43m.\u001b[39;49m\u001b[43mget\u001b[49m\u001b[43m(\u001b[49m\u001b[38;5;124;43m\"\u001b[39;49m\u001b[38;5;124;43mmemory_map\u001b[39;49m\u001b[38;5;124;43m\"\u001b[39;49m\u001b[43m,\u001b[49m\u001b[43m \u001b[49m\u001b[38;5;28;43;01mFalse\u001b[39;49;00m\u001b[43m)\u001b[49m\u001b[43m,\u001b[49m\n\u001b[0;32m   1886\u001b[0m \u001b[43m    \u001b[49m\u001b[43mis_text\u001b[49m\u001b[38;5;241;43m=\u001b[39;49m\u001b[43mis_text\u001b[49m\u001b[43m,\u001b[49m\n\u001b[0;32m   1887\u001b[0m \u001b[43m    \u001b[49m\u001b[43merrors\u001b[49m\u001b[38;5;241;43m=\u001b[39;49m\u001b[38;5;28;43mself\u001b[39;49m\u001b[38;5;241;43m.\u001b[39;49m\u001b[43moptions\u001b[49m\u001b[38;5;241;43m.\u001b[39;49m\u001b[43mget\u001b[49m\u001b[43m(\u001b[49m\u001b[38;5;124;43m\"\u001b[39;49m\u001b[38;5;124;43mencoding_errors\u001b[39;49m\u001b[38;5;124;43m\"\u001b[39;49m\u001b[43m,\u001b[49m\u001b[43m \u001b[49m\u001b[38;5;124;43m\"\u001b[39;49m\u001b[38;5;124;43mstrict\u001b[39;49m\u001b[38;5;124;43m\"\u001b[39;49m\u001b[43m)\u001b[49m\u001b[43m,\u001b[49m\n\u001b[0;32m   1888\u001b[0m \u001b[43m    \u001b[49m\u001b[43mstorage_options\u001b[49m\u001b[38;5;241;43m=\u001b[39;49m\u001b[38;5;28;43mself\u001b[39;49m\u001b[38;5;241;43m.\u001b[39;49m\u001b[43moptions\u001b[49m\u001b[38;5;241;43m.\u001b[39;49m\u001b[43mget\u001b[49m\u001b[43m(\u001b[49m\u001b[38;5;124;43m\"\u001b[39;49m\u001b[38;5;124;43mstorage_options\u001b[39;49m\u001b[38;5;124;43m\"\u001b[39;49m\u001b[43m,\u001b[49m\u001b[43m \u001b[49m\u001b[38;5;28;43;01mNone\u001b[39;49;00m\u001b[43m)\u001b[49m\u001b[43m,\u001b[49m\n\u001b[0;32m   1889\u001b[0m \u001b[43m\u001b[49m\u001b[43m)\u001b[49m\n\u001b[0;32m   1890\u001b[0m \u001b[38;5;28;01massert\u001b[39;00m \u001b[38;5;28mself\u001b[39m\u001b[38;5;241m.\u001b[39mhandles \u001b[38;5;129;01mis\u001b[39;00m \u001b[38;5;129;01mnot\u001b[39;00m \u001b[38;5;28;01mNone\u001b[39;00m\n\u001b[0;32m   1891\u001b[0m f \u001b[38;5;241m=\u001b[39m \u001b[38;5;28mself\u001b[39m\u001b[38;5;241m.\u001b[39mhandles\u001b[38;5;241m.\u001b[39mhandle\n",
      "File \u001b[1;32mc:\\Users\\acer\\AppData\\Local\\Programs\\Python\\Python311\\Lib\\site-packages\\pandas\\io\\common.py:873\u001b[0m, in \u001b[0;36mget_handle\u001b[1;34m(path_or_buf, mode, encoding, compression, memory_map, is_text, errors, storage_options)\u001b[0m\n\u001b[0;32m    868\u001b[0m \u001b[38;5;28;01melif\u001b[39;00m \u001b[38;5;28misinstance\u001b[39m(handle, \u001b[38;5;28mstr\u001b[39m):\n\u001b[0;32m    869\u001b[0m     \u001b[38;5;66;03m# Check whether the filename is to be opened in binary mode.\u001b[39;00m\n\u001b[0;32m    870\u001b[0m     \u001b[38;5;66;03m# Binary mode does not support 'encoding' and 'newline'.\u001b[39;00m\n\u001b[0;32m    871\u001b[0m     \u001b[38;5;28;01mif\u001b[39;00m ioargs\u001b[38;5;241m.\u001b[39mencoding \u001b[38;5;129;01mand\u001b[39;00m \u001b[38;5;124m\"\u001b[39m\u001b[38;5;124mb\u001b[39m\u001b[38;5;124m\"\u001b[39m \u001b[38;5;129;01mnot\u001b[39;00m \u001b[38;5;129;01min\u001b[39;00m ioargs\u001b[38;5;241m.\u001b[39mmode:\n\u001b[0;32m    872\u001b[0m         \u001b[38;5;66;03m# Encoding\u001b[39;00m\n\u001b[1;32m--> 873\u001b[0m         handle \u001b[38;5;241m=\u001b[39m \u001b[38;5;28;43mopen\u001b[39;49m\u001b[43m(\u001b[49m\n\u001b[0;32m    874\u001b[0m \u001b[43m            \u001b[49m\u001b[43mhandle\u001b[49m\u001b[43m,\u001b[49m\n\u001b[0;32m    875\u001b[0m \u001b[43m            \u001b[49m\u001b[43mioargs\u001b[49m\u001b[38;5;241;43m.\u001b[39;49m\u001b[43mmode\u001b[49m\u001b[43m,\u001b[49m\n\u001b[0;32m    876\u001b[0m \u001b[43m            \u001b[49m\u001b[43mencoding\u001b[49m\u001b[38;5;241;43m=\u001b[39;49m\u001b[43mioargs\u001b[49m\u001b[38;5;241;43m.\u001b[39;49m\u001b[43mencoding\u001b[49m\u001b[43m,\u001b[49m\n\u001b[0;32m    877\u001b[0m \u001b[43m            \u001b[49m\u001b[43merrors\u001b[49m\u001b[38;5;241;43m=\u001b[39;49m\u001b[43merrors\u001b[49m\u001b[43m,\u001b[49m\n\u001b[0;32m    878\u001b[0m \u001b[43m            \u001b[49m\u001b[43mnewline\u001b[49m\u001b[38;5;241;43m=\u001b[39;49m\u001b[38;5;124;43m\"\u001b[39;49m\u001b[38;5;124;43m\"\u001b[39;49m\u001b[43m,\u001b[49m\n\u001b[0;32m    879\u001b[0m \u001b[43m        \u001b[49m\u001b[43m)\u001b[49m\n\u001b[0;32m    880\u001b[0m     \u001b[38;5;28;01melse\u001b[39;00m:\n\u001b[0;32m    881\u001b[0m         \u001b[38;5;66;03m# Binary mode\u001b[39;00m\n\u001b[0;32m    882\u001b[0m         handle \u001b[38;5;241m=\u001b[39m \u001b[38;5;28mopen\u001b[39m(handle, ioargs\u001b[38;5;241m.\u001b[39mmode)\n",
      "\u001b[1;31mFileNotFoundError\u001b[0m: [Errno 2] No such file or directory: 'C:\\\\Code\\\\VN-Index\\\\Raw Data\\\\VN-Index(daily).csv'"
     ]
    }
   ],
   "source": [
    "df_day = pd.read_csv(\"C:\\Code\\VN-Index\\Raw Data\\VN-Index(daily).csv\")"
   ]
  },
  {
   "cell_type": "code",
   "execution_count": 38,
   "metadata": {},
   "outputs": [
    {
     "data": {
      "text/plain": [
       "<bound method NDFrame.head of            Date     Price      Open      High       Low     Vol. Change %\n",
       "0    01-09-2024  1,251.71  1,283.87  1,283.87  1,244.79      NaN   -2.50%\n",
       "1    01-08-2024  1,283.87  1,251.51  1,290.45  1,184.53   15.47B    2.59%\n",
       "2    01-07-2024  1,251.51  1,245.32  1,297.96  1,218.65   15.64M    0.50%\n",
       "3    01-06-2024  1,245.32  1,261.72  1,306.01  1,240.15   18.12M   -1.30%\n",
       "4    01-05-2024  1,261.72  1,212.13  1,285.63  1,206.28   19.39M    4.32%\n",
       "..          ...       ...       ...       ...       ...      ...      ...\n",
       "136  01-05-2013    518.39    474.54    526.58    470.81    1.50M    9.25%\n",
       "137  01-04-2013    474.51    490.66    518.46    466.56  926.70K   -3.37%\n",
       "138  01-03-2013    491.04    476.51    500.59    461.61    1.05M    3.47%\n",
       "139  01-02-2013    474.56    477.11    497.87    459.64    1.15M   -1.09%\n",
       "140  01-01-2013    479.79    415.50    490.89    413.68    1.83M   15.97%\n",
       "\n",
       "[141 rows x 7 columns]>"
      ]
     },
     "execution_count": 38,
     "metadata": {},
     "output_type": "execute_result"
    }
   ],
   "source": [
    "df_day.head"
   ]
  },
  {
   "cell_type": "code",
   "execution_count": 39,
   "metadata": {},
   "outputs": [
    {
     "data": {
      "text/html": [
       "<div>\n",
       "<style scoped>\n",
       "    .dataframe tbody tr th:only-of-type {\n",
       "        vertical-align: middle;\n",
       "    }\n",
       "\n",
       "    .dataframe tbody tr th {\n",
       "        vertical-align: top;\n",
       "    }\n",
       "\n",
       "    .dataframe thead th {\n",
       "        text-align: right;\n",
       "    }\n",
       "</style>\n",
       "<table border=\"1\" class=\"dataframe\">\n",
       "  <thead>\n",
       "    <tr style=\"text-align: right;\">\n",
       "      <th></th>\n",
       "      <th>Date</th>\n",
       "      <th>Price</th>\n",
       "      <th>Open</th>\n",
       "      <th>High</th>\n",
       "      <th>Low</th>\n",
       "      <th>Vol.</th>\n",
       "      <th>Change %</th>\n",
       "    </tr>\n",
       "  </thead>\n",
       "  <tbody>\n",
       "    <tr>\n",
       "      <th>count</th>\n",
       "      <td>141</td>\n",
       "      <td>141</td>\n",
       "      <td>141</td>\n",
       "      <td>141</td>\n",
       "      <td>141</td>\n",
       "      <td>140</td>\n",
       "      <td>141</td>\n",
       "    </tr>\n",
       "    <tr>\n",
       "      <th>unique</th>\n",
       "      <td>141</td>\n",
       "      <td>141</td>\n",
       "      <td>141</td>\n",
       "      <td>141</td>\n",
       "      <td>141</td>\n",
       "      <td>130</td>\n",
       "      <td>134</td>\n",
       "    </tr>\n",
       "    <tr>\n",
       "      <th>top</th>\n",
       "      <td>01-09-2024</td>\n",
       "      <td>1,251.71</td>\n",
       "      <td>1,283.87</td>\n",
       "      <td>1,283.87</td>\n",
       "      <td>1,244.79</td>\n",
       "      <td>2.80M</td>\n",
       "      <td>4.72%</td>\n",
       "    </tr>\n",
       "    <tr>\n",
       "      <th>freq</th>\n",
       "      <td>1</td>\n",
       "      <td>1</td>\n",
       "      <td>1</td>\n",
       "      <td>1</td>\n",
       "      <td>1</td>\n",
       "      <td>2</td>\n",
       "      <td>2</td>\n",
       "    </tr>\n",
       "  </tbody>\n",
       "</table>\n",
       "</div>"
      ],
      "text/plain": [
       "              Date     Price      Open      High       Low   Vol. Change %\n",
       "count          141       141       141       141       141    140      141\n",
       "unique         141       141       141       141       141    130      134\n",
       "top     01-09-2024  1,251.71  1,283.87  1,283.87  1,244.79  2.80M    4.72%\n",
       "freq             1         1         1         1         1      2        2"
      ]
     },
     "execution_count": 39,
     "metadata": {},
     "output_type": "execute_result"
    }
   ],
   "source": [
    "df_day.describe()"
   ]
  },
  {
   "cell_type": "code",
   "execution_count": 40,
   "metadata": {},
   "outputs": [],
   "source": [
    "df_day.isnull().sum()\n",
    "df_day.fillna(0, inplace=True)"
   ]
  },
  {
   "cell_type": "code",
   "execution_count": 41,
   "metadata": {},
   "outputs": [],
   "source": [
    "df_day['Date']=pd.to_datetime(df_day['Date'])\n",
    "df_day['Year'] = df_day['Date'].dt.year\n",
    "#df_day=df_day.set_index('Date')\n",
    "df_day['Price'] = df_day['Price'].str.replace(',', '').astype(float)\n",
    "df_day['Open'] = df_day['Open'].str.replace(',', '').astype(float)\n",
    "df_day['High'] = df_day['High'].str.replace(',', '').astype(float)\n",
    "df_day['Low'] = df_day['Low'].str.replace(',', '').astype(float)\n",
    "df_day['Change %'] = df_day['Change %'].str.replace('%', '').astype(float)\n",
    "df_day['Volume'] = df_day['Vol.'].replace({'B': '*1e9', 'M': '*1e6', 'K':'*1e3'}, regex=True).map(pd.eval).astype(float)\n",
    "df_day['Volume'] = df_day['Volume'].apply(lambda x: f\"{x:,.0f}\")  # Định dạng số với dấu phẩy"
   ]
  },
  {
   "cell_type": "code",
   "execution_count": 44,
   "metadata": {},
   "outputs": [
    {
     "data": {
      "application/vnd.plotly.v1+json": {
       "config": {
        "plotlyServerURL": "https://plot.ly"
       },
       "data": [
        {
         "line": {
          "color": "black"
         },
         "mode": "lines",
         "name": "Giá cổ phiếu",
         "type": "scatter",
         "x": [
          "2024-09-01T00:00:00",
          "2024-08-01T00:00:00",
          "2024-07-01T00:00:00",
          "2024-06-01T00:00:00",
          "2024-05-01T00:00:00",
          "2024-04-01T00:00:00",
          "2024-03-01T00:00:00",
          "2024-02-01T00:00:00",
          "2024-01-01T00:00:00",
          "2023-12-01T00:00:00",
          "2023-11-01T00:00:00",
          "2023-10-01T00:00:00",
          "2023-09-01T00:00:00",
          "2023-08-01T00:00:00",
          "2023-07-01T00:00:00",
          "2023-06-01T00:00:00",
          "2023-05-01T00:00:00",
          "2023-04-01T00:00:00",
          "2023-03-01T00:00:00",
          "2023-02-01T00:00:00",
          "2023-01-01T00:00:00",
          "2022-12-01T00:00:00",
          "2022-11-01T00:00:00",
          "2022-10-01T00:00:00",
          "2022-09-01T00:00:00",
          "2022-08-01T00:00:00",
          "2022-07-01T00:00:00",
          "2022-06-01T00:00:00",
          "2022-05-01T00:00:00",
          "2022-04-01T00:00:00",
          "2022-03-01T00:00:00",
          "2022-02-01T00:00:00",
          "2022-01-01T00:00:00",
          "2021-12-01T00:00:00",
          "2021-11-01T00:00:00",
          "2021-10-01T00:00:00",
          "2021-09-01T00:00:00",
          "2021-08-01T00:00:00",
          "2021-07-01T00:00:00",
          "2021-06-01T00:00:00",
          "2021-05-01T00:00:00",
          "2021-04-01T00:00:00",
          "2021-03-01T00:00:00",
          "2021-02-01T00:00:00",
          "2021-01-01T00:00:00",
          "2020-12-01T00:00:00",
          "2020-11-01T00:00:00",
          "2020-10-01T00:00:00",
          "2020-09-01T00:00:00",
          "2020-08-01T00:00:00",
          "2020-07-01T00:00:00",
          "2020-06-01T00:00:00",
          "2020-05-01T00:00:00",
          "2020-04-01T00:00:00",
          "2020-03-01T00:00:00",
          "2020-02-01T00:00:00",
          "2020-01-01T00:00:00",
          "2019-12-01T00:00:00",
          "2019-11-01T00:00:00",
          "2019-10-01T00:00:00",
          "2019-09-01T00:00:00",
          "2019-08-01T00:00:00",
          "2019-07-01T00:00:00",
          "2019-06-01T00:00:00",
          "2019-05-01T00:00:00",
          "2019-04-01T00:00:00",
          "2019-03-01T00:00:00",
          "2019-02-01T00:00:00",
          "2019-01-01T00:00:00",
          "2018-12-01T00:00:00",
          "2018-11-01T00:00:00",
          "2018-10-01T00:00:00",
          "2018-09-01T00:00:00",
          "2018-08-01T00:00:00",
          "2018-07-01T00:00:00",
          "2018-06-01T00:00:00",
          "2018-05-01T00:00:00",
          "2018-04-01T00:00:00",
          "2018-03-01T00:00:00",
          "2018-02-01T00:00:00",
          "2018-01-01T00:00:00",
          "2017-12-01T00:00:00",
          "2017-11-01T00:00:00",
          "2017-10-01T00:00:00",
          "2017-09-01T00:00:00",
          "2017-08-01T00:00:00",
          "2017-07-01T00:00:00",
          "2017-06-01T00:00:00",
          "2017-05-01T00:00:00",
          "2017-04-01T00:00:00",
          "2017-03-01T00:00:00",
          "2017-02-01T00:00:00",
          "2017-01-01T00:00:00",
          "2016-12-01T00:00:00",
          "2016-11-01T00:00:00",
          "2016-10-01T00:00:00",
          "2016-09-01T00:00:00",
          "2016-08-01T00:00:00",
          "2016-07-01T00:00:00",
          "2016-06-01T00:00:00",
          "2016-05-01T00:00:00",
          "2016-04-01T00:00:00",
          "2016-03-01T00:00:00",
          "2016-02-01T00:00:00",
          "2016-01-01T00:00:00",
          "2015-12-01T00:00:00",
          "2015-11-01T00:00:00",
          "2015-10-01T00:00:00",
          "2015-09-01T00:00:00",
          "2015-08-01T00:00:00",
          "2015-07-01T00:00:00",
          "2015-06-01T00:00:00",
          "2015-05-01T00:00:00",
          "2015-04-01T00:00:00",
          "2015-03-01T00:00:00",
          "2015-02-01T00:00:00",
          "2015-01-01T00:00:00",
          "2014-12-01T00:00:00",
          "2014-11-01T00:00:00",
          "2014-10-01T00:00:00",
          "2014-09-01T00:00:00",
          "2014-08-01T00:00:00",
          "2014-07-01T00:00:00",
          "2014-06-01T00:00:00",
          "2014-05-01T00:00:00",
          "2014-04-01T00:00:00",
          "2014-03-01T00:00:00",
          "2014-02-01T00:00:00",
          "2014-01-01T00:00:00",
          "2013-12-01T00:00:00",
          "2013-11-01T00:00:00",
          "2013-10-01T00:00:00",
          "2013-09-01T00:00:00",
          "2013-08-01T00:00:00",
          "2013-07-01T00:00:00",
          "2013-06-01T00:00:00",
          "2013-05-01T00:00:00",
          "2013-04-01T00:00:00",
          "2013-03-01T00:00:00",
          "2013-02-01T00:00:00",
          "2013-01-01T00:00:00"
         ],
         "y": [
          1251.71,
          1283.87,
          1251.51,
          1245.32,
          1261.72,
          1209.52,
          1284.09,
          1252.73,
          1164.31,
          1129.93,
          1094.13,
          1028.19,
          1154.15,
          1224.05,
          1222.9,
          1120.18,
          1075.17,
          1049.12,
          1064.64,
          1024.68,
          1111.18,
          1007.09,
          1048.42,
          1027.94,
          1132.11,
          1280.51,
          1206.33,
          1197.6,
          1292.68,
          1366.8,
          1492.15,
          1490.13,
          1478.96,
          1498.28,
          1478.44,
          1444.27,
          1342.06,
          1331.47,
          1310.05,
          1408.55,
          1328.05,
          1239.39,
          1191.44,
          1168.47,
          1056.61,
          1103.87,
          1003.08,
          925.47,
          905.21,
          881.65,
          798.39,
          825.11,
          864.47,
          769.11,
          662.53,
          882.19,
          936.62,
          960.99,
          970.75,
          998.82,
          996.56,
          984.06,
          991.66,
          949.94,
          959.88,
          979.64,
          980.76,
          965.47,
          910.65,
          892.54,
          926.54,
          914.76,
          1017.13,
          989.54,
          956.39,
          960.78,
          971.25,
          1050.26,
          1174.46,
          1121.54,
          1110.36,
          984.24,
          949.93,
          837.28,
          804.42,
          782.76,
          783.55,
          776.47,
          737.82,
          717.73,
          722.31,
          710.79,
          697.28,
          664.87,
          665.07,
          675.8,
          685.73,
          674.63,
          652.23,
          632.26,
          618.44,
          598.37,
          561.22,
          559.37,
          545.25,
          579.03,
          573.2,
          607.37,
          562.64,
          564.75,
          621.06,
          593.05,
          569.56,
          562.4,
          551.13,
          592.57,
          576.07,
          545.63,
          566.58,
          600.84,
          598.8,
          636.65,
          596.07,
          578.13,
          562.02,
          578,
          591.57,
          586.48,
          556.52,
          504.63,
          507.78,
          497.41,
          492.63,
          472.7,
          491.85,
          481.13,
          518.39,
          474.51,
          491.04,
          474.56,
          479.79
         ]
        },
        {
         "marker": {
          "color": "green",
          "size": 8
         },
         "mode": "markers",
         "name": "Tăng",
         "type": "scatter",
         "x": [
          "2024-08-01T00:00:00",
          "2024-05-01T00:00:00",
          "2024-03-01T00:00:00",
          "2023-09-01T00:00:00",
          "2023-08-01T00:00:00",
          "2023-03-01T00:00:00",
          "2023-01-01T00:00:00",
          "2022-11-01T00:00:00",
          "2022-09-01T00:00:00",
          "2022-08-01T00:00:00",
          "2022-05-01T00:00:00",
          "2022-04-01T00:00:00",
          "2022-03-01T00:00:00",
          "2021-12-01T00:00:00",
          "2021-06-01T00:00:00",
          "2020-12-01T00:00:00",
          "2020-06-01T00:00:00",
          "2020-05-01T00:00:00",
          "2020-02-01T00:00:00",
          "2020-01-01T00:00:00",
          "2019-12-01T00:00:00",
          "2019-11-01T00:00:00",
          "2019-10-01T00:00:00",
          "2019-07-01T00:00:00",
          "2019-05-01T00:00:00",
          "2019-04-01T00:00:00",
          "2019-03-01T00:00:00",
          "2018-11-01T00:00:00",
          "2018-09-01T00:00:00",
          "2018-06-01T00:00:00",
          "2018-05-01T00:00:00",
          "2018-04-01T00:00:00",
          "2018-03-01T00:00:00",
          "2017-07-01T00:00:00",
          "2017-03-01T00:00:00",
          "2016-11-01T00:00:00",
          "2016-10-01T00:00:00",
          "2016-09-01T00:00:00",
          "2015-12-01T00:00:00",
          "2015-10-01T00:00:00",
          "2015-08-01T00:00:00",
          "2015-07-01T00:00:00",
          "2015-02-01T00:00:00",
          "2014-11-01T00:00:00",
          "2014-10-01T00:00:00",
          "2014-08-01T00:00:00",
          "2014-04-01T00:00:00",
          "2014-03-01T00:00:00",
          "2013-11-01T00:00:00",
          "2013-07-01T00:00:00",
          "2013-05-01T00:00:00",
          "2013-03-01T00:00:00",
          "2013-01-01T00:00:00"
         ],
         "y": [
          1283.87,
          1261.72,
          1284.09,
          1154.15,
          1224.05,
          1064.64,
          1111.18,
          1048.42,
          1132.11,
          1280.51,
          1292.68,
          1366.8,
          1492.15,
          1498.28,
          1408.55,
          1103.87,
          825.11,
          864.47,
          882.19,
          936.62,
          960.99,
          970.75,
          998.82,
          991.66,
          959.88,
          979.64,
          980.76,
          926.54,
          1017.13,
          960.78,
          971.25,
          1050.26,
          1174.46,
          783.55,
          722.31,
          665.07,
          675.8,
          685.73,
          579.03,
          607.37,
          564.75,
          621.06,
          592.57,
          566.58,
          600.84,
          636.65,
          578,
          591.57,
          507.78,
          491.85,
          518.39,
          491.04,
          479.79
         ]
        },
        {
         "marker": {
          "color": "red",
          "size": 8
         },
         "mode": "markers",
         "name": "Giảm",
         "type": "scatter",
         "x": [
          "2024-07-01T00:00:00",
          "2024-06-01T00:00:00",
          "2024-04-01T00:00:00",
          "2024-02-01T00:00:00",
          "2024-01-01T00:00:00",
          "2023-12-01T00:00:00",
          "2023-11-01T00:00:00",
          "2023-10-01T00:00:00",
          "2023-07-01T00:00:00",
          "2023-06-01T00:00:00",
          "2023-05-01T00:00:00",
          "2023-04-01T00:00:00",
          "2023-02-01T00:00:00",
          "2022-12-01T00:00:00",
          "2022-10-01T00:00:00",
          "2022-07-01T00:00:00",
          "2022-06-01T00:00:00",
          "2022-02-01T00:00:00",
          "2022-01-01T00:00:00",
          "2021-11-01T00:00:00",
          "2021-10-01T00:00:00",
          "2021-09-01T00:00:00",
          "2021-08-01T00:00:00",
          "2021-07-01T00:00:00",
          "2021-05-01T00:00:00",
          "2021-04-01T00:00:00",
          "2021-03-01T00:00:00",
          "2021-02-01T00:00:00",
          "2021-01-01T00:00:00",
          "2020-11-01T00:00:00",
          "2020-10-01T00:00:00",
          "2020-09-01T00:00:00",
          "2020-08-01T00:00:00",
          "2020-07-01T00:00:00",
          "2020-04-01T00:00:00",
          "2020-03-01T00:00:00",
          "2019-09-01T00:00:00",
          "2019-08-01T00:00:00",
          "2019-06-01T00:00:00",
          "2019-02-01T00:00:00",
          "2019-01-01T00:00:00",
          "2018-12-01T00:00:00",
          "2018-10-01T00:00:00",
          "2018-08-01T00:00:00",
          "2018-07-01T00:00:00",
          "2018-02-01T00:00:00",
          "2018-01-01T00:00:00",
          "2017-12-01T00:00:00",
          "2017-11-01T00:00:00",
          "2017-10-01T00:00:00",
          "2017-09-01T00:00:00",
          "2017-08-01T00:00:00",
          "2017-06-01T00:00:00",
          "2017-05-01T00:00:00",
          "2017-04-01T00:00:00",
          "2017-02-01T00:00:00",
          "2017-01-01T00:00:00",
          "2016-12-01T00:00:00",
          "2016-08-01T00:00:00",
          "2016-07-01T00:00:00",
          "2016-06-01T00:00:00",
          "2016-05-01T00:00:00",
          "2016-04-01T00:00:00",
          "2016-03-01T00:00:00",
          "2016-02-01T00:00:00",
          "2016-01-01T00:00:00",
          "2015-11-01T00:00:00",
          "2015-09-01T00:00:00",
          "2015-06-01T00:00:00",
          "2015-05-01T00:00:00",
          "2015-04-01T00:00:00",
          "2015-03-01T00:00:00",
          "2015-01-01T00:00:00",
          "2014-12-01T00:00:00",
          "2014-09-01T00:00:00",
          "2014-07-01T00:00:00",
          "2014-06-01T00:00:00",
          "2014-05-01T00:00:00",
          "2014-02-01T00:00:00",
          "2014-01-01T00:00:00",
          "2013-12-01T00:00:00",
          "2013-10-01T00:00:00",
          "2013-09-01T00:00:00",
          "2013-08-01T00:00:00",
          "2013-06-01T00:00:00",
          "2013-04-01T00:00:00",
          "2013-02-01T00:00:00"
         ],
         "y": [
          1251.51,
          1245.32,
          1209.52,
          1252.73,
          1164.31,
          1129.93,
          1094.13,
          1028.19,
          1222.9,
          1120.18,
          1075.17,
          1049.12,
          1024.68,
          1007.09,
          1027.94,
          1206.33,
          1197.6,
          1490.13,
          1478.96,
          1478.44,
          1444.27,
          1342.06,
          1331.47,
          1310.05,
          1328.05,
          1239.39,
          1191.44,
          1168.47,
          1056.61,
          1003.08,
          925.47,
          905.21,
          881.65,
          798.39,
          769.11,
          662.53,
          996.56,
          984.06,
          949.94,
          965.47,
          910.65,
          892.54,
          914.76,
          989.54,
          956.39,
          1121.54,
          1110.36,
          984.24,
          949.93,
          837.28,
          804.42,
          782.76,
          776.47,
          737.82,
          717.73,
          710.79,
          697.28,
          664.87,
          674.63,
          652.23,
          632.26,
          618.44,
          598.37,
          561.22,
          559.37,
          545.25,
          573.2,
          562.64,
          593.05,
          569.56,
          562.4,
          551.13,
          576.07,
          545.63,
          598.8,
          596.07,
          578.13,
          562.02,
          586.48,
          556.52,
          504.63,
          497.41,
          492.63,
          472.7,
          481.13,
          474.51,
          474.56
         ]
        },
        {
         "marker": {
          "color": "blue",
          "size": 8
         },
         "mode": "markers",
         "name": "Đi ngang",
         "type": "scatter",
         "x": [
          "2024-09-01T00:00:00"
         ],
         "y": [
          1251.71
         ]
        }
       ],
       "layout": {
        "template": {
         "data": {
          "bar": [
           {
            "error_x": {
             "color": "#2a3f5f"
            },
            "error_y": {
             "color": "#2a3f5f"
            },
            "marker": {
             "line": {
              "color": "#E5ECF6",
              "width": 0.5
             },
             "pattern": {
              "fillmode": "overlay",
              "size": 10,
              "solidity": 0.2
             }
            },
            "type": "bar"
           }
          ],
          "barpolar": [
           {
            "marker": {
             "line": {
              "color": "#E5ECF6",
              "width": 0.5
             },
             "pattern": {
              "fillmode": "overlay",
              "size": 10,
              "solidity": 0.2
             }
            },
            "type": "barpolar"
           }
          ],
          "carpet": [
           {
            "aaxis": {
             "endlinecolor": "#2a3f5f",
             "gridcolor": "white",
             "linecolor": "white",
             "minorgridcolor": "white",
             "startlinecolor": "#2a3f5f"
            },
            "baxis": {
             "endlinecolor": "#2a3f5f",
             "gridcolor": "white",
             "linecolor": "white",
             "minorgridcolor": "white",
             "startlinecolor": "#2a3f5f"
            },
            "type": "carpet"
           }
          ],
          "choropleth": [
           {
            "colorbar": {
             "outlinewidth": 0,
             "ticks": ""
            },
            "type": "choropleth"
           }
          ],
          "contour": [
           {
            "colorbar": {
             "outlinewidth": 0,
             "ticks": ""
            },
            "colorscale": [
             [
              0,
              "#0d0887"
             ],
             [
              0.1111111111111111,
              "#46039f"
             ],
             [
              0.2222222222222222,
              "#7201a8"
             ],
             [
              0.3333333333333333,
              "#9c179e"
             ],
             [
              0.4444444444444444,
              "#bd3786"
             ],
             [
              0.5555555555555556,
              "#d8576b"
             ],
             [
              0.6666666666666666,
              "#ed7953"
             ],
             [
              0.7777777777777778,
              "#fb9f3a"
             ],
             [
              0.8888888888888888,
              "#fdca26"
             ],
             [
              1,
              "#f0f921"
             ]
            ],
            "type": "contour"
           }
          ],
          "contourcarpet": [
           {
            "colorbar": {
             "outlinewidth": 0,
             "ticks": ""
            },
            "type": "contourcarpet"
           }
          ],
          "heatmap": [
           {
            "colorbar": {
             "outlinewidth": 0,
             "ticks": ""
            },
            "colorscale": [
             [
              0,
              "#0d0887"
             ],
             [
              0.1111111111111111,
              "#46039f"
             ],
             [
              0.2222222222222222,
              "#7201a8"
             ],
             [
              0.3333333333333333,
              "#9c179e"
             ],
             [
              0.4444444444444444,
              "#bd3786"
             ],
             [
              0.5555555555555556,
              "#d8576b"
             ],
             [
              0.6666666666666666,
              "#ed7953"
             ],
             [
              0.7777777777777778,
              "#fb9f3a"
             ],
             [
              0.8888888888888888,
              "#fdca26"
             ],
             [
              1,
              "#f0f921"
             ]
            ],
            "type": "heatmap"
           }
          ],
          "heatmapgl": [
           {
            "colorbar": {
             "outlinewidth": 0,
             "ticks": ""
            },
            "colorscale": [
             [
              0,
              "#0d0887"
             ],
             [
              0.1111111111111111,
              "#46039f"
             ],
             [
              0.2222222222222222,
              "#7201a8"
             ],
             [
              0.3333333333333333,
              "#9c179e"
             ],
             [
              0.4444444444444444,
              "#bd3786"
             ],
             [
              0.5555555555555556,
              "#d8576b"
             ],
             [
              0.6666666666666666,
              "#ed7953"
             ],
             [
              0.7777777777777778,
              "#fb9f3a"
             ],
             [
              0.8888888888888888,
              "#fdca26"
             ],
             [
              1,
              "#f0f921"
             ]
            ],
            "type": "heatmapgl"
           }
          ],
          "histogram": [
           {
            "marker": {
             "pattern": {
              "fillmode": "overlay",
              "size": 10,
              "solidity": 0.2
             }
            },
            "type": "histogram"
           }
          ],
          "histogram2d": [
           {
            "colorbar": {
             "outlinewidth": 0,
             "ticks": ""
            },
            "colorscale": [
             [
              0,
              "#0d0887"
             ],
             [
              0.1111111111111111,
              "#46039f"
             ],
             [
              0.2222222222222222,
              "#7201a8"
             ],
             [
              0.3333333333333333,
              "#9c179e"
             ],
             [
              0.4444444444444444,
              "#bd3786"
             ],
             [
              0.5555555555555556,
              "#d8576b"
             ],
             [
              0.6666666666666666,
              "#ed7953"
             ],
             [
              0.7777777777777778,
              "#fb9f3a"
             ],
             [
              0.8888888888888888,
              "#fdca26"
             ],
             [
              1,
              "#f0f921"
             ]
            ],
            "type": "histogram2d"
           }
          ],
          "histogram2dcontour": [
           {
            "colorbar": {
             "outlinewidth": 0,
             "ticks": ""
            },
            "colorscale": [
             [
              0,
              "#0d0887"
             ],
             [
              0.1111111111111111,
              "#46039f"
             ],
             [
              0.2222222222222222,
              "#7201a8"
             ],
             [
              0.3333333333333333,
              "#9c179e"
             ],
             [
              0.4444444444444444,
              "#bd3786"
             ],
             [
              0.5555555555555556,
              "#d8576b"
             ],
             [
              0.6666666666666666,
              "#ed7953"
             ],
             [
              0.7777777777777778,
              "#fb9f3a"
             ],
             [
              0.8888888888888888,
              "#fdca26"
             ],
             [
              1,
              "#f0f921"
             ]
            ],
            "type": "histogram2dcontour"
           }
          ],
          "mesh3d": [
           {
            "colorbar": {
             "outlinewidth": 0,
             "ticks": ""
            },
            "type": "mesh3d"
           }
          ],
          "parcoords": [
           {
            "line": {
             "colorbar": {
              "outlinewidth": 0,
              "ticks": ""
             }
            },
            "type": "parcoords"
           }
          ],
          "pie": [
           {
            "automargin": true,
            "type": "pie"
           }
          ],
          "scatter": [
           {
            "fillpattern": {
             "fillmode": "overlay",
             "size": 10,
             "solidity": 0.2
            },
            "type": "scatter"
           }
          ],
          "scatter3d": [
           {
            "line": {
             "colorbar": {
              "outlinewidth": 0,
              "ticks": ""
             }
            },
            "marker": {
             "colorbar": {
              "outlinewidth": 0,
              "ticks": ""
             }
            },
            "type": "scatter3d"
           }
          ],
          "scattercarpet": [
           {
            "marker": {
             "colorbar": {
              "outlinewidth": 0,
              "ticks": ""
             }
            },
            "type": "scattercarpet"
           }
          ],
          "scattergeo": [
           {
            "marker": {
             "colorbar": {
              "outlinewidth": 0,
              "ticks": ""
             }
            },
            "type": "scattergeo"
           }
          ],
          "scattergl": [
           {
            "marker": {
             "colorbar": {
              "outlinewidth": 0,
              "ticks": ""
             }
            },
            "type": "scattergl"
           }
          ],
          "scattermapbox": [
           {
            "marker": {
             "colorbar": {
              "outlinewidth": 0,
              "ticks": ""
             }
            },
            "type": "scattermapbox"
           }
          ],
          "scatterpolar": [
           {
            "marker": {
             "colorbar": {
              "outlinewidth": 0,
              "ticks": ""
             }
            },
            "type": "scatterpolar"
           }
          ],
          "scatterpolargl": [
           {
            "marker": {
             "colorbar": {
              "outlinewidth": 0,
              "ticks": ""
             }
            },
            "type": "scatterpolargl"
           }
          ],
          "scatterternary": [
           {
            "marker": {
             "colorbar": {
              "outlinewidth": 0,
              "ticks": ""
             }
            },
            "type": "scatterternary"
           }
          ],
          "surface": [
           {
            "colorbar": {
             "outlinewidth": 0,
             "ticks": ""
            },
            "colorscale": [
             [
              0,
              "#0d0887"
             ],
             [
              0.1111111111111111,
              "#46039f"
             ],
             [
              0.2222222222222222,
              "#7201a8"
             ],
             [
              0.3333333333333333,
              "#9c179e"
             ],
             [
              0.4444444444444444,
              "#bd3786"
             ],
             [
              0.5555555555555556,
              "#d8576b"
             ],
             [
              0.6666666666666666,
              "#ed7953"
             ],
             [
              0.7777777777777778,
              "#fb9f3a"
             ],
             [
              0.8888888888888888,
              "#fdca26"
             ],
             [
              1,
              "#f0f921"
             ]
            ],
            "type": "surface"
           }
          ],
          "table": [
           {
            "cells": {
             "fill": {
              "color": "#EBF0F8"
             },
             "line": {
              "color": "white"
             }
            },
            "header": {
             "fill": {
              "color": "#C8D4E3"
             },
             "line": {
              "color": "white"
             }
            },
            "type": "table"
           }
          ]
         },
         "layout": {
          "annotationdefaults": {
           "arrowcolor": "#2a3f5f",
           "arrowhead": 0,
           "arrowwidth": 1
          },
          "autotypenumbers": "strict",
          "coloraxis": {
           "colorbar": {
            "outlinewidth": 0,
            "ticks": ""
           }
          },
          "colorscale": {
           "diverging": [
            [
             0,
             "#8e0152"
            ],
            [
             0.1,
             "#c51b7d"
            ],
            [
             0.2,
             "#de77ae"
            ],
            [
             0.3,
             "#f1b6da"
            ],
            [
             0.4,
             "#fde0ef"
            ],
            [
             0.5,
             "#f7f7f7"
            ],
            [
             0.6,
             "#e6f5d0"
            ],
            [
             0.7,
             "#b8e186"
            ],
            [
             0.8,
             "#7fbc41"
            ],
            [
             0.9,
             "#4d9221"
            ],
            [
             1,
             "#276419"
            ]
           ],
           "sequential": [
            [
             0,
             "#0d0887"
            ],
            [
             0.1111111111111111,
             "#46039f"
            ],
            [
             0.2222222222222222,
             "#7201a8"
            ],
            [
             0.3333333333333333,
             "#9c179e"
            ],
            [
             0.4444444444444444,
             "#bd3786"
            ],
            [
             0.5555555555555556,
             "#d8576b"
            ],
            [
             0.6666666666666666,
             "#ed7953"
            ],
            [
             0.7777777777777778,
             "#fb9f3a"
            ],
            [
             0.8888888888888888,
             "#fdca26"
            ],
            [
             1,
             "#f0f921"
            ]
           ],
           "sequentialminus": [
            [
             0,
             "#0d0887"
            ],
            [
             0.1111111111111111,
             "#46039f"
            ],
            [
             0.2222222222222222,
             "#7201a8"
            ],
            [
             0.3333333333333333,
             "#9c179e"
            ],
            [
             0.4444444444444444,
             "#bd3786"
            ],
            [
             0.5555555555555556,
             "#d8576b"
            ],
            [
             0.6666666666666666,
             "#ed7953"
            ],
            [
             0.7777777777777778,
             "#fb9f3a"
            ],
            [
             0.8888888888888888,
             "#fdca26"
            ],
            [
             1,
             "#f0f921"
            ]
           ]
          },
          "colorway": [
           "#636efa",
           "#EF553B",
           "#00cc96",
           "#ab63fa",
           "#FFA15A",
           "#19d3f3",
           "#FF6692",
           "#B6E880",
           "#FF97FF",
           "#FECB52"
          ],
          "font": {
           "color": "#2a3f5f"
          },
          "geo": {
           "bgcolor": "white",
           "lakecolor": "white",
           "landcolor": "#E5ECF6",
           "showlakes": true,
           "showland": true,
           "subunitcolor": "white"
          },
          "hoverlabel": {
           "align": "left"
          },
          "hovermode": "closest",
          "mapbox": {
           "style": "light"
          },
          "paper_bgcolor": "white",
          "plot_bgcolor": "#E5ECF6",
          "polar": {
           "angularaxis": {
            "gridcolor": "white",
            "linecolor": "white",
            "ticks": ""
           },
           "bgcolor": "#E5ECF6",
           "radialaxis": {
            "gridcolor": "white",
            "linecolor": "white",
            "ticks": ""
           }
          },
          "scene": {
           "xaxis": {
            "backgroundcolor": "#E5ECF6",
            "gridcolor": "white",
            "gridwidth": 2,
            "linecolor": "white",
            "showbackground": true,
            "ticks": "",
            "zerolinecolor": "white"
           },
           "yaxis": {
            "backgroundcolor": "#E5ECF6",
            "gridcolor": "white",
            "gridwidth": 2,
            "linecolor": "white",
            "showbackground": true,
            "ticks": "",
            "zerolinecolor": "white"
           },
           "zaxis": {
            "backgroundcolor": "#E5ECF6",
            "gridcolor": "white",
            "gridwidth": 2,
            "linecolor": "white",
            "showbackground": true,
            "ticks": "",
            "zerolinecolor": "white"
           }
          },
          "shapedefaults": {
           "line": {
            "color": "#2a3f5f"
           }
          },
          "ternary": {
           "aaxis": {
            "gridcolor": "white",
            "linecolor": "white",
            "ticks": ""
           },
           "baxis": {
            "gridcolor": "white",
            "linecolor": "white",
            "ticks": ""
           },
           "bgcolor": "#E5ECF6",
           "caxis": {
            "gridcolor": "white",
            "linecolor": "white",
            "ticks": ""
           }
          },
          "title": {
           "x": 0.05
          },
          "xaxis": {
           "automargin": true,
           "gridcolor": "white",
           "linecolor": "white",
           "ticks": "",
           "title": {
            "standoff": 15
           },
           "zerolinecolor": "white",
           "zerolinewidth": 2
          },
          "yaxis": {
           "automargin": true,
           "gridcolor": "white",
           "linecolor": "white",
           "ticks": "",
           "title": {
            "standoff": 15
           },
           "zerolinecolor": "white",
           "zerolinewidth": 2
          }
         }
        },
        "title": {
         "text": "Trạng thái thị trường cổ phiếu"
        },
        "xaxis": {
         "title": {
          "text": "Ngày"
         }
        },
        "yaxis": {
         "title": {
          "text": "Giá cổ phiếu"
         }
        }
       }
      }
     },
     "metadata": {},
     "output_type": "display_data"
    }
   ],
   "source": [
    "df['Market_State'] = 'Đi ngang'\n",
    "df.loc[df['Price'] > df['Price'].shift(1), 'Market_State'] = 'Tăng'\n",
    "df.loc[df['Price'] < df['Price'].shift(1), 'Market_State'] = 'Giảm'\n",
    "\n",
    "fig = go.Figure()\n",
    "\n",
    "colors = {'Tăng': 'green', 'Giảm': 'red', 'Đi ngang': 'blue'}\n",
    "fig.add_trace(go.Scatter(x=df['Date'], y=df['Price'], mode='lines', name='Giá cổ phiếu', line=dict(color='black')))\n",
    "\n",
    "for state in colors.keys():\n",
    "    filtered_df = df[df['Market_State'] == state]\n",
    "    fig.add_trace(go.Scatter(x=filtered_df['Date'], y=filtered_df['Price'], mode='markers', name=state,\n",
    "                             marker=dict(color=colors[state], size=8)))\n",
    "\n",
    "fig.update_layout(title='Trạng thái thị trường cổ phiếu',\n",
    "                  xaxis_title='Ngày',\n",
    "                  yaxis_title='Giá cổ phiếu')\n",
    "\n",
    "fig.show()"
   ]
  }
 ],
 "metadata": {
  "kernelspec": {
   "display_name": "Python 3",
   "language": "python",
   "name": "python3"
  },
  "language_info": {
   "codemirror_mode": {
    "name": "ipython",
    "version": 3
   },
   "file_extension": ".py",
   "mimetype": "text/x-python",
   "name": "python",
   "nbconvert_exporter": "python",
   "pygments_lexer": "ipython3",
   "version": "3.11.6"
  }
 },
 "nbformat": 4,
 "nbformat_minor": 2
}
